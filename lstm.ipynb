{
 "cells": [
  {
   "cell_type": "markdown",
   "metadata": {},
   "source": [
    "### Load the Libraries and Initialize the GPU"
   ]
  },
  {
   "cell_type": "code",
   "execution_count": 2,
   "metadata": {},
   "outputs": [
    {
     "data": {
      "text/plain": [
       "<torch._C.Generator at 0x7fbfd7f3bdd0>"
      ]
     },
     "execution_count": 2,
     "metadata": {},
     "output_type": "execute_result"
    }
   ],
   "source": [
    "import torch\n",
    "import torch.nn as nn\n",
    "import torch.optim as optim\n",
    "import torch.nn.functional as F\n",
    "import pandas as pd\n",
    "\n",
    "import wandb\n",
    "\n",
    "import numpy as np\n",
    "import torch.utils.data as data\n",
    "from torch.utils.data import DataLoader, TensorDataset\n",
    "\n",
    "import matplotlib.pyplot as plt\n",
    "\n",
    "\n",
    "from tqdm import tqdm\n",
    "\n",
    "import plotly.graph_objs as go\n",
    "from plotly.subplots import make_subplots\n",
    "\n",
    "import matplotlib.pyplot as plt\n",
    "\n",
    "from sklearn.preprocessing import MinMaxScaler, RobustScaler\n",
    "\n",
    "from sklearn.metrics import mean_squared_error, mean_absolute_error\n",
    "device = torch.device('cuda' if torch.cuda.is_available() else 'cpu')\n",
    "torch.manual_seed(0)"
   ]
  },
  {
   "cell_type": "markdown",
   "metadata": {},
   "source": [
    "### Wand\n"
   ]
  },
  {
   "cell_type": "code",
   "execution_count": 3,
   "metadata": {},
   "outputs": [
    {
     "name": "stderr",
     "output_type": "stream",
     "text": [
      "Failed to detect the name of this notebook, you can set it manually with the WANDB_NOTEBOOK_NAME environment variable to enable code saving.\n"
     ]
    },
    {
     "data": {
      "text/plain": []
     },
     "execution_count": 3,
     "metadata": {},
     "output_type": "execute_result"
    }
   ],
   "source": [
    "wandb.login()\n",
    "\n",
    "wandb.init(project='dissertation',\n",
    "           name='Test',\n",
    "           entity='tomchow')"
   ]
  },
  {
   "cell_type": "markdown",
   "metadata": {},
   "source": [
    "### Load Data"
   ]
  },
  {
   "cell_type": "code",
   "execution_count": 4,
   "metadata": {},
   "outputs": [],
   "source": [
    "iv_data = pd.read_csv('./Data/iv_data_nifty.csv')\n",
    "# data\n",
    "# data['Market Direction'] = np.where(data['Price'] < data['Price'].shift(-1), 1, 0)\n",
    "# data.to_csv('./Data/iv_data_nifty.csv')\n",
    "# data.head(5)"
   ]
  },
  {
   "cell_type": "code",
   "execution_count": 5,
   "metadata": {},
   "outputs": [
    {
     "name": "stdout",
     "output_type": "stream",
     "text": [
      "Null Count Datetime       0\n",
      "Expiry         0\n",
      "Price          0\n",
      "IV_ITM_5    5333\n",
      "IV_ITM_4    3116\n",
      "IV_ITM_3    1398\n",
      "IV_ITM_2     339\n",
      "IV_ITM_1      59\n",
      "IV_ATM        34\n",
      "IV_OTM_1      69\n",
      "IV_OTM_2     314\n",
      "IV_OTM_3    1417\n",
      "IV_OTM_4    3317\n",
      "IV_OTM_5    5751\n",
      "dtype: int64\n",
      "Null Count IV_ITM_5    0\n",
      "IV_ITM_4    0\n",
      "IV_ITM_3    0\n",
      "IV_ITM_2    0\n",
      "IV_ITM_1    0\n",
      "IV_ATM      0\n",
      "IV_OTM_1    0\n",
      "IV_OTM_2    0\n",
      "IV_OTM_3    0\n",
      "IV_OTM_4    0\n",
      "IV_OTM_5    0\n",
      "dtype: int64\n"
     ]
    },
    {
     "name": "stderr",
     "output_type": "stream",
     "text": [
      "/tmp/ipykernel_1022/782826378.py:11: FutureWarning: DataFrame.interpolate with object dtype is deprecated and will raise in a future version. Call obj.infer_objects(copy=False) before interpolating instead.\n",
      "  data = data.interpolate(method='linear')\n"
     ]
    }
   ],
   "source": [
    "data = iv_data[['Datetime', 'Expiry', 'Price', 'IV_ITM_5', 'IV_ITM_4', 'IV_ITM_3', 'IV_ITM_2', 'IV_ITM_1', 'IV_ATM', 'IV_OTM_1', 'IV_OTM_2', 'IV_OTM_3', 'IV_OTM_4', 'IV_OTM_5']]\n",
    "data = data.replace(0, np.nan)\n",
    "print('Null Count',data.isnull().sum())\n",
    "# labels = iv_data['Market Direction'].values.astype('int')\n",
    "# print('Null Count Labels',labels.isnull().sum())\n",
    "\n",
    "\n",
    "# data = iv_data #iv_data[['IV_ATM']]  #data[['Price']]\n",
    "# print(type(data))   \n",
    "\n",
    "data = data.interpolate(method='linear')\n",
    "data.dropna(inplace=True)\n",
    "dates = data[['Datetime', 'Expiry']]\n",
    "data = data[['IV_ITM_5', 'IV_ITM_4', 'IV_ITM_3', 'IV_ITM_2', 'IV_ITM_1', 'IV_ATM', 'IV_OTM_1', 'IV_OTM_2', 'IV_OTM_3', 'IV_OTM_4', 'IV_OTM_5']]\n",
    "\n",
    "\n",
    "print('Null Count',data.isnull().sum())\n",
    "\n",
    "# print(data.eq(0).sum())\n",
    "data = data.values.astype('float32')\n",
    "\n",
    "# print('Data and Label', data.shape, labels.shape)\n",
    "# print(labels[:5])"
   ]
  },
  {
   "cell_type": "markdown",
   "metadata": {},
   "source": [
    "### Train-Test Split"
   ]
  },
  {
   "cell_type": "code",
   "execution_count": 6,
   "metadata": {},
   "outputs": [
    {
     "name": "stdout",
     "output_type": "stream",
     "text": [
      "(22596, 11) (9685, 11)\n"
     ]
    }
   ],
   "source": [
    "# train-test split for time series\n",
    "train_size = int(len(data) * 0.70)\n",
    "test_size = len(data) - train_size\n",
    "\n",
    "train_dates = dates[:train_size]\n",
    "test_dates = dates[train_size:]\n",
    "\n",
    "\n",
    "# train_X, train_y = data[:train_size], labels[:train_size]\n",
    "# test_X, test_y = data[train_size:], labels[train_size:]\n",
    "\n",
    "train_data = data[:train_size]  #, labels[:train_size]\n",
    "test_data = data[train_size:] #, labels[train_size:]\n",
    "\n",
    "\n",
    "print(train_data.shape, test_data.shape)"
   ]
  },
  {
   "cell_type": "markdown",
   "metadata": {},
   "source": [
    "### Scaling"
   ]
  },
  {
   "cell_type": "code",
   "execution_count": 7,
   "metadata": {},
   "outputs": [],
   "source": [
    "# scale the data\n",
    "scaler = MinMaxScaler(feature_range=(0, 1)) # RobustScaler() \n",
    "scaler.fit(train_data)\n",
    "\n",
    "train_data = scaler.transform(train_data)\n",
    "test_data = scaler.transform(test_data)"
   ]
  },
  {
   "cell_type": "code",
   "execution_count": 8,
   "metadata": {},
   "outputs": [
    {
     "data": {
      "text/plain": [
       "[<matplotlib.lines.Line2D at 0x7fbec2930ef0>]"
      ]
     },
     "execution_count": 8,
     "metadata": {},
     "output_type": "execute_result"
    },
    {
     "data": {
      "image/png": "[encoded data removed]",
      "text/plain": [
       "<Figure size 640x480 with 1 Axes>"
      ]
     },
     "metadata": {},
     "output_type": "display_data"
    }
   ],
   "source": [
    "plt.plot(train_data[100:1000,10].reshape(-1))\n"
   ]
  },
  {
   "cell_type": "code",
   "execution_count": 9,
   "metadata": {},
   "outputs": [
    {
     "data": {
      "image/png": "[encoded data removed]",
      "text/plain": [
       "<Figure size 640x480 with 1 Axes>"
      ]
     },
     "metadata": {},
     "output_type": "display_data"
    },
    {
     "data": {
      "image/png": "[encoded data removed]",
      "text/plain": [
       "<Figure size 640x480 with 1 Axes>"
      ]
     },
     "metadata": {},
     "output_type": "display_data"
    }
   ],
   "source": [
    "# plt.plot(train_data.reshape(-1))\n",
    "# plt.plot(test_data.reshape(-1))\n",
    "\n",
    "plt.plot(train_data[:,0].reshape(-1))\n",
    "plt.plot(train_data[:,5].reshape(-1))\n",
    "plt.plot(train_data[:,10].reshape(-1))\n",
    "plt.legend(['Deep ITM', 'ATM', 'Deep OTM'])\n",
    "plt.show()\n",
    "\n",
    "plt.plot(test_data[:,0].reshape(-1))\n",
    "plt.plot(test_data[:,5].reshape(-1))\n",
    "plt.plot(test_data[:,10].reshape(-1))\n",
    "plt.legend(['Deep ITM', 'ATM', 'Deep OTM'])\n",
    "\n",
    "plt.show()"
   ]
  },
  {
   "cell_type": "markdown",
   "metadata": {},
   "source": [
    "### Dataset Class"
   ]
  },
  {
   "cell_type": "code",
   "execution_count": 10,
   "metadata": {},
   "outputs": [],
   "source": [
    "def create_dataset(dataset, n_lookback, n_forecast):\n",
    "    \"\"\"Transform a time series into a prediction dataset\n",
    "    \n",
    "    Args:\n",
    "        dataset: A numpy array of time series, first dimension is the time steps\n",
    "        n_lookback: Size of window for prediction\n",
    "    \"\"\"\n",
    "    X, y = [], []\n",
    "    for i in range(len(dataset)-n_lookback): \n",
    "        feature = dataset[i:i+n_lookback]\n",
    "        # target = dataset[i+1:i+n_lookback+1]\n",
    "        target = dataset[i+n_lookback:i+n_lookback+n_forecast]\n",
    "        X.append(feature)\n",
    "        y.append(target)\n",
    "    return torch.tensor(X), torch.tensor(y)\n",
    "\n"
   ]
  },
  {
   "cell_type": "code",
   "execution_count": 11,
   "metadata": {},
   "outputs": [
    {
     "name": "stderr",
     "output_type": "stream",
     "text": [
      "/tmp/ipykernel_1022/3929322628.py:15: UserWarning: Creating a tensor from a list of numpy.ndarrays is extremely slow. Please consider converting the list to a single numpy.ndarray with numpy.array() before converting to a tensor. (Triggered internally at ../torch/csrc/utils/tensor_new.cpp:274.)\n",
      "  return torch.tensor(X), torch.tensor(y)\n"
     ]
    },
    {
     "name": "stdout",
     "output_type": "stream",
     "text": [
      "torch.Size([22566, 30, 11]) torch.Size([22566, 1, 11])\n",
      "torch.Size([9655, 30, 11]) torch.Size([9655, 1, 11])\n"
     ]
    }
   ],
   "source": [
    "n_lookback = 30 ## last 30 mins IV\n",
    "\n",
    "n_forecast = 1\n",
    "\n",
    "##(window size, time steps, features))\n",
    "X_train, y_train = create_dataset(train_data, n_lookback=n_lookback, n_forecast=n_forecast)\n",
    "X_test, y_test = create_dataset(test_data, n_lookback=n_lookback, n_forecast=n_forecast)\n",
    "\n",
    "\n",
    "print(X_train.shape, y_train.shape)\n",
    "print(X_test.shape, y_test.shape)"
   ]
  },
  {
   "cell_type": "markdown",
   "metadata": {},
   "source": [
    "### Simple LSTM Model"
   ]
  },
  {
   "cell_type": "code",
   "execution_count": 12,
   "metadata": {},
   "outputs": [],
   "source": [
    "# LSTM\n",
    "\n",
    "# input_dim = 11\n",
    "hidden_dim = 64\n",
    "n_features = 11\n",
    "\n",
    "\n",
    "class Model(nn.Module):\n",
    "    def __init__(self):\n",
    "        super().__init__()\n",
    "        self.lstm = nn.LSTM(input_size=n_features, hidden_size=hidden_dim, num_layers=1, batch_first=True)\n",
    "        self.dropout = nn.Dropout(0.25)\n",
    "        self.linear = nn.Linear(hidden_dim, n_features) \n",
    "    def forward(self, x):\n",
    "        x, _ = self.lstm(x)\n",
    "        x = self.dropout(x)\n",
    "        # print('after LSTM',x.shape)\n",
    "        x = x[:, -1, :]  # (batch_size, n_lookback, hidden_dim) -> (batch_size, 1, hidden_dim)\n",
    "\n",
    "        x = self.linear(x) #.view(-1,  n_forecast, input_dim)\n",
    "        # print('after linear',x.shape)\n",
    "        # print(x.shape)\n",
    "        return x"
   ]
  },
  {
   "cell_type": "markdown",
   "metadata": {},
   "source": [
    "### Trainning"
   ]
  },
  {
   "cell_type": "code",
   "execution_count": 13,
   "metadata": {},
   "outputs": [],
   "source": [
    "batch_size = 64 ## Higher\n",
    "n_epochs = 100\n",
    "lr = 0.0001\n",
    "\n",
    " \n",
    "model = Model()\n",
    "model.to(device)\n",
    "optimizer = optim.Adam(model.parameters(), lr = lr)\n",
    "loss_fn = nn.MSELoss()\n",
    "\n",
    "## Dataloaders\n",
    "train_loader = DataLoader(TensorDataset(X_train, y_train), shuffle=True, batch_size=batch_size)\n",
    "# test_loader = DataLoader(TensorDataset(X_test, y_test), shuffle=False, batch_size=1)\n",
    " \n",
    "epoch_accuracies = []\n",
    "epoch_losses = []\n",
    "\n",
    "train_losses = []\n",
    "test_losses = []"
   ]
  },
  {
   "cell_type": "markdown",
   "metadata": {},
   "source": [
    "### Train"
   ]
  },
  {
   "cell_type": "code",
   "execution_count": 21,
   "metadata": {},
   "outputs": [
    {
     "name": "stderr",
     "output_type": "stream",
     "text": [
      "100%|██████████| 353/353 [00:06<00:00, 51.82it/s]\n"
     ]
    },
    {
     "name": "stdout",
     "output_type": "stream",
     "text": [
      "Epoch 0 Loss 0.0703\n"
     ]
    },
    {
     "name": "stderr",
     "output_type": "stream",
     "text": [
      "100%|██████████| 353/353 [00:05<00:00, 59.87it/s]\n"
     ]
    },
    {
     "name": "stdout",
     "output_type": "stream",
     "text": [
      "Epoch 1 Loss 0.0434\n"
     ]
    },
    {
     "name": "stderr",
     "output_type": "stream",
     "text": [
      "100%|██████████| 353/353 [00:05<00:00, 59.36it/s]\n"
     ]
    },
    {
     "name": "stdout",
     "output_type": "stream",
     "text": [
      "Epoch 2 Loss 0.0399\n"
     ]
    },
    {
     "name": "stderr",
     "output_type": "stream",
     "text": [
      "100%|██████████| 353/353 [00:05<00:00, 62.49it/s]\n"
     ]
    },
    {
     "name": "stdout",
     "output_type": "stream",
     "text": [
      "Epoch 3 Loss 0.0376\n"
     ]
    },
    {
     "name": "stderr",
     "output_type": "stream",
     "text": [
      "100%|██████████| 353/353 [00:05<00:00, 62.30it/s]\n"
     ]
    },
    {
     "name": "stdout",
     "output_type": "stream",
     "text": [
      "Epoch 4 Loss 0.0357\n"
     ]
    },
    {
     "name": "stderr",
     "output_type": "stream",
     "text": [
      "100%|██████████| 353/353 [00:05<00:00, 62.42it/s]\n"
     ]
    },
    {
     "name": "stdout",
     "output_type": "stream",
     "text": [
      "Epoch 5 Loss 0.0345\n"
     ]
    },
    {
     "name": "stderr",
     "output_type": "stream",
     "text": [
      "100%|██████████| 353/353 [00:06<00:00, 58.19it/s]\n"
     ]
    },
    {
     "name": "stdout",
     "output_type": "stream",
     "text": [
      "Epoch 6 Loss 0.0333\n"
     ]
    },
    {
     "name": "stderr",
     "output_type": "stream",
     "text": [
      "100%|██████████| 353/353 [00:05<00:00, 61.13it/s]\n"
     ]
    },
    {
     "name": "stdout",
     "output_type": "stream",
     "text": [
      "Epoch 7 Loss 0.0325\n"
     ]
    },
    {
     "name": "stderr",
     "output_type": "stream",
     "text": [
      "100%|██████████| 353/353 [00:05<00:00, 59.99it/s]\n"
     ]
    },
    {
     "name": "stdout",
     "output_type": "stream",
     "text": [
      "Epoch 8 Loss 0.0314\n"
     ]
    },
    {
     "name": "stderr",
     "output_type": "stream",
     "text": [
      "100%|██████████| 353/353 [00:06<00:00, 57.37it/s]\n"
     ]
    },
    {
     "name": "stdout",
     "output_type": "stream",
     "text": [
      "Epoch 9 Loss 0.0307\n"
     ]
    },
    {
     "name": "stderr",
     "output_type": "stream",
     "text": [
      "100%|██████████| 353/353 [00:05<00:00, 60.70it/s]\n"
     ]
    },
    {
     "name": "stdout",
     "output_type": "stream",
     "text": [
      "Epoch 10 Loss 0.0303\n"
     ]
    },
    {
     "name": "stderr",
     "output_type": "stream",
     "text": [
      "100%|██████████| 353/353 [00:06<00:00, 50.81it/s]\n"
     ]
    },
    {
     "name": "stdout",
     "output_type": "stream",
     "text": [
      "Epoch 11 Loss 0.0298\n"
     ]
    },
    {
     "name": "stderr",
     "output_type": "stream",
     "text": [
      "100%|██████████| 353/353 [00:06<00:00, 52.95it/s]\n"
     ]
    },
    {
     "name": "stdout",
     "output_type": "stream",
     "text": [
      "Epoch 12 Loss 0.0295\n"
     ]
    },
    {
     "name": "stderr",
     "output_type": "stream",
     "text": [
      "100%|██████████| 353/353 [00:06<00:00, 55.36it/s]\n"
     ]
    },
    {
     "name": "stdout",
     "output_type": "stream",
     "text": [
      "Epoch 13 Loss 0.0288\n"
     ]
    },
    {
     "name": "stderr",
     "output_type": "stream",
     "text": [
      "100%|██████████| 353/353 [00:06<00:00, 55.19it/s]\n"
     ]
    },
    {
     "name": "stdout",
     "output_type": "stream",
     "text": [
      "Epoch 14 Loss 0.0284\n"
     ]
    },
    {
     "name": "stderr",
     "output_type": "stream",
     "text": [
      "100%|██████████| 353/353 [00:06<00:00, 55.53it/s]\n"
     ]
    },
    {
     "name": "stdout",
     "output_type": "stream",
     "text": [
      "Epoch 15 Loss 0.0284\n"
     ]
    },
    {
     "name": "stderr",
     "output_type": "stream",
     "text": [
      "100%|██████████| 353/353 [00:06<00:00, 57.13it/s]\n"
     ]
    },
    {
     "name": "stdout",
     "output_type": "stream",
     "text": [
      "Epoch 16 Loss 0.0281\n"
     ]
    },
    {
     "name": "stderr",
     "output_type": "stream",
     "text": [
      "100%|██████████| 353/353 [00:06<00:00, 57.48it/s]\n"
     ]
    },
    {
     "name": "stdout",
     "output_type": "stream",
     "text": [
      "Epoch 17 Loss 0.0282\n"
     ]
    },
    {
     "name": "stderr",
     "output_type": "stream",
     "text": [
      "100%|██████████| 353/353 [00:06<00:00, 56.50it/s]\n"
     ]
    },
    {
     "name": "stdout",
     "output_type": "stream",
     "text": [
      "Epoch 18 Loss 0.0276\n"
     ]
    },
    {
     "name": "stderr",
     "output_type": "stream",
     "text": [
      "100%|██████████| 353/353 [00:06<00:00, 56.82it/s]\n"
     ]
    },
    {
     "name": "stdout",
     "output_type": "stream",
     "text": [
      "Epoch 19 Loss 0.0273\n"
     ]
    },
    {
     "name": "stderr",
     "output_type": "stream",
     "text": [
      "100%|██████████| 353/353 [00:06<00:00, 54.41it/s]\n"
     ]
    },
    {
     "name": "stdout",
     "output_type": "stream",
     "text": [
      "Epoch 20 Loss 0.0271\n"
     ]
    },
    {
     "name": "stderr",
     "output_type": "stream",
     "text": [
      "100%|██████████| 353/353 [00:06<00:00, 54.51it/s]\n"
     ]
    },
    {
     "name": "stdout",
     "output_type": "stream",
     "text": [
      "Epoch 21 Loss 0.0271\n"
     ]
    },
    {
     "name": "stderr",
     "output_type": "stream",
     "text": [
      "100%|██████████| 353/353 [00:05<00:00, 59.33it/s]\n"
     ]
    },
    {
     "name": "stdout",
     "output_type": "stream",
     "text": [
      "Epoch 22 Loss 0.0266\n"
     ]
    },
    {
     "name": "stderr",
     "output_type": "stream",
     "text": [
      "100%|██████████| 353/353 [00:06<00:00, 58.04it/s]\n"
     ]
    },
    {
     "name": "stdout",
     "output_type": "stream",
     "text": [
      "Epoch 23 Loss 0.0267\n"
     ]
    },
    {
     "name": "stderr",
     "output_type": "stream",
     "text": [
      "100%|██████████| 353/353 [00:06<00:00, 57.93it/s]\n"
     ]
    },
    {
     "name": "stdout",
     "output_type": "stream",
     "text": [
      "Epoch 24 Loss 0.0264\n"
     ]
    },
    {
     "name": "stderr",
     "output_type": "stream",
     "text": [
      "100%|██████████| 353/353 [00:05<00:00, 59.46it/s]\n"
     ]
    },
    {
     "name": "stdout",
     "output_type": "stream",
     "text": [
      "Epoch 25 Loss 0.0263\n"
     ]
    },
    {
     "name": "stderr",
     "output_type": "stream",
     "text": [
      "100%|██████████| 353/353 [00:05<00:00, 58.87it/s]\n"
     ]
    },
    {
     "name": "stdout",
     "output_type": "stream",
     "text": [
      "Epoch 26 Loss 0.0262\n"
     ]
    },
    {
     "name": "stderr",
     "output_type": "stream",
     "text": [
      "100%|██████████| 353/353 [00:06<00:00, 57.25it/s]\n"
     ]
    },
    {
     "name": "stdout",
     "output_type": "stream",
     "text": [
      "Epoch 27 Loss 0.0260\n"
     ]
    },
    {
     "name": "stderr",
     "output_type": "stream",
     "text": [
      "100%|██████████| 353/353 [00:06<00:00, 57.38it/s]\n"
     ]
    },
    {
     "name": "stdout",
     "output_type": "stream",
     "text": [
      "Epoch 28 Loss 0.0260\n"
     ]
    },
    {
     "name": "stderr",
     "output_type": "stream",
     "text": [
      "100%|██████████| 353/353 [00:06<00:00, 55.48it/s]\n"
     ]
    },
    {
     "name": "stdout",
     "output_type": "stream",
     "text": [
      "Epoch 29 Loss 0.0258\n"
     ]
    },
    {
     "name": "stderr",
     "output_type": "stream",
     "text": [
      "100%|██████████| 353/353 [00:06<00:00, 55.62it/s]\n"
     ]
    },
    {
     "name": "stdout",
     "output_type": "stream",
     "text": [
      "Epoch 30 Loss 0.0257\n"
     ]
    },
    {
     "name": "stderr",
     "output_type": "stream",
     "text": [
      "100%|██████████| 353/353 [00:05<00:00, 60.60it/s]\n"
     ]
    },
    {
     "name": "stdout",
     "output_type": "stream",
     "text": [
      "Epoch 31 Loss 0.0258\n"
     ]
    },
    {
     "name": "stderr",
     "output_type": "stream",
     "text": [
      "100%|██████████| 353/353 [00:06<00:00, 58.60it/s]\n"
     ]
    },
    {
     "name": "stdout",
     "output_type": "stream",
     "text": [
      "Epoch 32 Loss 0.0256\n"
     ]
    },
    {
     "name": "stderr",
     "output_type": "stream",
     "text": [
      "100%|██████████| 353/353 [00:06<00:00, 58.14it/s]\n"
     ]
    },
    {
     "name": "stdout",
     "output_type": "stream",
     "text": [
      "Epoch 33 Loss 0.0257\n"
     ]
    },
    {
     "name": "stderr",
     "output_type": "stream",
     "text": [
      "100%|██████████| 353/353 [00:06<00:00, 52.09it/s]\n"
     ]
    },
    {
     "name": "stdout",
     "output_type": "stream",
     "text": [
      "Epoch 34 Loss 0.0251\n"
     ]
    },
    {
     "name": "stderr",
     "output_type": "stream",
     "text": [
      "100%|██████████| 353/353 [00:07<00:00, 44.73it/s]\n"
     ]
    },
    {
     "name": "stdout",
     "output_type": "stream",
     "text": [
      "Epoch 35 Loss 0.0250\n"
     ]
    },
    {
     "name": "stderr",
     "output_type": "stream",
     "text": [
      "100%|██████████| 353/353 [00:06<00:00, 54.08it/s]\n"
     ]
    },
    {
     "name": "stdout",
     "output_type": "stream",
     "text": [
      "Epoch 36 Loss 0.0251\n"
     ]
    },
    {
     "name": "stderr",
     "output_type": "stream",
     "text": [
      "100%|██████████| 353/353 [00:06<00:00, 55.11it/s]\n"
     ]
    },
    {
     "name": "stdout",
     "output_type": "stream",
     "text": [
      "Epoch 37 Loss 0.0251\n"
     ]
    },
    {
     "name": "stderr",
     "output_type": "stream",
     "text": [
      "100%|██████████| 353/353 [00:06<00:00, 55.19it/s]\n"
     ]
    },
    {
     "name": "stdout",
     "output_type": "stream",
     "text": [
      "Epoch 38 Loss 0.0251\n"
     ]
    },
    {
     "name": "stderr",
     "output_type": "stream",
     "text": [
      "100%|██████████| 353/353 [00:06<00:00, 57.15it/s]\n"
     ]
    },
    {
     "name": "stdout",
     "output_type": "stream",
     "text": [
      "Epoch 39 Loss 0.0250\n"
     ]
    },
    {
     "name": "stderr",
     "output_type": "stream",
     "text": [
      "100%|██████████| 353/353 [00:07<00:00, 50.39it/s]\n"
     ]
    },
    {
     "name": "stdout",
     "output_type": "stream",
     "text": [
      "Epoch 40 Loss 0.0249\n"
     ]
    },
    {
     "name": "stderr",
     "output_type": "stream",
     "text": [
      "100%|██████████| 353/353 [00:07<00:00, 50.20it/s]\n"
     ]
    },
    {
     "name": "stdout",
     "output_type": "stream",
     "text": [
      "Epoch 41 Loss 0.0249\n"
     ]
    },
    {
     "name": "stderr",
     "output_type": "stream",
     "text": [
      "100%|██████████| 353/353 [00:07<00:00, 49.67it/s]\n"
     ]
    },
    {
     "name": "stdout",
     "output_type": "stream",
     "text": [
      "Epoch 42 Loss 0.0249\n"
     ]
    },
    {
     "name": "stderr",
     "output_type": "stream",
     "text": [
      "100%|██████████| 353/353 [00:03<00:00, 97.96it/s] \n"
     ]
    },
    {
     "name": "stdout",
     "output_type": "stream",
     "text": [
      "Epoch 43 Loss 0.0248\n"
     ]
    },
    {
     "name": "stderr",
     "output_type": "stream",
     "text": [
      "100%|██████████| 353/353 [00:03<00:00, 99.04it/s] \n"
     ]
    },
    {
     "name": "stdout",
     "output_type": "stream",
     "text": [
      "Epoch 44 Loss 0.0247\n"
     ]
    },
    {
     "name": "stderr",
     "output_type": "stream",
     "text": [
      "100%|██████████| 353/353 [00:04<00:00, 88.17it/s]\n"
     ]
    },
    {
     "name": "stdout",
     "output_type": "stream",
     "text": [
      "Epoch 45 Loss 0.0245\n"
     ]
    },
    {
     "name": "stderr",
     "output_type": "stream",
     "text": [
      "100%|██████████| 353/353 [00:03<00:00, 99.95it/s] \n"
     ]
    },
    {
     "name": "stdout",
     "output_type": "stream",
     "text": [
      "Epoch 46 Loss 0.0246\n"
     ]
    },
    {
     "name": "stderr",
     "output_type": "stream",
     "text": [
      "100%|██████████| 353/353 [00:03<00:00, 95.15it/s] \n"
     ]
    },
    {
     "name": "stdout",
     "output_type": "stream",
     "text": [
      "Epoch 47 Loss 0.0247\n"
     ]
    },
    {
     "name": "stderr",
     "output_type": "stream",
     "text": [
      "100%|██████████| 353/353 [00:03<00:00, 104.60it/s]\n"
     ]
    },
    {
     "name": "stdout",
     "output_type": "stream",
     "text": [
      "Epoch 48 Loss 0.0245\n"
     ]
    },
    {
     "name": "stderr",
     "output_type": "stream",
     "text": [
      "100%|██████████| 353/353 [00:03<00:00, 111.14it/s]\n"
     ]
    },
    {
     "name": "stdout",
     "output_type": "stream",
     "text": [
      "Epoch 49 Loss 0.0246\n"
     ]
    },
    {
     "name": "stderr",
     "output_type": "stream",
     "text": [
      "100%|██████████| 353/353 [00:03<00:00, 107.14it/s]\n"
     ]
    },
    {
     "name": "stdout",
     "output_type": "stream",
     "text": [
      "Epoch 50 Loss 0.0247\n"
     ]
    },
    {
     "name": "stderr",
     "output_type": "stream",
     "text": [
      "100%|██████████| 353/353 [00:02<00:00, 145.83it/s]\n"
     ]
    },
    {
     "name": "stdout",
     "output_type": "stream",
     "text": [
      "Epoch 51 Loss 0.0242\n"
     ]
    },
    {
     "name": "stderr",
     "output_type": "stream",
     "text": [
      "100%|██████████| 353/353 [00:01<00:00, 252.41it/s]\n"
     ]
    },
    {
     "name": "stdout",
     "output_type": "stream",
     "text": [
      "Epoch 52 Loss 0.0245\n"
     ]
    },
    {
     "name": "stderr",
     "output_type": "stream",
     "text": [
      "100%|██████████| 353/353 [00:01<00:00, 241.65it/s]\n"
     ]
    },
    {
     "name": "stdout",
     "output_type": "stream",
     "text": [
      "Epoch 53 Loss 0.0244\n"
     ]
    },
    {
     "name": "stderr",
     "output_type": "stream",
     "text": [
      "100%|██████████| 353/353 [00:01<00:00, 243.42it/s]\n"
     ]
    },
    {
     "name": "stdout",
     "output_type": "stream",
     "text": [
      "Epoch 54 Loss 0.0243\n"
     ]
    },
    {
     "name": "stderr",
     "output_type": "stream",
     "text": [
      "100%|██████████| 353/353 [00:01<00:00, 220.12it/s]\n"
     ]
    },
    {
     "name": "stdout",
     "output_type": "stream",
     "text": [
      "Epoch 55 Loss 0.0244\n"
     ]
    },
    {
     "name": "stderr",
     "output_type": "stream",
     "text": [
      "100%|██████████| 353/353 [00:01<00:00, 295.56it/s]\n"
     ]
    },
    {
     "name": "stdout",
     "output_type": "stream",
     "text": [
      "Epoch 56 Loss 0.0243\n"
     ]
    },
    {
     "name": "stderr",
     "output_type": "stream",
     "text": [
      "100%|██████████| 353/353 [00:02<00:00, 119.39it/s]\n"
     ]
    },
    {
     "name": "stdout",
     "output_type": "stream",
     "text": [
      "Epoch 57 Loss 0.0244\n"
     ]
    },
    {
     "name": "stderr",
     "output_type": "stream",
     "text": [
      "100%|██████████| 353/353 [00:03<00:00, 103.85it/s]\n"
     ]
    },
    {
     "name": "stdout",
     "output_type": "stream",
     "text": [
      "Epoch 58 Loss 0.0245\n"
     ]
    },
    {
     "name": "stderr",
     "output_type": "stream",
     "text": [
      "100%|██████████| 353/353 [00:01<00:00, 247.98it/s]\n"
     ]
    },
    {
     "name": "stdout",
     "output_type": "stream",
     "text": [
      "Epoch 59 Loss 0.0241\n"
     ]
    },
    {
     "name": "stderr",
     "output_type": "stream",
     "text": [
      "100%|██████████| 353/353 [00:02<00:00, 169.28it/s]\n"
     ]
    },
    {
     "name": "stdout",
     "output_type": "stream",
     "text": [
      "Epoch 60 Loss 0.0241\n"
     ]
    },
    {
     "name": "stderr",
     "output_type": "stream",
     "text": [
      "100%|██████████| 353/353 [00:01<00:00, 277.54it/s]\n"
     ]
    },
    {
     "name": "stdout",
     "output_type": "stream",
     "text": [
      "Epoch 61 Loss 0.0241\n"
     ]
    },
    {
     "name": "stderr",
     "output_type": "stream",
     "text": [
      "100%|██████████| 353/353 [00:02<00:00, 134.56it/s]\n"
     ]
    },
    {
     "name": "stdout",
     "output_type": "stream",
     "text": [
      "Epoch 62 Loss 0.0241\n"
     ]
    },
    {
     "name": "stderr",
     "output_type": "stream",
     "text": [
      "100%|██████████| 353/353 [00:03<00:00, 103.73it/s]\n"
     ]
    },
    {
     "name": "stdout",
     "output_type": "stream",
     "text": [
      "Epoch 63 Loss 0.0242\n"
     ]
    },
    {
     "name": "stderr",
     "output_type": "stream",
     "text": [
      "100%|██████████| 353/353 [00:03<00:00, 110.58it/s]\n"
     ]
    },
    {
     "name": "stdout",
     "output_type": "stream",
     "text": [
      "Epoch 64 Loss 0.0240\n"
     ]
    },
    {
     "name": "stderr",
     "output_type": "stream",
     "text": [
      "100%|██████████| 353/353 [00:01<00:00, 180.45it/s]\n"
     ]
    },
    {
     "name": "stdout",
     "output_type": "stream",
     "text": [
      "Epoch 65 Loss 0.0241\n"
     ]
    },
    {
     "name": "stderr",
     "output_type": "stream",
     "text": [
      "100%|██████████| 353/353 [00:01<00:00, 190.25it/s]\n"
     ]
    },
    {
     "name": "stdout",
     "output_type": "stream",
     "text": [
      "Epoch 66 Loss 0.0239\n"
     ]
    },
    {
     "name": "stderr",
     "output_type": "stream",
     "text": [
      "100%|██████████| 353/353 [00:01<00:00, 185.43it/s]\n"
     ]
    },
    {
     "name": "stdout",
     "output_type": "stream",
     "text": [
      "Epoch 67 Loss 0.0238\n"
     ]
    },
    {
     "name": "stderr",
     "output_type": "stream",
     "text": [
      "100%|██████████| 353/353 [00:01<00:00, 264.19it/s]\n"
     ]
    },
    {
     "name": "stdout",
     "output_type": "stream",
     "text": [
      "Epoch 68 Loss 0.0239\n"
     ]
    },
    {
     "name": "stderr",
     "output_type": "stream",
     "text": [
      "100%|██████████| 353/353 [00:01<00:00, 297.06it/s]\n"
     ]
    },
    {
     "name": "stdout",
     "output_type": "stream",
     "text": [
      "Epoch 69 Loss 0.0240\n"
     ]
    },
    {
     "name": "stderr",
     "output_type": "stream",
     "text": [
      "100%|██████████| 353/353 [00:01<00:00, 196.65it/s]\n"
     ]
    },
    {
     "name": "stdout",
     "output_type": "stream",
     "text": [
      "Epoch 70 Loss 0.0238\n"
     ]
    },
    {
     "name": "stderr",
     "output_type": "stream",
     "text": [
      "100%|██████████| 353/353 [00:01<00:00, 241.13it/s]\n"
     ]
    },
    {
     "name": "stdout",
     "output_type": "stream",
     "text": [
      "Epoch 71 Loss 0.0239\n"
     ]
    },
    {
     "name": "stderr",
     "output_type": "stream",
     "text": [
      "100%|██████████| 353/353 [00:01<00:00, 270.14it/s]\n"
     ]
    },
    {
     "name": "stdout",
     "output_type": "stream",
     "text": [
      "Epoch 72 Loss 0.0238\n"
     ]
    },
    {
     "name": "stderr",
     "output_type": "stream",
     "text": [
      "100%|██████████| 353/353 [00:01<00:00, 236.91it/s]\n"
     ]
    },
    {
     "name": "stdout",
     "output_type": "stream",
     "text": [
      "Epoch 73 Loss 0.0240\n"
     ]
    },
    {
     "name": "stderr",
     "output_type": "stream",
     "text": [
      "100%|██████████| 353/353 [00:01<00:00, 241.02it/s]\n"
     ]
    },
    {
     "name": "stdout",
     "output_type": "stream",
     "text": [
      "Epoch 74 Loss 0.0238\n"
     ]
    },
    {
     "name": "stderr",
     "output_type": "stream",
     "text": [
      "100%|██████████| 353/353 [00:03<00:00, 97.86it/s] \n"
     ]
    },
    {
     "name": "stdout",
     "output_type": "stream",
     "text": [
      "Epoch 75 Loss 0.0239\n"
     ]
    },
    {
     "name": "stderr",
     "output_type": "stream",
     "text": [
      "100%|██████████| 353/353 [00:03<00:00, 101.77it/s]\n"
     ]
    },
    {
     "name": "stdout",
     "output_type": "stream",
     "text": [
      "Epoch 76 Loss 0.0238\n"
     ]
    },
    {
     "name": "stderr",
     "output_type": "stream",
     "text": [
      "100%|██████████| 353/353 [00:01<00:00, 265.04it/s]\n"
     ]
    },
    {
     "name": "stdout",
     "output_type": "stream",
     "text": [
      "Epoch 77 Loss 0.0238\n"
     ]
    },
    {
     "name": "stderr",
     "output_type": "stream",
     "text": [
      "100%|██████████| 353/353 [00:02<00:00, 128.51it/s]\n"
     ]
    },
    {
     "name": "stdout",
     "output_type": "stream",
     "text": [
      "Epoch 78 Loss 0.0235\n"
     ]
    },
    {
     "name": "stderr",
     "output_type": "stream",
     "text": [
      "100%|██████████| 353/353 [00:01<00:00, 179.74it/s]\n"
     ]
    },
    {
     "name": "stdout",
     "output_type": "stream",
     "text": [
      "Epoch 79 Loss 0.0235\n"
     ]
    },
    {
     "name": "stderr",
     "output_type": "stream",
     "text": [
      "100%|██████████| 353/353 [00:01<00:00, 286.48it/s]\n"
     ]
    },
    {
     "name": "stdout",
     "output_type": "stream",
     "text": [
      "Epoch 80 Loss 0.0236\n"
     ]
    },
    {
     "name": "stderr",
     "output_type": "stream",
     "text": [
      "100%|██████████| 353/353 [00:03<00:00, 105.82it/s]\n"
     ]
    },
    {
     "name": "stdout",
     "output_type": "stream",
     "text": [
      "Epoch 81 Loss 0.0236\n"
     ]
    },
    {
     "name": "stderr",
     "output_type": "stream",
     "text": [
      "100%|██████████| 353/353 [00:03<00:00, 104.56it/s]\n"
     ]
    },
    {
     "name": "stdout",
     "output_type": "stream",
     "text": [
      "Epoch 82 Loss 0.0236\n"
     ]
    },
    {
     "name": "stderr",
     "output_type": "stream",
     "text": [
      "100%|██████████| 353/353 [00:03<00:00, 102.73it/s]\n"
     ]
    },
    {
     "name": "stdout",
     "output_type": "stream",
     "text": [
      "Epoch 83 Loss 0.0234\n"
     ]
    },
    {
     "name": "stderr",
     "output_type": "stream",
     "text": [
      "100%|██████████| 353/353 [00:03<00:00, 99.86it/s] \n"
     ]
    },
    {
     "name": "stdout",
     "output_type": "stream",
     "text": [
      "Epoch 84 Loss 0.0236\n"
     ]
    },
    {
     "name": "stderr",
     "output_type": "stream",
     "text": [
      "100%|██████████| 353/353 [00:03<00:00, 107.23it/s]\n"
     ]
    },
    {
     "name": "stdout",
     "output_type": "stream",
     "text": [
      "Epoch 85 Loss 0.0235\n"
     ]
    },
    {
     "name": "stderr",
     "output_type": "stream",
     "text": [
      "100%|██████████| 353/353 [00:03<00:00, 103.06it/s]\n"
     ]
    },
    {
     "name": "stdout",
     "output_type": "stream",
     "text": [
      "Epoch 86 Loss 0.0234\n"
     ]
    },
    {
     "name": "stderr",
     "output_type": "stream",
     "text": [
      "100%|██████████| 353/353 [00:03<00:00, 100.19it/s]\n"
     ]
    },
    {
     "name": "stdout",
     "output_type": "stream",
     "text": [
      "Epoch 87 Loss 0.0234\n"
     ]
    },
    {
     "name": "stderr",
     "output_type": "stream",
     "text": [
      "100%|██████████| 353/353 [00:03<00:00, 102.97it/s]\n"
     ]
    },
    {
     "name": "stdout",
     "output_type": "stream",
     "text": [
      "Epoch 88 Loss 0.0235\n"
     ]
    },
    {
     "name": "stderr",
     "output_type": "stream",
     "text": [
      "100%|██████████| 353/353 [00:03<00:00, 101.08it/s]\n"
     ]
    },
    {
     "name": "stdout",
     "output_type": "stream",
     "text": [
      "Epoch 89 Loss 0.0234\n"
     ]
    },
    {
     "name": "stderr",
     "output_type": "stream",
     "text": [
      "100%|██████████| 353/353 [00:03<00:00, 93.84it/s] \n"
     ]
    },
    {
     "name": "stdout",
     "output_type": "stream",
     "text": [
      "Epoch 90 Loss 0.0234\n"
     ]
    },
    {
     "name": "stderr",
     "output_type": "stream",
     "text": [
      "100%|██████████| 353/353 [00:03<00:00, 103.56it/s]\n"
     ]
    },
    {
     "name": "stdout",
     "output_type": "stream",
     "text": [
      "Epoch 91 Loss 0.0236\n"
     ]
    },
    {
     "name": "stderr",
     "output_type": "stream",
     "text": [
      "100%|██████████| 353/353 [00:03<00:00, 104.85it/s]\n"
     ]
    },
    {
     "name": "stdout",
     "output_type": "stream",
     "text": [
      "Epoch 92 Loss 0.0234\n"
     ]
    },
    {
     "name": "stderr",
     "output_type": "stream",
     "text": [
      "100%|██████████| 353/353 [00:03<00:00, 102.89it/s]\n"
     ]
    },
    {
     "name": "stdout",
     "output_type": "stream",
     "text": [
      "Epoch 93 Loss 0.0234\n"
     ]
    },
    {
     "name": "stderr",
     "output_type": "stream",
     "text": [
      "100%|██████████| 353/353 [00:03<00:00, 106.33it/s]\n"
     ]
    },
    {
     "name": "stdout",
     "output_type": "stream",
     "text": [
      "Epoch 94 Loss 0.0233\n"
     ]
    },
    {
     "name": "stderr",
     "output_type": "stream",
     "text": [
      "100%|██████████| 353/353 [00:03<00:00, 104.83it/s]\n"
     ]
    },
    {
     "name": "stdout",
     "output_type": "stream",
     "text": [
      "Epoch 95 Loss 0.0235\n"
     ]
    },
    {
     "name": "stderr",
     "output_type": "stream",
     "text": [
      "100%|██████████| 353/353 [00:03<00:00, 104.10it/s]\n"
     ]
    },
    {
     "name": "stdout",
     "output_type": "stream",
     "text": [
      "Epoch 96 Loss 0.0233\n"
     ]
    },
    {
     "name": "stderr",
     "output_type": "stream",
     "text": [
      "100%|██████████| 353/353 [00:03<00:00, 101.59it/s]\n"
     ]
    },
    {
     "name": "stdout",
     "output_type": "stream",
     "text": [
      "Epoch 97 Loss 0.0232\n"
     ]
    },
    {
     "name": "stderr",
     "output_type": "stream",
     "text": [
      "100%|██████████| 353/353 [00:03<00:00, 104.06it/s]\n"
     ]
    },
    {
     "name": "stdout",
     "output_type": "stream",
     "text": [
      "Epoch 98 Loss 0.0232\n"
     ]
    },
    {
     "name": "stderr",
     "output_type": "stream",
     "text": [
      "100%|██████████| 353/353 [00:03<00:00, 104.57it/s]\n"
     ]
    },
    {
     "name": "stdout",
     "output_type": "stream",
     "text": [
      "Epoch 99 Loss 0.0231\n"
     ]
    },
    {
     "data": {
      "text/plain": [
       "[]"
      ]
     },
     "execution_count": 21,
     "metadata": {},
     "output_type": "execute_result"
    },
    {
     "data": {
      "image/png": "[encoded data removed]",
      "text/plain": [
       "<Figure size 640x480 with 1 Axes>"
      ]
     },
     "metadata": {},
     "output_type": "display_data"
    }
   ],
   "source": [
    "for epoch in range(n_epochs):\n",
    "    model.train()\n",
    "    epoch_loss = 0\n",
    "    \n",
    "    ## Batchwise Training\n",
    "    for X_batch, y_batch in tqdm(train_loader):\n",
    "        X_batch = X_batch.to(device)\n",
    "        y_batch =  y_batch.to(device).squeeze(1) # y_batch.reshape(-1, 1).to(device)\n",
    "        # print(X_batch.shape, y_batch.shape)\n",
    "        \n",
    "        y_pred = model(X_batch)\n",
    "        # print(y_pred.shape, y_batch.shape)\n",
    "        loss = loss_fn(y_pred, y_batch)\n",
    "        optimizer.zero_grad()\n",
    "        loss.backward()\n",
    "        \n",
    "        # for name, param in model.named_parameters():\n",
    "        #     if param.grad is not None:\n",
    "        #         print(f'{name} grad norm: {param.grad.norm().item()}')\n",
    "                \n",
    "        # nn.utils.clip_grad_norm_(model.parameters(), max_norm=1.0)  # Gradient Clipping\n",
    "        # or\n",
    "        nn.utils.clip_grad_value_(model.parameters(), clip_value=5.0)\n",
    "        \n",
    "        optimizer.step()\n",
    "        epoch_loss += loss.item()\n",
    "        \n",
    "    epoch_loss = np.sqrt(epoch_loss/len(train_loader))\n",
    "    epoch_losses.append(epoch_loss/len(train_loader))\n",
    "    print('Epoch %d Loss %.4f' % (epoch, epoch_loss))\n",
    "    \n",
    "    # Validation every 10 epochs\n",
    "    # if epoch % 10 == 0:\n",
    "        # continue\n",
    "    # model.eval()\n",
    "    # train_rmse = 0\n",
    "    # with torch.no_grad():\n",
    "    #     for X_batch, y_batch in train_loader:\n",
    "    #         X_batch = X_batch.to(device)\n",
    "    #         y_batch =  y_batch.to(device).squeeze(1)                                                                                    \n",
    "    #         y_pred = model(X_train.to(device)).detach().cpu()\n",
    "    #         # y_train = y_train[:, -1, :].view(-1, 1)\n",
    "    #         # print('y_pred.shape, y_train.shape', y_pred.shape, y_train.shape)\n",
    "    #         train_rmse += np.sqrt(loss_fn(y_pred, y_train)).item()\n",
    "    #         # y_pred = model(X_test.to(device)).detach().cpu()\n",
    "    #         # y_test = y_test[:, -1, :].view(-1, 1)\n",
    "    #         test_rmse = 0 #np.sqrt(loss_fn(y_pred, y_test.reshape(-1, 1)))\n",
    "    # train_losses.append(train_rmse)\n",
    "    # test_losses.append(test_rmse)\n",
    "    # print(\"Epoch %d: train RMSE %.4f, test RMSE %.4f\" % (epoch, train_rmse, test_rmse))\n",
    "    \n",
    "plt.plot(epoch_losses)\n",
    "# plt.plot(train_losses)\n",
    "plt.plot(test_losses)\n",
    "plt.legend(['epoch_loss', 'test_loss'])\n",
    "plt.plot()"
   ]
  },
  {
   "cell_type": "markdown",
   "metadata": {},
   "source": [
    "### Inference"
   ]
  },
  {
   "cell_type": "code",
   "execution_count": 14,
   "metadata": {},
   "outputs": [
    {
     "data": {
      "text/plain": [
       "<All keys matched successfully>"
      ]
     },
     "execution_count": 14,
     "metadata": {},
     "output_type": "execute_result"
    }
   ],
   "source": [
    "\n",
    "# torch.save(model.state_dict(), 'lstm.pt')\n",
    "\n",
    "model = Model()\n",
    "model.to(device)\n",
    "model.load_state_dict(torch.load('lstm.pt'))\n",
    "# print(model.n_features)"
   ]
  },
  {
   "cell_type": "code",
   "execution_count": 15,
   "metadata": {},
   "outputs": [
    {
     "name": "stderr",
     "output_type": "stream",
     "text": [
      "100%|██████████| 9655/9655 [00:53<00:00, 179.32it/s]"
     ]
    },
    {
     "name": "stdout",
     "output_type": "stream",
     "text": [
      "Validation Loss: 0.0003\n"
     ]
    },
    {
     "name": "stderr",
     "output_type": "stream",
     "text": [
      "\n"
     ]
    }
   ],
   "source": [
    "test_loader = DataLoader(TensorDataset(X_test, y_test), shuffle=False, batch_size=1)\n",
    "\n",
    "\n",
    "model.eval()\n",
    "with torch.no_grad():\n",
    "    test_loss = 0.0\n",
    "    y_true = []\n",
    "    y_preds = []\n",
    "    for X_batch, y_batch in tqdm(test_loader):\n",
    "        X_batch, y_batch = X_batch.to(device), y_batch.to(device)\n",
    "        y_batch = y_batch.reshape(-1, n_features)\n",
    "        # print(y_batch)\n",
    "        # break\n",
    "        y_pred = model(X_batch)\n",
    "        \n",
    "        \n",
    "        # print('GT %.2f Pred %.2f' %(y_batch, y_pred))\n",
    "        loss = loss_fn(y_pred, y_batch)\n",
    "        test_loss += loss.item()\n",
    "        \n",
    "        y_pred = y_pred.detach().cpu()\n",
    "        y_batch = y_batch.detach().cpu()\n",
    "        # print(y_pred, y_batch)\n",
    "        \n",
    "        y_preds.append(y_pred)\n",
    "        y_true.append(y_batch)\n",
    "    \n",
    "    test_loss /= len(test_loader)\n",
    "    print(f'Validation Loss: {test_loss:.4f}')\n",
    "        \n",
    "    # val_losses.append(val_loss)"
   ]
  },
  {
   "cell_type": "code",
   "execution_count": 16,
   "metadata": {},
   "outputs": [
    {
     "name": "stdout",
     "output_type": "stream",
     "text": [
      "9655\n"
     ]
    }
   ],
   "source": [
    "print(len(y_preds))"
   ]
  },
  {
   "cell_type": "code",
   "execution_count": 26,
   "metadata": {},
   "outputs": [],
   "source": [
    "y_preds_scaled = scaler.inverse_transform(np.array(y_preds).reshape(-1, n_features))\n",
    "y_test_scaled = scaler.inverse_transform(np.array(y_true).reshape(-1, n_features))"
   ]
  },
  {
   "cell_type": "code",
   "execution_count": 33,
   "metadata": {},
   "outputs": [
    {
     "data": {
      "text/plain": [
       "<matplotlib.legend.Legend at 0x7fbe845887a0>"
      ]
     },
     "execution_count": 33,
     "metadata": {},
     "output_type": "execute_result"
    },
    {
     "data": {
      "image/png": "[encoded data removed]",
      "text/plain": [
       "<Figure size 640x480 with 1 Axes>"
      ]
     },
     "metadata": {},
     "output_type": "display_data"
    }
   ],
   "source": [
    "plt.plot(np.array(y_test[96]).reshape(-1))\n",
    "plt.plot(np.array(y_preds[96]).reshape(-1))\n",
    "plt.legend(['y_true', 'y_pred'])\n"
   ]
  },
  {
   "cell_type": "code",
   "execution_count": 34,
   "metadata": {},
   "outputs": [
    {
     "data": {
      "image/png": "[encoded data removed]",
      "text/plain": [
       "<Figure size 640x480 with 1 Axes>"
      ]
     },
     "metadata": {},
     "output_type": "display_data"
    }
   ],
   "source": [
    "plt.plot(np.array(y_true[9618]).reshape(-1))\n",
    "plt.plot(np.array(y_true[9617]).reshape(-1))\n",
    "plt.legend(['y_pred', 'y_true'])\n",
    "plt.show()"
   ]
  },
  {
   "cell_type": "code",
   "execution_count": 20,
   "metadata": {},
   "outputs": [
    {
     "data": {
      "text/plain": [
       "['2022-10-21 10:30:00',\n",
       " '2022-10-21 10:45:00',\n",
       " '2022-10-21 11:00:00',\n",
       " '2022-10-21 11:15:00',\n",
       " '2022-10-21 11:30:00',\n",
       " '2022-10-21 11:45:00',\n",
       " '2022-10-21 12:00:00',\n",
       " '2022-10-21 12:15:00',\n",
       " '2022-10-21 12:30:00',\n",
       " '2022-10-21 12:45:00',\n",
       " '2022-10-21 13:00:00',\n",
       " '2022-10-21 13:15:00',\n",
       " '2022-10-21 13:30:00',\n",
       " '2022-10-21 13:45:00',\n",
       " '2022-10-21 14:00:00',\n",
       " '2022-10-21 14:15:00',\n",
       " '2022-10-21 14:30:00',\n",
       " '2022-10-21 14:45:00',\n",
       " '2022-10-21 15:00:00',\n",
       " '2022-10-21 15:15:00',\n",
       " '2022-10-25 09:15:00',\n",
       " '2022-10-25 09:30:00',\n",
       " '2022-10-25 09:45:00',\n",
       " '2022-10-25 10:00:00',\n",
       " '2022-10-25 10:15:00',\n",
       " '2022-10-25 10:30:00',\n",
       " '2022-10-25 10:45:00',\n",
       " '2022-10-25 11:00:00',\n",
       " '2022-10-25 11:15:00',\n",
       " '2022-10-25 11:30:00',\n",
       " '2022-10-25 11:45:00',\n",
       " '2022-10-25 12:00:00',\n",
       " '2022-10-25 12:15:00',\n",
       " '2022-10-25 12:30:00',\n",
       " '2022-10-25 12:45:00',\n",
       " '2022-10-25 13:00:00',\n",
       " '2022-10-25 13:15:00',\n",
       " '2022-10-25 13:30:00',\n",
       " '2022-10-25 13:45:00',\n",
       " '2022-10-25 14:00:00',\n",
       " '2022-10-25 14:15:00',\n",
       " '2022-10-25 14:30:00',\n",
       " '2022-10-25 14:45:00',\n",
       " '2022-10-25 15:00:00',\n",
       " '2022-10-25 15:15:00',\n",
       " '2022-10-27 09:15:00',\n",
       " '2022-10-27 09:30:00',\n",
       " '2022-10-27 09:45:00',\n",
       " '2022-10-27 10:00:00',\n",
       " '2022-10-27 10:15:00',\n",
       " '2022-10-27 10:30:00',\n",
       " '2022-10-27 10:45:00',\n",
       " '2022-10-27 11:00:00',\n",
       " '2022-10-27 11:15:00',\n",
       " '2022-10-27 11:30:00',\n",
       " '2022-10-27 11:45:00',\n",
       " '2022-10-27 12:00:00',\n",
       " '2022-10-27 12:15:00',\n",
       " '2022-10-27 12:30:00',\n",
       " '2022-10-27 12:45:00',\n",
       " '2022-10-27 13:00:00',\n",
       " '2022-10-27 13:15:00',\n",
       " '2022-10-27 13:30:00',\n",
       " '2022-10-27 13:45:00',\n",
       " '2022-10-27 14:00:00',\n",
       " '2022-10-27 14:15:00',\n",
       " '2022-10-27 14:30:00',\n",
       " '2022-10-27 14:45:00',\n",
       " '2022-10-27 15:00:00',\n",
       " '2022-10-27 15:15:00',\n",
       " '2022-10-28 09:15:00',\n",
       " '2022-10-28 09:30:00',\n",
       " '2022-10-28 09:45:00',\n",
       " '2022-10-28 10:00:00',\n",
       " '2022-10-28 10:15:00',\n",
       " '2022-10-28 10:30:00',\n",
       " '2022-10-28 10:45:00',\n",
       " '2022-10-28 11:00:00',\n",
       " '2022-10-28 11:15:00',\n",
       " '2022-10-28 11:30:00',\n",
       " '2022-10-28 11:45:00',\n",
       " '2022-10-28 12:00:00',\n",
       " '2022-10-28 12:15:00',\n",
       " '2022-10-28 12:30:00',\n",
       " '2022-10-28 12:45:00',\n",
       " '2022-10-28 13:00:00',\n",
       " '2022-10-28 13:15:00',\n",
       " '2022-10-28 13:30:00',\n",
       " '2022-10-28 13:45:00',\n",
       " '2022-10-28 14:00:00',\n",
       " '2022-10-28 14:15:00',\n",
       " '2022-10-28 14:30:00',\n",
       " '2022-10-28 14:45:00',\n",
       " '2022-10-28 15:00:00',\n",
       " '2022-10-28 15:15:00',\n",
       " '2022-10-31 09:15:00',\n",
       " '2022-10-31 09:30:00',\n",
       " '2022-10-31 09:45:00',\n",
       " '2022-10-31 10:00:00',\n",
       " '2022-10-31 10:15:00',\n",
       " '2022-10-31 10:30:00',\n",
       " '2022-10-31 10:45:00',\n",
       " '2022-10-31 11:00:00',\n",
       " '2022-10-31 11:15:00',\n",
       " '2022-10-31 11:30:00',\n",
       " '2022-10-31 11:45:00',\n",
       " '2022-10-31 12:00:00',\n",
       " '2022-10-31 12:15:00',\n",
       " '2022-10-31 12:30:00',\n",
       " '2022-10-31 12:45:00',\n",
       " '2022-10-31 13:00:00',\n",
       " '2022-10-31 13:15:00',\n",
       " '2022-10-31 13:30:00',\n",
       " '2022-10-31 13:45:00',\n",
       " '2022-10-31 14:15:00',\n",
       " '2022-10-31 14:30:00',\n",
       " '2022-10-31 14:45:00',\n",
       " '2022-10-31 15:00:00',\n",
       " '2022-10-31 15:15:00',\n",
       " '2022-11-01 09:15:00',\n",
       " '2022-11-01 09:30:00',\n",
       " '2022-11-01 09:45:00',\n",
       " '2022-11-01 10:00:00',\n",
       " '2022-11-01 10:15:00',\n",
       " '2022-11-01 10:30:00',\n",
       " '2022-11-01 10:45:00',\n",
       " '2022-11-01 11:00:00',\n",
       " '2022-11-01 11:15:00',\n",
       " '2022-11-01 11:30:00',\n",
       " '2022-11-01 11:45:00',\n",
       " '2022-11-01 12:00:00',\n",
       " '2022-11-01 12:15:00',\n",
       " '2022-11-01 12:30:00',\n",
       " '2022-11-01 12:45:00',\n",
       " '2022-11-01 13:00:00',\n",
       " '2022-11-01 13:15:00',\n",
       " '2022-11-01 13:30:00',\n",
       " '2022-11-01 13:45:00',\n",
       " '2022-11-01 14:00:00',\n",
       " '2022-11-01 14:15:00',\n",
       " '2022-11-01 14:30:00',\n",
       " '2022-11-01 14:45:00',\n",
       " '2022-11-01 15:00:00',\n",
       " '2022-11-01 15:15:00',\n",
       " '2022-11-02 09:15:00',\n",
       " '2022-11-02 09:30:00',\n",
       " '2022-11-02 09:45:00',\n",
       " '2022-11-02 10:00:00',\n",
       " '2022-11-02 10:15:00',\n",
       " '2022-11-02 10:30:00',\n",
       " '2022-11-02 10:45:00',\n",
       " '2022-11-02 11:00:00',\n",
       " '2022-11-02 11:15:00',\n",
       " '2022-11-02 11:30:00',\n",
       " '2022-11-02 11:45:00',\n",
       " '2022-11-02 12:00:00',\n",
       " '2022-11-02 12:15:00',\n",
       " '2022-11-02 12:30:00',\n",
       " '2022-11-02 12:45:00',\n",
       " '2022-11-02 13:00:00',\n",
       " '2022-11-02 13:15:00',\n",
       " '2022-11-02 13:30:00',\n",
       " '2022-11-02 13:45:00',\n",
       " '2022-11-02 14:00:00',\n",
       " '2022-11-02 14:15:00',\n",
       " '2022-11-02 14:30:00',\n",
       " '2022-11-02 14:45:00',\n",
       " '2022-11-02 15:00:00',\n",
       " '2022-11-02 15:15:00',\n",
       " '2022-11-03 09:15:00',\n",
       " '2022-11-04 09:15:00',\n",
       " '2022-11-04 09:30:00',\n",
       " '2022-11-04 09:45:00',\n",
       " '2022-11-04 10:00:00',\n",
       " '2022-11-04 10:15:00',\n",
       " '2022-11-04 10:30:00',\n",
       " '2022-11-04 10:45:00',\n",
       " '2022-11-04 11:00:00',\n",
       " '2022-11-04 11:15:00',\n",
       " '2022-11-04 11:30:00',\n",
       " '2022-11-04 11:45:00',\n",
       " '2022-11-04 12:00:00',\n",
       " '2022-11-04 12:15:00',\n",
       " '2022-11-04 12:30:00',\n",
       " '2022-11-04 12:45:00',\n",
       " '2022-11-04 13:00:00',\n",
       " '2022-11-04 13:15:00',\n",
       " '2022-11-04 13:30:00',\n",
       " '2022-11-04 13:45:00',\n",
       " '2022-11-04 14:00:00',\n",
       " '2022-11-04 14:15:00',\n",
       " '2022-11-04 14:30:00',\n",
       " '2022-11-04 14:45:00',\n",
       " '2022-11-04 15:00:00',\n",
       " '2022-11-04 15:15:00',\n",
       " '2022-11-07 09:15:00',\n",
       " '2022-11-07 09:30:00',\n",
       " '2022-11-07 09:45:00',\n",
       " '2022-11-07 10:00:00',\n",
       " '2022-11-07 10:15:00',\n",
       " '2022-11-07 10:30:00',\n",
       " '2022-11-07 10:45:00',\n",
       " '2022-11-07 11:00:00',\n",
       " '2022-11-07 11:15:00',\n",
       " '2022-11-07 11:30:00',\n",
       " '2022-11-07 11:45:00',\n",
       " '2022-11-07 12:00:00',\n",
       " '2022-11-07 12:15:00',\n",
       " '2022-11-07 12:30:00',\n",
       " '2022-11-07 12:45:00',\n",
       " '2022-11-07 13:00:00',\n",
       " '2022-11-07 13:15:00',\n",
       " '2022-11-07 13:30:00',\n",
       " '2022-11-07 13:45:00',\n",
       " '2022-11-07 14:00:00',\n",
       " '2022-11-07 14:15:00',\n",
       " '2022-11-07 14:30:00',\n",
       " '2022-11-07 14:45:00',\n",
       " '2022-11-07 15:00:00',\n",
       " '2022-11-07 15:15:00',\n",
       " '2022-11-09 09:15:00',\n",
       " '2022-11-09 09:30:00',\n",
       " '2022-11-09 09:45:00',\n",
       " '2022-11-09 10:00:00',\n",
       " '2022-11-09 10:15:00',\n",
       " '2022-11-09 10:30:00',\n",
       " '2022-11-09 10:45:00',\n",
       " '2022-11-09 11:00:00',\n",
       " '2022-11-09 11:15:00',\n",
       " '2022-11-09 11:30:00',\n",
       " '2022-11-09 11:45:00',\n",
       " '2022-11-09 12:00:00',\n",
       " '2022-11-09 12:15:00',\n",
       " '2022-11-09 12:30:00',\n",
       " '2022-11-09 12:45:00',\n",
       " '2022-11-09 13:00:00',\n",
       " '2022-11-09 13:15:00',\n",
       " '2022-11-09 13:30:00',\n",
       " '2022-11-09 13:45:00',\n",
       " '2022-11-09 14:00:00',\n",
       " '2022-11-09 14:15:00',\n",
       " '2022-11-09 14:30:00',\n",
       " '2022-11-09 14:45:00',\n",
       " '2022-11-09 15:00:00',\n",
       " '2022-11-09 15:15:00',\n",
       " '2022-11-10 09:15:00',\n",
       " '2022-11-11 09:15:00',\n",
       " '2022-11-11 09:30:00',\n",
       " '2022-11-11 09:45:00',\n",
       " '2022-11-11 10:00:00',\n",
       " '2022-11-11 10:15:00',\n",
       " '2022-11-11 10:30:00',\n",
       " '2022-11-11 10:45:00',\n",
       " '2022-11-11 11:00:00',\n",
       " '2022-11-11 11:15:00',\n",
       " '2022-11-11 11:30:00',\n",
       " '2022-11-11 11:45:00',\n",
       " '2022-11-11 12:00:00',\n",
       " '2022-11-11 12:15:00',\n",
       " '2022-11-11 12:30:00',\n",
       " '2022-11-11 12:45:00',\n",
       " '2022-11-11 13:00:00',\n",
       " '2022-11-11 13:15:00',\n",
       " '2022-11-11 13:30:00',\n",
       " '2022-11-11 13:45:00',\n",
       " '2022-11-11 14:00:00',\n",
       " '2022-11-11 14:15:00',\n",
       " '2022-11-11 14:30:00',\n",
       " '2022-11-11 14:45:00',\n",
       " '2022-11-11 15:00:00',\n",
       " '2022-11-11 15:15:00',\n",
       " '2022-11-14 09:15:00',\n",
       " '2022-11-14 09:30:00',\n",
       " '2022-11-14 09:45:00',\n",
       " '2022-11-14 10:00:00',\n",
       " '2022-11-14 10:15:00',\n",
       " '2022-11-14 10:30:00',\n",
       " '2022-11-14 10:45:00',\n",
       " '2022-11-14 11:00:00',\n",
       " '2022-11-14 11:15:00',\n",
       " '2022-11-14 11:30:00',\n",
       " '2022-11-14 11:45:00',\n",
       " '2022-11-14 12:00:00',\n",
       " '2022-11-14 12:15:00',\n",
       " '2022-11-14 12:30:00',\n",
       " '2022-11-14 12:45:00',\n",
       " '2022-11-14 13:00:00',\n",
       " '2022-11-14 13:15:00',\n",
       " '2022-11-14 13:30:00',\n",
       " '2022-11-14 13:45:00',\n",
       " '2022-11-14 14:00:00',\n",
       " '2022-11-14 14:15:00',\n",
       " '2022-11-14 14:30:00',\n",
       " '2022-11-14 14:45:00',\n",
       " '2022-11-14 15:00:00',\n",
       " '2022-11-14 15:15:00',\n",
       " '2022-11-15 09:15:00',\n",
       " '2022-11-15 09:30:00',\n",
       " '2022-11-15 09:45:00',\n",
       " '2022-11-15 10:00:00',\n",
       " '2022-11-15 10:15:00',\n",
       " '2022-11-15 10:30:00',\n",
       " '2022-11-15 10:45:00',\n",
       " '2022-11-15 11:00:00',\n",
       " '2022-11-15 11:15:00',\n",
       " '2022-11-15 11:30:00',\n",
       " '2022-11-15 11:45:00',\n",
       " '2022-11-15 12:00:00',\n",
       " '2022-11-15 12:15:00',\n",
       " '2022-11-15 12:30:00',\n",
       " '2022-11-15 12:45:00',\n",
       " '2022-11-15 13:00:00',\n",
       " '2022-11-15 13:15:00',\n",
       " '2022-11-15 13:30:00',\n",
       " '2022-11-15 13:45:00',\n",
       " '2022-11-15 14:00:00',\n",
       " '2022-11-15 14:15:00',\n",
       " '2022-11-15 14:30:00',\n",
       " '2022-11-15 14:45:00',\n",
       " '2022-11-15 15:00:00',\n",
       " '2022-11-15 15:15:00',\n",
       " '2022-11-16 09:15:00',\n",
       " '2022-11-16 09:30:00',\n",
       " '2022-11-16 09:45:00',\n",
       " '2022-11-16 10:00:00',\n",
       " '2022-11-16 10:15:00',\n",
       " '2022-11-16 10:30:00',\n",
       " '2022-11-16 10:45:00',\n",
       " '2022-11-16 11:00:00',\n",
       " '2022-11-16 11:15:00',\n",
       " '2022-11-16 11:30:00',\n",
       " '2022-11-16 11:45:00',\n",
       " '2022-11-16 12:00:00',\n",
       " '2022-11-16 12:15:00',\n",
       " '2022-11-16 12:30:00',\n",
       " '2022-11-16 12:45:00',\n",
       " '2022-11-16 13:00:00',\n",
       " '2022-11-16 13:15:00',\n",
       " '2022-11-16 13:30:00',\n",
       " '2022-11-16 13:45:00',\n",
       " '2022-11-16 14:00:00',\n",
       " '2022-11-16 14:15:00',\n",
       " '2022-11-16 14:30:00',\n",
       " '2022-11-16 14:45:00',\n",
       " '2022-11-16 15:00:00',\n",
       " '2022-11-17 09:15:00',\n",
       " '2022-11-17 09:30:00',\n",
       " '2022-11-17 09:45:00',\n",
       " '2022-11-17 10:00:00',\n",
       " '2022-11-17 10:15:00',\n",
       " '2022-11-17 10:30:00',\n",
       " '2022-11-17 10:45:00',\n",
       " '2022-11-17 11:00:00',\n",
       " '2022-11-17 11:15:00',\n",
       " '2022-11-17 11:30:00',\n",
       " '2022-11-17 11:45:00',\n",
       " '2022-11-17 12:00:00',\n",
       " '2022-11-17 12:15:00',\n",
       " '2022-11-17 12:30:00',\n",
       " '2022-11-17 12:45:00',\n",
       " '2022-11-17 13:00:00',\n",
       " '2022-11-17 13:15:00',\n",
       " '2022-11-17 13:30:00',\n",
       " '2022-11-17 13:45:00',\n",
       " '2022-11-17 14:00:00',\n",
       " '2022-11-17 14:15:00',\n",
       " '2022-11-17 14:30:00',\n",
       " '2022-11-17 14:45:00',\n",
       " '2022-11-17 15:00:00',\n",
       " '2022-11-17 15:15:00',\n",
       " '2022-11-18 09:15:00',\n",
       " '2022-11-18 09:30:00',\n",
       " '2022-11-18 09:45:00',\n",
       " '2022-11-18 10:00:00',\n",
       " '2022-11-18 10:15:00',\n",
       " '2022-11-18 10:30:00',\n",
       " '2022-11-18 10:45:00',\n",
       " '2022-11-18 11:00:00',\n",
       " '2022-11-18 11:15:00',\n",
       " '2022-11-18 11:30:00',\n",
       " '2022-11-18 11:45:00',\n",
       " '2022-11-18 12:00:00',\n",
       " '2022-11-18 12:15:00',\n",
       " '2022-11-18 12:30:00',\n",
       " '2022-11-18 12:45:00',\n",
       " '2022-11-18 13:00:00',\n",
       " '2022-11-18 13:15:00',\n",
       " '2022-11-18 13:30:00',\n",
       " '2022-11-18 13:45:00',\n",
       " '2022-11-18 14:00:00',\n",
       " '2022-11-18 14:15:00',\n",
       " '2022-11-18 14:30:00',\n",
       " '2022-11-18 14:45:00',\n",
       " '2022-11-18 15:00:00',\n",
       " '2022-11-18 15:15:00',\n",
       " '2022-11-21 09:15:00',\n",
       " '2022-11-21 09:30:00',\n",
       " '2022-11-21 09:45:00',\n",
       " '2022-11-21 10:00:00',\n",
       " '2022-11-21 10:15:00',\n",
       " '2022-11-21 10:30:00',\n",
       " '2022-11-21 10:45:00',\n",
       " '2022-11-21 11:00:00',\n",
       " '2022-11-21 11:15:00',\n",
       " '2022-11-21 11:30:00',\n",
       " '2022-11-21 11:45:00',\n",
       " '2022-11-21 12:00:00',\n",
       " '2022-11-21 12:15:00',\n",
       " '2022-11-21 12:30:00',\n",
       " '2022-11-21 12:45:00',\n",
       " '2022-11-21 13:00:00',\n",
       " '2022-11-21 13:15:00',\n",
       " '2022-11-21 13:30:00',\n",
       " '2022-11-21 13:45:00',\n",
       " '2022-11-21 14:00:00',\n",
       " '2022-11-21 14:15:00',\n",
       " '2022-11-21 14:30:00',\n",
       " '2022-11-21 14:45:00',\n",
       " '2022-11-21 15:00:00',\n",
       " '2022-11-21 15:15:00',\n",
       " '2022-11-22 09:15:00',\n",
       " '2022-11-22 09:30:00',\n",
       " '2022-11-22 09:45:00',\n",
       " '2022-11-22 10:00:00',\n",
       " '2022-11-22 10:15:00',\n",
       " '2022-11-22 10:30:00',\n",
       " '2022-11-22 10:45:00',\n",
       " '2022-11-22 11:00:00',\n",
       " '2022-11-22 11:15:00',\n",
       " '2022-11-22 11:30:00',\n",
       " '2022-11-22 11:45:00',\n",
       " '2022-11-22 12:00:00',\n",
       " '2022-11-22 12:15:00',\n",
       " '2022-11-22 12:30:00',\n",
       " '2022-11-22 12:45:00',\n",
       " '2022-11-22 13:00:00',\n",
       " '2022-11-22 13:15:00',\n",
       " '2022-11-22 13:30:00',\n",
       " '2022-11-22 13:45:00',\n",
       " '2022-11-22 14:00:00',\n",
       " '2022-11-22 14:15:00',\n",
       " '2022-11-22 14:30:00',\n",
       " '2022-11-22 14:45:00',\n",
       " '2022-11-22 15:00:00',\n",
       " '2022-11-22 15:15:00',\n",
       " '2022-11-23 09:15:00',\n",
       " '2022-11-23 09:30:00',\n",
       " '2022-11-23 09:45:00',\n",
       " '2022-11-23 10:00:00',\n",
       " '2022-11-23 10:15:00',\n",
       " '2022-11-23 10:30:00',\n",
       " '2022-11-23 10:45:00',\n",
       " '2022-11-23 11:00:00',\n",
       " '2022-11-23 11:15:00',\n",
       " '2022-11-23 11:30:00',\n",
       " '2022-11-23 11:45:00',\n",
       " '2022-11-23 12:00:00',\n",
       " '2022-11-23 12:15:00',\n",
       " '2022-11-23 12:30:00',\n",
       " '2022-11-23 12:45:00',\n",
       " '2022-11-23 13:00:00',\n",
       " '2022-11-23 13:15:00',\n",
       " '2022-11-23 13:30:00',\n",
       " '2022-11-23 13:45:00',\n",
       " '2022-11-23 14:00:00',\n",
       " '2022-11-23 14:15:00',\n",
       " '2022-11-23 14:30:00',\n",
       " '2022-11-23 14:45:00',\n",
       " '2022-11-23 15:00:00',\n",
       " '2022-11-23 15:15:00',\n",
       " '2022-11-24 09:15:00',\n",
       " '2022-11-24 09:30:00',\n",
       " '2022-11-24 09:45:00',\n",
       " '2022-11-24 10:00:00',\n",
       " '2022-11-24 10:15:00',\n",
       " '2022-11-24 10:30:00',\n",
       " '2022-11-24 10:45:00',\n",
       " '2022-11-24 11:00:00',\n",
       " '2022-11-24 11:15:00',\n",
       " '2022-11-24 11:30:00',\n",
       " '2022-11-24 11:45:00',\n",
       " '2022-11-24 12:00:00',\n",
       " '2022-11-24 12:15:00',\n",
       " '2022-11-24 12:30:00',\n",
       " '2022-11-24 12:45:00',\n",
       " '2022-11-24 13:00:00',\n",
       " '2022-11-24 13:15:00',\n",
       " '2022-11-24 13:30:00',\n",
       " '2022-11-24 13:45:00',\n",
       " '2022-11-24 14:00:00',\n",
       " '2022-11-24 14:15:00',\n",
       " '2022-11-24 14:30:00',\n",
       " '2022-11-24 14:45:00',\n",
       " '2022-11-24 15:00:00',\n",
       " '2022-11-24 15:15:00',\n",
       " '2022-11-25 09:15:00',\n",
       " '2022-11-25 09:30:00',\n",
       " '2022-11-25 09:45:00',\n",
       " '2022-11-25 10:00:00',\n",
       " '2022-11-25 10:15:00',\n",
       " '2022-11-25 10:30:00',\n",
       " '2022-11-25 10:45:00',\n",
       " '2022-11-25 11:00:00',\n",
       " '2022-11-25 11:15:00',\n",
       " '2022-11-25 11:30:00',\n",
       " '2022-11-25 11:45:00',\n",
       " '2022-11-25 12:00:00',\n",
       " '2022-11-25 12:15:00',\n",
       " '2022-11-25 12:30:00',\n",
       " '2022-11-25 12:45:00',\n",
       " '2022-11-25 13:00:00',\n",
       " '2022-11-25 13:15:00',\n",
       " '2022-11-25 13:30:00',\n",
       " '2022-11-25 13:45:00',\n",
       " '2022-11-25 14:00:00',\n",
       " '2022-11-25 14:15:00',\n",
       " '2022-11-25 14:30:00',\n",
       " '2022-11-25 14:45:00',\n",
       " '2022-11-25 15:00:00',\n",
       " '2022-11-25 15:15:00',\n",
       " '2022-11-28 09:15:00',\n",
       " '2022-11-28 09:30:00',\n",
       " '2022-11-28 09:45:00',\n",
       " '2022-11-28 10:00:00',\n",
       " '2022-11-28 10:15:00',\n",
       " '2022-11-28 10:30:00',\n",
       " '2022-11-28 10:45:00',\n",
       " '2022-11-28 11:00:00',\n",
       " '2022-11-28 11:15:00',\n",
       " '2022-11-28 11:30:00',\n",
       " '2022-11-28 11:45:00',\n",
       " '2022-11-28 12:00:00',\n",
       " '2022-11-28 12:15:00',\n",
       " '2022-11-28 12:30:00',\n",
       " '2022-11-28 12:45:00',\n",
       " '2022-11-28 13:00:00',\n",
       " '2022-11-28 13:15:00',\n",
       " '2022-11-28 13:30:00',\n",
       " '2022-11-28 13:45:00',\n",
       " '2022-11-28 14:00:00',\n",
       " '2022-11-28 14:15:00',\n",
       " '2022-11-28 14:30:00',\n",
       " '2022-11-28 14:45:00',\n",
       " '2022-11-28 15:00:00',\n",
       " '2022-11-28 15:15:00',\n",
       " '2022-11-29 09:15:00',\n",
       " '2022-11-29 09:30:00',\n",
       " '2022-11-29 09:45:00',\n",
       " '2022-11-29 10:00:00',\n",
       " '2022-11-29 10:15:00',\n",
       " '2022-11-29 10:30:00',\n",
       " '2022-11-29 10:45:00',\n",
       " '2022-11-29 11:00:00',\n",
       " '2022-11-29 11:15:00',\n",
       " '2022-11-29 11:30:00',\n",
       " '2022-11-29 11:45:00',\n",
       " '2022-11-29 12:00:00',\n",
       " '2022-11-29 12:15:00',\n",
       " '2022-11-29 12:30:00',\n",
       " '2022-11-29 12:45:00',\n",
       " '2022-11-29 13:00:00',\n",
       " '2022-11-29 13:15:00',\n",
       " '2022-11-29 13:30:00',\n",
       " '2022-11-29 13:45:00',\n",
       " '2022-11-29 14:00:00',\n",
       " '2022-11-29 14:15:00',\n",
       " '2022-11-29 14:30:00',\n",
       " '2022-11-29 14:45:00',\n",
       " '2022-11-29 15:00:00',\n",
       " '2022-11-29 15:15:00',\n",
       " '2022-11-30 09:15:00',\n",
       " '2022-11-30 09:30:00',\n",
       " '2022-11-30 09:45:00',\n",
       " '2022-11-30 10:00:00',\n",
       " '2022-11-30 10:15:00',\n",
       " '2022-11-30 10:30:00',\n",
       " '2022-11-30 10:45:00',\n",
       " '2022-11-30 11:00:00',\n",
       " '2022-11-30 11:15:00',\n",
       " '2022-11-30 11:30:00',\n",
       " '2022-11-30 11:45:00',\n",
       " '2022-11-30 12:00:00',\n",
       " '2022-11-30 12:15:00',\n",
       " '2022-11-30 12:30:00',\n",
       " '2022-11-30 12:45:00',\n",
       " '2022-11-30 13:00:00',\n",
       " '2022-11-30 13:15:00',\n",
       " '2022-11-30 13:30:00',\n",
       " '2022-11-30 13:45:00',\n",
       " '2022-11-30 14:00:00',\n",
       " '2022-11-30 14:15:00',\n",
       " '2022-11-30 14:30:00',\n",
       " '2022-11-30 14:45:00',\n",
       " '2022-11-30 15:00:00',\n",
       " '2022-11-30 15:15:00',\n",
       " '2022-12-01 09:15:00',\n",
       " '2022-12-01 09:30:00',\n",
       " '2022-12-01 09:45:00',\n",
       " '2022-12-01 10:00:00',\n",
       " '2022-12-01 10:15:00',\n",
       " '2022-12-01 10:30:00',\n",
       " '2022-12-01 10:45:00',\n",
       " '2022-12-01 11:00:00',\n",
       " '2022-12-01 11:15:00',\n",
       " '2022-12-01 11:30:00',\n",
       " '2022-12-01 11:45:00',\n",
       " '2022-12-01 12:00:00',\n",
       " '2022-12-01 12:15:00',\n",
       " '2022-12-01 12:30:00',\n",
       " '2022-12-01 12:45:00',\n",
       " '2022-12-01 13:00:00',\n",
       " '2022-12-01 13:15:00',\n",
       " '2022-12-01 13:30:00',\n",
       " '2022-12-01 13:45:00',\n",
       " '2022-12-01 14:00:00',\n",
       " '2022-12-01 14:15:00',\n",
       " '2022-12-01 14:30:00',\n",
       " '2022-12-01 14:45:00',\n",
       " '2022-12-01 15:00:00',\n",
       " '2022-12-01 15:15:00',\n",
       " '2022-12-02 09:15:00',\n",
       " '2022-12-02 09:30:00',\n",
       " '2022-12-02 09:45:00',\n",
       " '2022-12-02 10:00:00',\n",
       " '2022-12-02 10:15:00',\n",
       " '2022-12-02 10:30:00',\n",
       " '2022-12-02 10:45:00',\n",
       " '2022-12-02 11:00:00',\n",
       " '2022-12-02 11:15:00',\n",
       " '2022-12-02 11:30:00',\n",
       " '2022-12-02 11:45:00',\n",
       " '2022-12-02 12:00:00',\n",
       " '2022-12-02 12:15:00',\n",
       " '2022-12-02 12:30:00',\n",
       " '2022-12-02 12:45:00',\n",
       " '2022-12-02 13:00:00',\n",
       " '2022-12-02 13:15:00',\n",
       " '2022-12-02 13:30:00',\n",
       " '2022-12-02 13:45:00',\n",
       " '2022-12-02 14:00:00',\n",
       " '2022-12-02 14:15:00',\n",
       " '2022-12-02 14:30:00',\n",
       " '2022-12-02 14:45:00',\n",
       " '2022-12-02 15:00:00',\n",
       " '2022-12-02 15:15:00',\n",
       " '2022-12-05 09:15:00',\n",
       " '2022-12-05 09:30:00',\n",
       " '2022-12-05 09:45:00',\n",
       " '2022-12-05 10:00:00',\n",
       " '2022-12-05 10:15:00',\n",
       " '2022-12-05 10:30:00',\n",
       " '2022-12-05 10:45:00',\n",
       " '2022-12-05 11:00:00',\n",
       " '2022-12-05 11:15:00',\n",
       " '2022-12-05 11:30:00',\n",
       " '2022-12-05 11:45:00',\n",
       " '2022-12-05 12:00:00',\n",
       " '2022-12-05 12:15:00',\n",
       " '2022-12-05 12:30:00',\n",
       " '2022-12-05 12:45:00',\n",
       " '2022-12-05 13:00:00',\n",
       " '2022-12-05 13:15:00',\n",
       " '2022-12-05 13:30:00',\n",
       " '2022-12-05 13:45:00',\n",
       " '2022-12-05 14:00:00',\n",
       " '2022-12-05 14:15:00',\n",
       " '2022-12-05 14:30:00',\n",
       " '2022-12-05 14:45:00',\n",
       " '2022-12-05 15:00:00',\n",
       " '2022-12-05 15:15:00',\n",
       " '2022-12-06 09:15:00',\n",
       " '2022-12-06 09:30:00',\n",
       " '2022-12-06 09:45:00',\n",
       " '2022-12-06 10:00:00',\n",
       " '2022-12-06 10:15:00',\n",
       " '2022-12-06 10:30:00',\n",
       " '2022-12-06 10:45:00',\n",
       " '2022-12-06 11:00:00',\n",
       " '2022-12-06 11:15:00',\n",
       " '2022-12-06 11:30:00',\n",
       " '2022-12-06 11:45:00',\n",
       " '2022-12-06 12:00:00',\n",
       " '2022-12-06 12:15:00',\n",
       " '2022-12-06 12:30:00',\n",
       " '2022-12-06 12:45:00',\n",
       " '2022-12-06 13:00:00',\n",
       " '2022-12-06 13:15:00',\n",
       " '2022-12-06 13:30:00',\n",
       " '2022-12-06 13:45:00',\n",
       " '2022-12-06 14:00:00',\n",
       " '2022-12-06 14:15:00',\n",
       " '2022-12-06 14:30:00',\n",
       " '2022-12-06 14:45:00',\n",
       " '2022-12-06 15:00:00',\n",
       " '2022-12-06 15:15:00',\n",
       " '2022-12-07 09:15:00',\n",
       " '2022-12-07 09:30:00',\n",
       " '2022-12-07 09:45:00',\n",
       " '2022-12-07 10:00:00',\n",
       " '2022-12-07 10:15:00',\n",
       " '2022-12-07 10:30:00',\n",
       " '2022-12-07 10:45:00',\n",
       " '2022-12-07 11:00:00',\n",
       " '2022-12-07 11:15:00',\n",
       " '2022-12-07 11:30:00',\n",
       " '2022-12-07 11:45:00',\n",
       " '2022-12-07 12:00:00',\n",
       " '2022-12-07 12:15:00',\n",
       " '2022-12-07 12:30:00',\n",
       " '2022-12-07 12:45:00',\n",
       " '2022-12-07 13:00:00',\n",
       " '2022-12-07 13:15:00',\n",
       " '2022-12-07 13:30:00',\n",
       " '2022-12-07 13:45:00',\n",
       " '2022-12-07 14:00:00',\n",
       " '2022-12-07 14:15:00',\n",
       " '2022-12-07 14:30:00',\n",
       " '2022-12-07 14:45:00',\n",
       " '2022-12-07 15:00:00',\n",
       " '2022-12-07 15:15:00',\n",
       " '2022-12-08 09:15:00',\n",
       " '2022-12-08 09:30:00',\n",
       " '2022-12-08 09:45:00',\n",
       " '2022-12-08 10:00:00',\n",
       " '2022-12-08 10:15:00',\n",
       " '2022-12-08 10:30:00',\n",
       " '2022-12-08 10:45:00',\n",
       " '2022-12-08 11:00:00',\n",
       " '2022-12-08 11:15:00',\n",
       " '2022-12-08 11:30:00',\n",
       " '2022-12-08 11:45:00',\n",
       " '2022-12-08 12:00:00',\n",
       " '2022-12-08 12:15:00',\n",
       " '2022-12-08 12:30:00',\n",
       " '2022-12-08 12:45:00',\n",
       " '2022-12-08 13:00:00',\n",
       " '2022-12-08 13:15:00',\n",
       " '2022-12-08 13:30:00',\n",
       " '2022-12-08 13:45:00',\n",
       " '2022-12-08 14:00:00',\n",
       " '2022-12-08 14:15:00',\n",
       " '2022-12-08 14:30:00',\n",
       " '2022-12-08 14:45:00',\n",
       " '2022-12-08 15:00:00',\n",
       " '2022-12-08 15:15:00',\n",
       " '2022-12-09 09:15:00',\n",
       " '2022-12-09 09:30:00',\n",
       " '2022-12-09 09:45:00',\n",
       " '2022-12-09 10:00:00',\n",
       " '2022-12-09 10:15:00',\n",
       " '2022-12-09 10:30:00',\n",
       " '2022-12-09 10:45:00',\n",
       " '2022-12-09 11:00:00',\n",
       " '2022-12-09 11:15:00',\n",
       " '2022-12-09 11:30:00',\n",
       " '2022-12-09 11:45:00',\n",
       " '2022-12-09 12:00:00',\n",
       " '2022-12-09 12:15:00',\n",
       " '2022-12-09 12:30:00',\n",
       " '2022-12-09 12:45:00',\n",
       " '2022-12-09 13:00:00',\n",
       " '2022-12-09 13:15:00',\n",
       " '2022-12-09 13:30:00',\n",
       " '2022-12-09 13:45:00',\n",
       " '2022-12-09 14:00:00',\n",
       " '2022-12-09 14:15:00',\n",
       " '2022-12-09 14:30:00',\n",
       " '2022-12-09 14:45:00',\n",
       " '2022-12-09 15:00:00',\n",
       " '2022-12-09 15:15:00',\n",
       " '2022-12-12 09:15:00',\n",
       " '2022-12-12 09:30:00',\n",
       " '2022-12-12 09:45:00',\n",
       " '2022-12-12 10:00:00',\n",
       " '2022-12-12 10:15:00',\n",
       " '2022-12-12 10:30:00',\n",
       " '2022-12-12 10:45:00',\n",
       " '2022-12-12 11:00:00',\n",
       " '2022-12-12 11:15:00',\n",
       " '2022-12-12 11:30:00',\n",
       " '2022-12-12 11:45:00',\n",
       " '2022-12-12 12:00:00',\n",
       " '2022-12-12 12:15:00',\n",
       " '2022-12-12 12:30:00',\n",
       " '2022-12-12 12:45:00',\n",
       " '2022-12-12 13:00:00',\n",
       " '2022-12-12 13:15:00',\n",
       " '2022-12-12 13:30:00',\n",
       " '2022-12-12 13:45:00',\n",
       " '2022-12-12 14:00:00',\n",
       " '2022-12-12 14:15:00',\n",
       " '2022-12-12 14:30:00',\n",
       " '2022-12-12 14:45:00',\n",
       " '2022-12-12 15:00:00',\n",
       " '2022-12-12 15:15:00',\n",
       " '2022-12-13 09:15:00',\n",
       " '2022-12-13 09:30:00',\n",
       " '2022-12-13 09:45:00',\n",
       " '2022-12-13 10:00:00',\n",
       " '2022-12-13 10:15:00',\n",
       " '2022-12-13 10:30:00',\n",
       " '2022-12-13 10:45:00',\n",
       " '2022-12-13 11:00:00',\n",
       " '2022-12-13 11:15:00',\n",
       " '2022-12-13 11:30:00',\n",
       " '2022-12-13 11:45:00',\n",
       " '2022-12-13 12:00:00',\n",
       " '2022-12-13 12:15:00',\n",
       " '2022-12-13 12:30:00',\n",
       " '2022-12-13 12:45:00',\n",
       " '2022-12-13 13:00:00',\n",
       " '2022-12-13 13:15:00',\n",
       " '2022-12-13 13:30:00',\n",
       " '2022-12-13 13:45:00',\n",
       " '2022-12-13 14:00:00',\n",
       " '2022-12-13 14:15:00',\n",
       " '2022-12-13 14:30:00',\n",
       " '2022-12-13 14:45:00',\n",
       " '2022-12-13 15:00:00',\n",
       " '2022-12-13 15:15:00',\n",
       " '2022-12-14 09:15:00',\n",
       " '2022-12-14 09:30:00',\n",
       " '2022-12-14 09:45:00',\n",
       " '2022-12-14 10:00:00',\n",
       " '2022-12-14 10:15:00',\n",
       " '2022-12-14 10:30:00',\n",
       " '2022-12-14 10:45:00',\n",
       " '2022-12-14 11:00:00',\n",
       " '2022-12-14 11:15:00',\n",
       " '2022-12-14 11:30:00',\n",
       " '2022-12-14 11:45:00',\n",
       " '2022-12-14 12:00:00',\n",
       " '2022-12-14 12:15:00',\n",
       " '2022-12-14 12:30:00',\n",
       " '2022-12-14 12:45:00',\n",
       " '2022-12-14 13:00:00',\n",
       " '2022-12-14 13:15:00',\n",
       " '2022-12-14 13:30:00',\n",
       " '2022-12-14 13:45:00',\n",
       " '2022-12-14 14:00:00',\n",
       " '2022-12-14 14:15:00',\n",
       " '2022-12-14 14:30:00',\n",
       " '2022-12-14 14:45:00',\n",
       " '2022-12-14 15:00:00',\n",
       " '2022-12-14 15:15:00',\n",
       " '2022-12-15 09:15:00',\n",
       " '2022-12-15 09:30:00',\n",
       " '2022-12-15 09:45:00',\n",
       " '2022-12-15 10:00:00',\n",
       " '2022-12-15 10:15:00',\n",
       " '2022-12-15 10:30:00',\n",
       " '2022-12-15 10:45:00',\n",
       " '2022-12-15 11:00:00',\n",
       " '2022-12-15 11:15:00',\n",
       " '2022-12-15 11:30:00',\n",
       " '2022-12-15 11:45:00',\n",
       " '2022-12-15 12:00:00',\n",
       " '2022-12-15 12:15:00',\n",
       " '2022-12-15 12:30:00',\n",
       " '2022-12-15 12:45:00',\n",
       " '2022-12-15 13:00:00',\n",
       " '2022-12-15 13:15:00',\n",
       " '2022-12-15 13:30:00',\n",
       " '2022-12-15 13:45:00',\n",
       " '2022-12-15 14:00:00',\n",
       " '2022-12-15 14:15:00',\n",
       " '2022-12-15 14:30:00',\n",
       " '2022-12-15 14:45:00',\n",
       " '2022-12-15 15:00:00',\n",
       " '2022-12-15 15:15:00',\n",
       " '2022-12-16 09:15:00',\n",
       " '2022-12-16 09:30:00',\n",
       " '2022-12-16 09:45:00',\n",
       " '2022-12-16 10:00:00',\n",
       " '2022-12-16 10:15:00',\n",
       " '2022-12-16 10:30:00',\n",
       " '2022-12-16 10:45:00',\n",
       " '2022-12-16 11:00:00',\n",
       " '2022-12-16 11:15:00',\n",
       " '2022-12-16 11:30:00',\n",
       " '2022-12-16 11:45:00',\n",
       " '2022-12-16 12:00:00',\n",
       " '2022-12-16 12:15:00',\n",
       " '2022-12-16 12:30:00',\n",
       " '2022-12-16 12:45:00',\n",
       " '2022-12-16 13:00:00',\n",
       " '2022-12-16 13:15:00',\n",
       " '2022-12-16 13:30:00',\n",
       " '2022-12-16 13:45:00',\n",
       " '2022-12-16 14:00:00',\n",
       " '2022-12-16 14:15:00',\n",
       " '2022-12-16 14:30:00',\n",
       " '2022-12-16 14:45:00',\n",
       " '2022-12-16 15:00:00',\n",
       " '2022-12-16 15:15:00',\n",
       " '2022-12-19 09:15:00',\n",
       " '2022-12-19 09:30:00',\n",
       " '2022-12-19 09:45:00',\n",
       " '2022-12-19 10:00:00',\n",
       " '2022-12-19 10:15:00',\n",
       " '2022-12-19 10:30:00',\n",
       " '2022-12-19 10:45:00',\n",
       " '2022-12-19 11:00:00',\n",
       " '2022-12-19 11:15:00',\n",
       " '2022-12-19 11:30:00',\n",
       " '2022-12-19 11:45:00',\n",
       " '2022-12-19 12:00:00',\n",
       " '2022-12-19 12:15:00',\n",
       " '2022-12-19 12:30:00',\n",
       " '2022-12-19 12:45:00',\n",
       " '2022-12-19 13:00:00',\n",
       " '2022-12-19 13:15:00',\n",
       " '2022-12-19 13:30:00',\n",
       " '2022-12-19 13:45:00',\n",
       " '2022-12-19 14:00:00',\n",
       " '2022-12-19 14:15:00',\n",
       " '2022-12-19 14:30:00',\n",
       " '2022-12-19 14:45:00',\n",
       " '2022-12-19 15:00:00',\n",
       " '2022-12-19 15:15:00',\n",
       " '2022-12-20 09:15:00',\n",
       " '2022-12-20 09:30:00',\n",
       " '2022-12-20 09:45:00',\n",
       " '2022-12-20 10:00:00',\n",
       " '2022-12-20 10:15:00',\n",
       " '2022-12-20 10:30:00',\n",
       " '2022-12-20 10:45:00',\n",
       " '2022-12-20 11:00:00',\n",
       " '2022-12-20 11:15:00',\n",
       " '2022-12-20 11:30:00',\n",
       " '2022-12-20 11:45:00',\n",
       " '2022-12-20 12:00:00',\n",
       " '2022-12-20 12:15:00',\n",
       " '2022-12-20 12:30:00',\n",
       " '2022-12-20 12:45:00',\n",
       " '2022-12-20 13:00:00',\n",
       " '2022-12-20 13:15:00',\n",
       " '2022-12-20 13:30:00',\n",
       " '2022-12-20 13:45:00',\n",
       " '2022-12-20 14:00:00',\n",
       " '2022-12-20 14:15:00',\n",
       " '2022-12-20 14:30:00',\n",
       " '2022-12-20 14:45:00',\n",
       " '2022-12-20 15:00:00',\n",
       " '2022-12-20 15:15:00',\n",
       " '2022-12-21 09:15:00',\n",
       " '2022-12-21 09:30:00',\n",
       " '2022-12-21 09:45:00',\n",
       " '2022-12-21 10:00:00',\n",
       " '2022-12-21 10:15:00',\n",
       " '2022-12-21 10:30:00',\n",
       " '2022-12-21 10:45:00',\n",
       " '2022-12-21 11:00:00',\n",
       " '2022-12-21 11:15:00',\n",
       " '2022-12-21 11:30:00',\n",
       " '2022-12-21 11:45:00',\n",
       " '2022-12-21 12:00:00',\n",
       " '2022-12-21 12:15:00',\n",
       " '2022-12-21 12:30:00',\n",
       " '2022-12-21 12:45:00',\n",
       " '2022-12-21 13:00:00',\n",
       " '2022-12-21 13:15:00',\n",
       " '2022-12-21 13:30:00',\n",
       " '2022-12-21 13:45:00',\n",
       " '2022-12-21 14:00:00',\n",
       " '2022-12-21 14:15:00',\n",
       " '2022-12-21 14:30:00',\n",
       " '2022-12-21 14:45:00',\n",
       " '2022-12-21 15:00:00',\n",
       " '2022-12-21 15:15:00',\n",
       " '2022-12-22 09:15:00',\n",
       " '2022-12-22 09:30:00',\n",
       " '2022-12-22 09:45:00',\n",
       " '2022-12-22 10:00:00',\n",
       " '2022-12-22 10:15:00',\n",
       " '2022-12-22 10:30:00',\n",
       " '2022-12-22 10:45:00',\n",
       " '2022-12-22 11:00:00',\n",
       " '2022-12-22 11:15:00',\n",
       " '2022-12-22 11:30:00',\n",
       " '2022-12-22 11:45:00',\n",
       " '2022-12-22 12:00:00',\n",
       " '2022-12-22 12:15:00',\n",
       " '2022-12-22 12:30:00',\n",
       " '2022-12-22 12:45:00',\n",
       " '2022-12-22 13:00:00',\n",
       " '2022-12-22 13:15:00',\n",
       " '2022-12-22 13:30:00',\n",
       " '2022-12-22 13:45:00',\n",
       " '2022-12-22 14:00:00',\n",
       " '2022-12-22 14:15:00',\n",
       " '2022-12-22 14:30:00',\n",
       " '2022-12-22 14:45:00',\n",
       " '2022-12-22 15:00:00',\n",
       " '2022-12-22 15:15:00',\n",
       " '2022-12-23 09:15:00',\n",
       " '2022-12-23 09:30:00',\n",
       " '2022-12-23 09:45:00',\n",
       " '2022-12-23 10:00:00',\n",
       " '2022-12-23 10:15:00',\n",
       " ...]"
      ]
     },
     "execution_count": 20,
     "metadata": {},
     "output_type": "execute_result"
    }
   ],
   "source": [
    "iv_data.Datetime.values.tolist()[int(0.7*len(iv_data)):]"
   ]
  },
  {
   "cell_type": "code",
   "execution_count": 21,
   "metadata": {},
   "outputs": [
    {
     "data": {
      "text/html": [
       "<div>\n",
       "<style scoped>\n",
       "    .dataframe tbody tr th:only-of-type {\n",
       "        vertical-align: middle;\n",
       "    }\n",
       "\n",
       "    .dataframe tbody tr th {\n",
       "        vertical-align: top;\n",
       "    }\n",
       "\n",
       "    .dataframe thead th {\n",
       "        text-align: right;\n",
       "    }\n",
       "</style>\n",
       "<table border=\"1\" class=\"dataframe\">\n",
       "  <thead>\n",
       "    <tr style=\"text-align: right;\">\n",
       "      <th></th>\n",
       "      <th>Datetime</th>\n",
       "      <th>Expiry</th>\n",
       "      <th>0</th>\n",
       "      <th>1</th>\n",
       "      <th>2</th>\n",
       "      <th>3</th>\n",
       "      <th>4</th>\n",
       "      <th>5</th>\n",
       "      <th>6</th>\n",
       "      <th>7</th>\n",
       "      <th>8</th>\n",
       "      <th>9</th>\n",
       "      <th>10</th>\n",
       "    </tr>\n",
       "  </thead>\n",
       "  <tbody>\n",
       "    <tr>\n",
       "      <th>0</th>\n",
       "      <td>2022-10-25 12:15:00</td>\n",
       "      <td>2022-10-27 15:30:00</td>\n",
       "      <td>0.018719</td>\n",
       "      <td>0.018062</td>\n",
       "      <td>0.018461</td>\n",
       "      <td>0.021401</td>\n",
       "      <td>0.023411</td>\n",
       "      <td>0.029365</td>\n",
       "      <td>0.037986</td>\n",
       "      <td>0.034920</td>\n",
       "      <td>0.029766</td>\n",
       "      <td>0.027080</td>\n",
       "      <td>0.025631</td>\n",
       "    </tr>\n",
       "    <tr>\n",
       "      <th>1</th>\n",
       "      <td>2022-10-25 12:30:00</td>\n",
       "      <td>2022-10-27 15:30:00</td>\n",
       "      <td>0.017412</td>\n",
       "      <td>0.016795</td>\n",
       "      <td>0.017364</td>\n",
       "      <td>0.020409</td>\n",
       "      <td>0.022514</td>\n",
       "      <td>0.028582</td>\n",
       "      <td>0.036822</td>\n",
       "      <td>0.033690</td>\n",
       "      <td>0.028477</td>\n",
       "      <td>0.025692</td>\n",
       "      <td>0.024303</td>\n",
       "    </tr>\n",
       "    <tr>\n",
       "      <th>2</th>\n",
       "      <td>2022-10-25 12:45:00</td>\n",
       "      <td>2022-10-27 15:30:00</td>\n",
       "      <td>0.017696</td>\n",
       "      <td>0.016933</td>\n",
       "      <td>0.017385</td>\n",
       "      <td>0.020281</td>\n",
       "      <td>0.022261</td>\n",
       "      <td>0.028314</td>\n",
       "      <td>0.036657</td>\n",
       "      <td>0.033739</td>\n",
       "      <td>0.028758</td>\n",
       "      <td>0.026161</td>\n",
       "      <td>0.024956</td>\n",
       "    </tr>\n",
       "    <tr>\n",
       "      <th>3</th>\n",
       "      <td>2022-10-25 13:00:00</td>\n",
       "      <td>2022-10-27 15:30:00</td>\n",
       "      <td>0.021680</td>\n",
       "      <td>0.020549</td>\n",
       "      <td>0.020501</td>\n",
       "      <td>0.022909</td>\n",
       "      <td>0.024469</td>\n",
       "      <td>0.030098</td>\n",
       "      <td>0.039392</td>\n",
       "      <td>0.036947</td>\n",
       "      <td>0.032487</td>\n",
       "      <td>0.030502</td>\n",
       "      <td>0.029262</td>\n",
       "    </tr>\n",
       "    <tr>\n",
       "      <th>4</th>\n",
       "      <td>2022-10-25 13:15:00</td>\n",
       "      <td>2022-10-27 15:30:00</td>\n",
       "      <td>0.021339</td>\n",
       "      <td>0.020501</td>\n",
       "      <td>0.020563</td>\n",
       "      <td>0.023148</td>\n",
       "      <td>0.024877</td>\n",
       "      <td>0.030501</td>\n",
       "      <td>0.039639</td>\n",
       "      <td>0.036973</td>\n",
       "      <td>0.032270</td>\n",
       "      <td>0.030349</td>\n",
       "      <td>0.028768</td>\n",
       "    </tr>\n",
       "    <tr>\n",
       "      <th>...</th>\n",
       "      <td>...</td>\n",
       "      <td>...</td>\n",
       "      <td>...</td>\n",
       "      <td>...</td>\n",
       "      <td>...</td>\n",
       "      <td>...</td>\n",
       "      <td>...</td>\n",
       "      <td>...</td>\n",
       "      <td>...</td>\n",
       "      <td>...</td>\n",
       "      <td>...</td>\n",
       "      <td>...</td>\n",
       "      <td>...</td>\n",
       "    </tr>\n",
       "    <tr>\n",
       "      <th>9650</th>\n",
       "      <td>2024-05-27 14:15:00</td>\n",
       "      <td>2024-05-30 15:30:00</td>\n",
       "      <td>0.021665</td>\n",
       "      <td>0.021654</td>\n",
       "      <td>0.023679</td>\n",
       "      <td>0.027005</td>\n",
       "      <td>0.029077</td>\n",
       "      <td>0.039988</td>\n",
       "      <td>0.064575</td>\n",
       "      <td>0.060732</td>\n",
       "      <td>0.054893</td>\n",
       "      <td>0.050865</td>\n",
       "      <td>0.046957</td>\n",
       "    </tr>\n",
       "    <tr>\n",
       "      <th>9651</th>\n",
       "      <td>2024-05-27 14:30:00</td>\n",
       "      <td>2024-05-30 15:30:00</td>\n",
       "      <td>0.019316</td>\n",
       "      <td>0.019033</td>\n",
       "      <td>0.021001</td>\n",
       "      <td>0.024240</td>\n",
       "      <td>0.026224</td>\n",
       "      <td>0.037613</td>\n",
       "      <td>0.062336</td>\n",
       "      <td>0.058700</td>\n",
       "      <td>0.053068</td>\n",
       "      <td>0.048772</td>\n",
       "      <td>0.045323</td>\n",
       "    </tr>\n",
       "    <tr>\n",
       "      <th>9652</th>\n",
       "      <td>2024-05-27 14:45:00</td>\n",
       "      <td>2024-05-30 15:30:00</td>\n",
       "      <td>0.018136</td>\n",
       "      <td>0.017640</td>\n",
       "      <td>0.019472</td>\n",
       "      <td>0.022610</td>\n",
       "      <td>0.024463</td>\n",
       "      <td>0.036248</td>\n",
       "      <td>0.061341</td>\n",
       "      <td>0.057879</td>\n",
       "      <td>0.052384</td>\n",
       "      <td>0.047851</td>\n",
       "      <td>0.044860</td>\n",
       "    </tr>\n",
       "    <tr>\n",
       "      <th>9653</th>\n",
       "      <td>2024-05-27 15:00:00</td>\n",
       "      <td>2024-05-30 15:30:00</td>\n",
       "      <td>0.018645</td>\n",
       "      <td>0.018012</td>\n",
       "      <td>0.019613</td>\n",
       "      <td>0.022617</td>\n",
       "      <td>0.024314</td>\n",
       "      <td>0.036138</td>\n",
       "      <td>0.061533</td>\n",
       "      <td>0.058225</td>\n",
       "      <td>0.052839</td>\n",
       "      <td>0.048289</td>\n",
       "      <td>0.045562</td>\n",
       "    </tr>\n",
       "    <tr>\n",
       "      <th>9654</th>\n",
       "      <td>2024-05-27 15:15:00</td>\n",
       "      <td>2024-05-30 15:30:00</td>\n",
       "      <td>0.021287</td>\n",
       "      <td>0.020912</td>\n",
       "      <td>0.022399</td>\n",
       "      <td>0.025398</td>\n",
       "      <td>0.027129</td>\n",
       "      <td>0.037998</td>\n",
       "      <td>0.062226</td>\n",
       "      <td>0.058853</td>\n",
       "      <td>0.053391</td>\n",
       "      <td>0.049438</td>\n",
       "      <td>0.046298</td>\n",
       "    </tr>\n",
       "  </tbody>\n",
       "</table>\n",
       "<p>9655 rows × 13 columns</p>\n",
       "</div>"
      ],
      "text/plain": [
       "                 Datetime               Expiry         0         1         2  \\\n",
       "0     2022-10-25 12:15:00  2022-10-27 15:30:00  0.018719  0.018062  0.018461   \n",
       "1     2022-10-25 12:30:00  2022-10-27 15:30:00  0.017412  0.016795  0.017364   \n",
       "2     2022-10-25 12:45:00  2022-10-27 15:30:00  0.017696  0.016933  0.017385   \n",
       "3     2022-10-25 13:00:00  2022-10-27 15:30:00  0.021680  0.020549  0.020501   \n",
       "4     2022-10-25 13:15:00  2022-10-27 15:30:00  0.021339  0.020501  0.020563   \n",
       "...                   ...                  ...       ...       ...       ...   \n",
       "9650  2024-05-27 14:15:00  2024-05-30 15:30:00  0.021665  0.021654  0.023679   \n",
       "9651  2024-05-27 14:30:00  2024-05-30 15:30:00  0.019316  0.019033  0.021001   \n",
       "9652  2024-05-27 14:45:00  2024-05-30 15:30:00  0.018136  0.017640  0.019472   \n",
       "9653  2024-05-27 15:00:00  2024-05-30 15:30:00  0.018645  0.018012  0.019613   \n",
       "9654  2024-05-27 15:15:00  2024-05-30 15:30:00  0.021287  0.020912  0.022399   \n",
       "\n",
       "             3         4         5         6         7         8         9  \\\n",
       "0     0.021401  0.023411  0.029365  0.037986  0.034920  0.029766  0.027080   \n",
       "1     0.020409  0.022514  0.028582  0.036822  0.033690  0.028477  0.025692   \n",
       "2     0.020281  0.022261  0.028314  0.036657  0.033739  0.028758  0.026161   \n",
       "3     0.022909  0.024469  0.030098  0.039392  0.036947  0.032487  0.030502   \n",
       "4     0.023148  0.024877  0.030501  0.039639  0.036973  0.032270  0.030349   \n",
       "...        ...       ...       ...       ...       ...       ...       ...   \n",
       "9650  0.027005  0.029077  0.039988  0.064575  0.060732  0.054893  0.050865   \n",
       "9651  0.024240  0.026224  0.037613  0.062336  0.058700  0.053068  0.048772   \n",
       "9652  0.022610  0.024463  0.036248  0.061341  0.057879  0.052384  0.047851   \n",
       "9653  0.022617  0.024314  0.036138  0.061533  0.058225  0.052839  0.048289   \n",
       "9654  0.025398  0.027129  0.037998  0.062226  0.058853  0.053391  0.049438   \n",
       "\n",
       "            10  \n",
       "0     0.025631  \n",
       "1     0.024303  \n",
       "2     0.024956  \n",
       "3     0.029262  \n",
       "4     0.028768  \n",
       "...        ...  \n",
       "9650  0.046957  \n",
       "9651  0.045323  \n",
       "9652  0.044860  \n",
       "9653  0.045562  \n",
       "9654  0.046298  \n",
       "\n",
       "[9655 rows x 13 columns]"
      ]
     },
     "execution_count": 21,
     "metadata": {},
     "output_type": "execute_result"
    }
   ],
   "source": [
    "test_iv_df = pd.concat([test_dates[n_lookback:].reset_index(drop=True), pd.DataFrame(np.array(y_test).reshape(-1, n_features)).reset_index(drop=True)], axis=1)\n",
    "pred_iv_df = pd.concat([test_dates[n_lookback:].reset_index(drop=True), pd.DataFrame(np.array(y_preds).reshape(-1, n_features)).reset_index(drop=True)], axis=1)\n",
    "\n",
    "pred_iv_df  "
   ]
  },
  {
   "cell_type": "code",
   "execution_count": 40,
   "metadata": {},
   "outputs": [
    {
     "data": {
      "image/png": "[encoded data removed]",
      "text/plain": [
       "<Figure size 640x480 with 1 Axes>"
      ]
     },
     "metadata": {},
     "output_type": "display_data"
    }
   ],
   "source": [
    "pred_iv_df.iloc[:, 8][:50].plot()\n",
    "# plt.show()\n",
    "test_iv_df.iloc[:, 8][:50].plot()\n",
    "# plt.legend(['y_pred', 'y_true'])\n",
    "plt.show()"
   ]
  },
  {
   "cell_type": "code",
   "execution_count": null,
   "metadata": {},
   "outputs": [],
   "source": [
    "scaler.inverse_transform(np.array(y_test).reshape(-1, n_features))"
   ]
  },
  {
   "cell_type": "code",
   "execution_count": 28,
   "metadata": {},
   "outputs": [
    {
     "data": {
      "text/plain": [
       "array(['2022-10-27 15:30:00', '2022-11-03 15:30:00',\n",
       "       '2022-11-10 15:30:00', '2022-11-17 15:30:00',\n",
       "       '2022-11-24 15:30:00', '2022-12-01 15:30:00',\n",
       "       '2022-12-08 15:30:00', '2022-12-15 15:30:00',\n",
       "       '2022-12-22 15:30:00', '2022-12-29 15:30:00',\n",
       "       '2023-01-05 15:30:00', '2023-01-12 15:30:00',\n",
       "       '2023-01-19 15:30:00', '2023-01-25 15:30:00',\n",
       "       '2023-02-02 15:30:00', '2023-02-09 15:30:00',\n",
       "       '2023-02-16 15:30:00', '2023-02-23 15:30:00',\n",
       "       '2023-03-02 15:30:00', '2023-03-09 15:30:00',\n",
       "       '2023-03-16 15:30:00', '2023-03-23 15:30:00',\n",
       "       '2023-03-29 15:30:00', '2023-04-06 15:30:00',\n",
       "       '2023-04-13 15:30:00', '2023-04-20 15:30:00',\n",
       "       '2023-04-27 15:30:00', '2023-05-04 15:30:00',\n",
       "       '2023-05-11 15:30:00', '2023-05-18 15:30:00',\n",
       "       '2023-05-25 15:30:00', '2023-06-01 15:30:00',\n",
       "       '2023-06-08 15:30:00', '2023-06-15 15:30:00',\n",
       "       '2023-06-22 15:30:00', '2023-06-29 15:30:00',\n",
       "       '2023-06-28 15:30:00', '2023-07-06 15:30:00',\n",
       "       '2023-07-13 15:30:00', '2023-07-20 15:30:00',\n",
       "       '2023-07-27 15:30:00', '2023-08-03 15:30:00',\n",
       "       '2023-08-10 15:30:00', '2023-08-17 15:30:00',\n",
       "       '2023-08-24 15:30:00', '2023-08-31 15:30:00',\n",
       "       '2023-09-07 15:30:00', '2023-09-14 15:30:00',\n",
       "       '2023-09-21 15:30:00', '2023-09-28 15:30:00',\n",
       "       '2023-10-05 15:30:00', '2023-10-12 15:30:00',\n",
       "       '2023-10-19 15:30:00', '2023-10-26 15:30:00',\n",
       "       '2023-11-02 15:30:00', '2023-11-09 15:30:00',\n",
       "       '2023-11-16 15:30:00', '2023-11-23 15:30:00',\n",
       "       '2023-11-30 15:30:00', '2023-12-07 15:30:00',\n",
       "       '2023-12-14 15:30:00', '2023-12-21 15:30:00',\n",
       "       '2023-12-28 15:30:00', '2024-01-04 15:30:00',\n",
       "       '2024-01-11 15:30:00', '2024-01-18 15:30:00',\n",
       "       '2024-01-25 15:30:00', '2024-02-01 15:30:00',\n",
       "       '2024-02-08 15:30:00', '2024-02-15 15:30:00',\n",
       "       '2024-02-22 15:30:00', '2024-02-29 15:30:00',\n",
       "       '2024-03-07 15:30:00', '2024-03-14 15:30:00',\n",
       "       '2024-03-21 15:30:00', '2024-03-28 15:30:00',\n",
       "       '2024-04-04 15:30:00', '2024-04-10 15:30:00',\n",
       "       '2024-04-18 15:30:00', '2024-04-25 15:30:00',\n",
       "       '2024-05-02 15:30:00', '2024-05-09 15:30:00',\n",
       "       '2024-05-16 15:30:00', '2024-05-23 15:30:00',\n",
       "       '2024-05-30 15:30:00'], dtype=object)"
      ]
     },
     "execution_count": 28,
     "metadata": {},
     "output_type": "execute_result"
    }
   ],
   "source": [
    "test_iv_df['Expiry'].unique()"
   ]
  },
  {
   "cell_type": "code",
   "execution_count": 29,
   "metadata": {},
   "outputs": [],
   "source": [
    "expiry = '2023-09-28 15:30:00'\n",
    "test_iv_df_exp_1 =test_iv_df[test_iv_df['Expiry'] == expiry]\n",
    "pred_iv_df_exp_1 =pred_iv_df[pred_iv_df['Expiry'] == expiry]"
   ]
  },
  {
   "cell_type": "code",
   "execution_count": 38,
   "metadata": {},
   "outputs": [
    {
     "name": "stdout",
     "output_type": "stream",
     "text": [
      "[0.14699346 0.0258635  0.020542   0.01757122 0.01685655 0.01528841\n",
      " 0.01429662 0.0144564  0.01325586 0.01269434 0.01190806 0.01200398\n",
      " 0.01224083 0.00953258 0.00943897 0.00910475 0.0093452  0.00985211\n",
      " 0.00901646 0.01005343 0.01010298 0.01025648 0.00918785 0.0094518\n",
      " 0.01060659 0.01138196 0.02504007 0.02604515 0.02464849 0.02372342\n",
      " 0.02453588 0.02436171 0.0247798  0.024715   0.02443304 0.02405684\n",
      " 0.02401561 0.02383059 0.02214213 0.02361906 0.02341333 0.02262531\n",
      " 0.02139118 0.02016591 0.01964805 0.01889932 0.01849092 0.01860255\n",
      " 0.01748437 0.0193329  0.02011878 0.02496297 0.02656016 0.02520614\n",
      " 0.02487892 0.02380048 0.02306085 0.02296501 0.0232887  0.02200011\n",
      " 0.02191881 0.02143279 0.02200407 0.0217414  0.02156986 0.02328062\n",
      " 0.02395765 0.02234865 0.0219643  0.02232104 0.02156907 0.02192276\n",
      " 0.02070773 0.02026755 0.02022906 0.02033135 0.03071462 0.03295995\n",
      " 0.03422851 0.03219532 0.03481459 0.03418325 0.03239019 0.03000109\n",
      " 0.02961528 0.02916532 0.03068129 0.02965862 0.02789684 0.02947138\n",
      " 0.0293313  0.02864883 0.0261687  0.02390555 0.02533561 0.02609673\n",
      " 0.02585781 0.02514555 0.02442674 0.02446976 0.02470925 0.06238889\n",
      " 0.07422961 0.08092709 0.0836855  0.08076948 0.07999725 0.0774707\n",
      " 0.08011115 0.089687   0.09821261 0.10511006 0.10853222 0.11485143\n",
      " 0.11300534 0.1150834  0.11914822 0.12387335 0.12762594 0.14115627\n",
      " 0.14132014 0.14321473 0.15458938 0.16708356 0.16337064]\n",
      "[0.01067979 0.01080431 0.01044586 0.01215664 0.01132518 0.01037758\n",
      " 0.01205294 0.00963527 0.00943022 0.00933988 0.00999261 0.01083913\n",
      " 0.00659425 0.00797975 0.00751464 0.00645329 0.00823432 0.00637511\n",
      " 0.00723719 0.00759351 0.00816676 0.00708062 0.00798197 0.0100964\n",
      " 0.0106707  0.0254393  0.02433574 0.02150597 0.02131659 0.02400795\n",
      " 0.02335168 0.02288731 0.02266603 0.0240672  0.02389498 0.02355675\n",
      " 0.02138289 0.02057415 0.02167211 0.02252674 0.01977907 0.01944844\n",
      " 0.01778336 0.01763318 0.01496353 0.01656723 0.01501688 0.01426733\n",
      " 0.01871754 0.01870025 0.02300779 0.02449884 0.02272204 0.02278858\n",
      " 0.02108931 0.02068899 0.02107296 0.02003084 0.01953337 0.01995573\n",
      " 0.01932878 0.02031015 0.01959301 0.01936823 0.01999013 0.02124036\n",
      " 0.01896929 0.01954534 0.0199605  0.01874135 0.018391   0.01770094\n",
      " 0.01672864 0.01747841 0.01809631 0.02675706 0.02845026 0.02869261\n",
      " 0.02890835 0.02815245 0.02833964 0.03061257 0.02766157 0.02755932\n",
      " 0.02317047 0.02801668 0.02520849 0.02336298 0.02425309 0.02359581\n",
      " 0.02199985 0.02153189 0.01936879 0.02096074 0.01950231 0.02089978\n",
      " 0.01934556 0.01811422 0.02030681 0.01818269 0.06368087 0.07079868\n",
      " 0.07820119 0.08225952 0.07469432 0.06363963 0.07790732 0.08044758\n",
      " 0.08423941 0.10044597 0.10383543 0.10631938 0.11463554 0.09924521\n",
      " 0.10691677 0.11366309 0.12158358 0.11303487 0.15067998 0.1338321\n",
      " 0.13700852 0.17175901 0.19693804 0.19677576 0.22757545]\n"
     ]
    }
   ],
   "source": [
    "print(pred_iv_df_exp_1.iloc[:, 10].values)\n",
    "print(test_iv_df_exp_1.iloc[:, 10].values)\n"
   ]
  },
  {
   "cell_type": "code",
   "execution_count": 74,
   "metadata": {},
   "outputs": [
    {
     "data": {
      "text/plain": [
       "-0.0034751163"
      ]
     },
     "execution_count": 74,
     "metadata": {},
     "output_type": "execute_result"
    }
   ],
   "source": [
    "((test_iv_df_exp_1.iloc[:, 9] - pred_iv_df_exp_1.iloc[:, 9])[1:-50]).mean()"
   ]
  },
  {
   "cell_type": "code",
   "execution_count": 39,
   "metadata": {},
   "outputs": [
    {
     "data": {
      "image/png": "[encoded data removed]",
      "text/plain": [
       "<Figure size 640x480 with 1 Axes>"
      ]
     },
     "metadata": {},
     "output_type": "display_data"
    }
   ],
   "source": [
    "pred_iv_df_exp_1.iloc[:, 9].plot()\n",
    "# plt.show()\n",
    "test_iv_df_exp_1.iloc[:, 9].plot()\n",
    "plt.legend(['y_pred', 'y_true'])\n",
    "plt.show()"
   ]
  },
  {
   "cell_type": "code",
   "execution_count": 55,
   "metadata": {},
   "outputs": [],
   "source": [
    "# print(test_iv_df_exp_1.head(), pred_iv_df_exp_1.head())"
   ]
  },
  {
   "cell_type": "code",
   "execution_count": 116,
   "metadata": {},
   "outputs": [
    {
     "data": {
      "text/plain": [
       "0     0.263786\n",
       "1     0.221968\n",
       "2     0.158564\n",
       "3     0.084729\n",
       "4      0.03223\n",
       "5     0.028044\n",
       "6     0.143922\n",
       "7     0.232746\n",
       "8     0.325854\n",
       "9     0.384829\n",
       "10    0.441905\n",
       "Name: 962, dtype: object"
      ]
     },
     "execution_count": 116,
     "metadata": {},
     "output_type": "execute_result"
    }
   ],
   "source": [
    "test_iv_df_exp_1.iloc[124, 2:]"
   ]
  },
  {
   "cell_type": "code",
   "execution_count": 63,
   "metadata": {},
   "outputs": [
    {
     "data": {
      "text/plain": [
       "<matplotlib.legend.Legend at 0x7fb62cb36540>"
      ]
     },
     "execution_count": 63,
     "metadata": {},
     "output_type": "execute_result"
    },
    {
     "data": {
      "image/png": "[encoded data removed]",
      "text/plain": [
       "<Figure size 640x480 with 1 Axes>"
      ]
     },
     "metadata": {},
     "output_type": "display_data"
    }
   ],
   "source": [
    "test_iv_df_exp_1.iloc[-1, 2:].plot()\n",
    "pred_iv_df_exp_1.iloc[-1, 2:].plot()\n",
    "plt.legend(['y_true', 'y_pred'])\n",
    "\n"
   ]
  },
  {
   "cell_type": "code",
   "execution_count": 43,
   "metadata": {},
   "outputs": [
    {
     "data": {
      "text/plain": [
       "<Axes: >"
      ]
     },
     "execution_count": 43,
     "metadata": {},
     "output_type": "execute_result"
    },
    {
     "data": {
      "image/png": "[encoded data removed]",
      "text/plain": [
       "<Figure size 640x480 with 1 Axes>"
      ]
     },
     "metadata": {},
     "output_type": "display_data"
    }
   ],
   "source": [
    "test_iv_df_exp_1.iloc[, 2:].iloc[:,0].plot()\n",
    "pred_iv_df_exp_1.iloc[1:, 2:].iloc[:,0].plot()"
   ]
  },
  {
   "cell_type": "code",
   "execution_count": 66,
   "metadata": {},
   "outputs": [
    {
     "data": {
      "text/plain": [
       "<Axes: >"
      ]
     },
     "execution_count": 66,
     "metadata": {},
     "output_type": "execute_result"
    },
    {
     "data": {
      "image/png": "[encoded data removed]",
      "text/plain": [
       "<Figure size 640x480 with 1 Axes>"
      ]
     },
     "metadata": {},
     "output_type": "display_data"
    }
   ],
   "source": [
    "pred_iv_df_exp_1.iloc[1:, 2:].iloc[:,0].plot()"
   ]
  },
  {
   "cell_type": "code",
   "execution_count": 65,
   "metadata": {},
   "outputs": [
    {
     "data": {
      "text/plain": [
       "0      0.30371\n",
       "1     0.258167\n",
       "2     0.197846\n",
       "3      0.13596\n",
       "4     0.075135\n",
       "5     0.022376\n",
       "6     0.043826\n",
       "7     0.133064\n",
       "8     0.227575\n",
       "9      0.32453\n",
       "10    0.355407\n",
       "Name: 5711, dtype: object"
      ]
     },
     "execution_count": 65,
     "metadata": {},
     "output_type": "execute_result"
    }
   ],
   "source": [
    "test_iv_df_exp_1.iloc[-1, 2:]"
   ]
  },
  {
   "cell_type": "code",
   "execution_count": 66,
   "metadata": {},
   "outputs": [
    {
     "data": {
      "text/plain": [
       "array([[ 4.10165638e-04,  2.36232579e-03,  3.79247963e-03, ...,\n",
       "         1.08043104e-02,  8.65255669e-03,  6.99040294e-03],\n",
       "       [-1.82289630e-04,  1.80616230e-03,  3.27029824e-03, ...,\n",
       "         1.04458593e-02,  8.27498361e-03,  6.69507310e-03],\n",
       "       [ 1.48940831e-03,  3.75388190e-03,  5.11956587e-03, ...,\n",
       "         1.21566355e-02,  9.76619869e-03,  8.03251565e-03],\n",
       "       ...,\n",
       "       [ 1.81101829e-01,  1.43655911e-01,  1.06100366e-01, ...,\n",
       "         1.96938038e-01,  2.47757316e-01,  2.71692604e-01],\n",
       "       [ 2.32260555e-01,  1.96005270e-01,  1.52570337e-01, ...,\n",
       "         1.96775764e-01,  2.62695044e-01,  2.83524990e-01],\n",
       "       [ 3.03710371e-01,  2.58166760e-01,  1.97845504e-01, ...,\n",
       "         2.27575451e-01,  3.24530184e-01,  3.55407208e-01]], dtype=float32)"
      ]
     },
     "execution_count": 66,
     "metadata": {},
     "output_type": "execute_result"
    }
   ],
   "source": [
    "test_iv_df_exp_1.iloc[1:, 2:].values"
   ]
  },
  {
   "cell_type": "code",
   "execution_count": 45,
   "metadata": {},
   "outputs": [
    {
     "data": {
      "application/vnd.plotly.v1+json": {
       "config": {
        "plotlyServerURL": "https://plot.ly"
       },
       "data": [
        {
         "type": "surface",
         "x": [
          "2023-09-22 09:15:00",
          "2023-09-22 09:30:00",
          "2023-09-22 09:45:00",
          "2023-09-22 10:00:00",
          "2023-09-22 10:15:00",
          "2023-09-22 10:30:00",
          "2023-09-22 10:45:00",
          "2023-09-22 11:00:00",
          "2023-09-22 11:15:00",
          "2023-09-22 11:30:00",
          "2023-09-22 11:45:00",
          "2023-09-22 12:00:00",
          "2023-09-22 12:15:00",
          "2023-09-22 12:30:00",
          "2023-09-22 12:45:00",
          "2023-09-22 13:00:00",
          "2023-09-22 13:15:00",
          "2023-09-22 13:30:00",
          "2023-09-22 13:45:00",
          "2023-09-22 14:00:00",
          "2023-09-22 14:15:00",
          "2023-09-22 14:30:00",
          "2023-09-22 14:45:00",
          "2023-09-22 15:00:00",
          "2023-09-22 15:15:00",
          "2023-09-25 09:15:00",
          "2023-09-25 09:30:00",
          "2023-09-25 09:45:00",
          "2023-09-25 10:00:00",
          "2023-09-25 10:15:00",
          "2023-09-25 10:30:00",
          "2023-09-25 10:45:00",
          "2023-09-25 11:00:00",
          "2023-09-25 11:15:00",
          "2023-09-25 11:30:00",
          "2023-09-25 11:45:00",
          "2023-09-25 12:00:00",
          "2023-09-25 12:15:00",
          "2023-09-25 12:30:00",
          "2023-09-25 12:45:00",
          "2023-09-25 13:00:00",
          "2023-09-25 13:15:00",
          "2023-09-25 13:30:00",
          "2023-09-25 13:45:00",
          "2023-09-25 14:00:00",
          "2023-09-25 14:15:00",
          "2023-09-25 14:30:00",
          "2023-09-25 14:45:00",
          "2023-09-25 15:00:00",
          "2023-09-25 15:15:00",
          "2023-09-26 09:15:00",
          "2023-09-26 09:30:00",
          "2023-09-26 09:45:00",
          "2023-09-26 10:00:00",
          "2023-09-26 10:15:00",
          "2023-09-26 10:30:00",
          "2023-09-26 10:45:00",
          "2023-09-26 11:00:00",
          "2023-09-26 11:15:00",
          "2023-09-26 11:30:00",
          "2023-09-26 11:45:00",
          "2023-09-26 12:00:00",
          "2023-09-26 12:15:00",
          "2023-09-26 12:30:00",
          "2023-09-26 12:45:00",
          "2023-09-26 13:00:00",
          "2023-09-26 13:15:00",
          "2023-09-26 13:30:00",
          "2023-09-26 13:45:00",
          "2023-09-26 14:00:00",
          "2023-09-26 14:15:00",
          "2023-09-26 14:30:00",
          "2023-09-26 14:45:00",
          "2023-09-26 15:00:00",
          "2023-09-26 15:15:00",
          "2023-09-27 09:15:00",
          "2023-09-27 09:30:00",
          "2023-09-27 09:45:00",
          "2023-09-27 10:00:00",
          "2023-09-27 10:15:00",
          "2023-09-27 10:30:00",
          "2023-09-27 10:45:00",
          "2023-09-27 11:00:00",
          "2023-09-27 11:15:00",
          "2023-09-27 11:30:00",
          "2023-09-27 11:45:00",
          "2023-09-27 12:00:00",
          "2023-09-27 12:15:00",
          "2023-09-27 12:30:00",
          "2023-09-27 12:45:00",
          "2023-09-27 13:00:00",
          "2023-09-27 13:15:00",
          "2023-09-27 13:30:00",
          "2023-09-27 13:45:00",
          "2023-09-27 14:00:00",
          "2023-09-27 14:15:00",
          "2023-09-27 14:30:00",
          "2023-09-27 14:45:00",
          "2023-09-27 15:00:00",
          "2023-09-27 15:15:00",
          "2023-09-28 09:15:00",
          "2023-09-28 09:30:00",
          "2023-09-28 09:45:00",
          "2023-09-28 10:00:00",
          "2023-09-28 10:15:00",
          "2023-09-28 10:30:00",
          "2023-09-28 10:45:00",
          "2023-09-28 11:00:00",
          "2023-09-28 11:15:00",
          "2023-09-28 11:30:00",
          "2023-09-28 11:45:00",
          "2023-09-28 12:00:00",
          "2023-09-28 12:15:00",
          "2023-09-28 12:30:00",
          "2023-09-28 12:45:00",
          "2023-09-28 13:00:00",
          "2023-09-28 13:15:00",
          "2023-09-28 13:30:00",
          "2023-09-28 13:45:00",
          "2023-09-28 14:00:00",
          "2023-09-28 14:15:00",
          "2023-09-28 14:30:00",
          "2023-09-28 14:45:00",
          "2023-09-28 15:00:00",
          "2023-09-28 15:15:00"
         ],
         "y": [
          0,
          1,
          2,
          3,
          4,
          5,
          6,
          7,
          8,
          9,
          10
         ],
         "z": [
          [
           0.00041016564,
           0.0023623258,
           0.0037924796,
           0.007772414,
           0.010371488,
           0.015443363,
           0.017703643,
           0.015285835,
           0.01080431,
           0.008652557,
           0.006990403
          ],
          [
           -0.00018228963,
           0.0018061623,
           0.0032702982,
           0.0073465724,
           0.009903822,
           0.015313744,
           0.017398687,
           0.014801025,
           0.010445859,
           0.008274984,
           0.006695073
          ],
          [
           0.0014894083,
           0.003753882,
           0.005119566,
           0.008995412,
           0.011524763,
           0.016347352,
           0.018996263,
           0.016825832,
           0.0121566355,
           0.009766199,
           0.008032516
          ],
          [
           0.0015371889,
           0.0039358325,
           0.005261574,
           0.009239709,
           0.011791624,
           0.015146007,
           0.017395874,
           0.015342295,
           0.0113251805,
           0.009206951,
           0.0077225193
          ],
          [
           -0.0006023459,
           0.0017467849,
           0.0029809512,
           0.0069171954,
           0.0094336495,
           0.01762927,
           0.017151462,
           0.0147842355,
           0.010377582,
           0.008230235,
           0.006576527
          ],
          [
           -0.0016023181,
           0.00006778166,
           0.0014345758,
           0.0053072926,
           0.007862799,
           0.015759993,
           0.019076949,
           0.016675465,
           0.012052938,
           0.00987152,
           0.007912539
          ],
          [
           -0.0014818758,
           0.00023758784,
           0.0016670711,
           0.005375648,
           0.007855631,
           0.01600007,
           0.016418802,
           0.014099911,
           0.009635266,
           0.0074022748,
           0.0059446804
          ],
          [
           -0.0010518432,
           0.0006864406,
           0.0020371526,
           0.0056101363,
           0.00801551,
           0.015980847,
           0.016304648,
           0.013907772,
           0.0094302185,
           0.007035915,
           0.0055686124
          ],
          [
           -0.0015379973,
           0.00029725954,
           0.0017337725,
           0.0055835117,
           0.008171931,
           0.014373756,
           0.01577262,
           0.013604723,
           0.00933988,
           0.0072569363,
           0.005896438
          ],
          [
           -0.0020581335,
           -0.00024122,
           0.0011915565,
           0.004856704,
           0.0072457157,
           0.015199951,
           0.016792929,
           0.014525674,
           0.009992607,
           0.007808607,
           0.006326709
          ],
          [
           -0.0019163564,
           -0.00039066374,
           0.0007597469,
           0.0042306576,
           0.0065030735,
           0.014370819,
           0.018699234,
           0.015903134,
           0.010839127,
           0.008101851,
           0.0060973205
          ],
          [
           -0.0014968142,
           0.0007010214,
           0.0020801686,
           0.0060488824,
           0.008471783,
           0.012277645,
           0.012836935,
           0.010704603,
           0.006594252,
           0.004464209,
           0.0026661977
          ],
          [
           -0.0022905916,
           -0.00029573962,
           0.0010740794,
           0.0050597508,
           0.0073980577,
           0.013602578,
           0.014649736,
           0.012297329,
           0.007979747,
           0.0056397617,
           0.0037205108
          ],
          [
           -0.0025095455,
           -0.00034623593,
           0.00089251995,
           0.0048662852,
           0.007269129,
           0.013301945,
           0.0142026525,
           0.011884842,
           0.0075146444,
           0.0051425025,
           0.0033220574
          ],
          [
           -0.0011738576,
           0.0006982684,
           0.0020079724,
           0.005585471,
           0.008082904,
           0.016044866,
           0.013176763,
           0.010900971,
           0.0064532943,
           0.004058659,
           0.002735529
          ],
          [
           -0.0022012629,
           -0.00037572905,
           0.0007511638,
           0.004291551,
           0.006595487,
           0.014549817,
           0.015645394,
           0.012997646,
           0.008234322,
           0.0057610497,
           0.0041989796
          ],
          [
           -0.0005548671,
           0.0014251657,
           0.0028292537,
           0.0065930877,
           0.009186808,
           0.012344464,
           0.0129203,
           0.010710932,
           0.006375108,
           0.004340101,
           0.0033395924
          ],
          [
           -0.00075463206,
           0.0014860444,
           0.0029267035,
           0.006749237,
           0.009247802,
           0.017529879,
           0.013298554,
           0.011405535,
           0.0072371885,
           0.005050931,
           0.0037722029
          ],
          [
           -0.0014973953,
           0.0006089434,
           0.0021273755,
           0.0059106518,
           0.0084005855,
           0.016613077,
           0.01384669,
           0.011775393,
           0.007593509,
           0.005328525,
           0.0040637255
          ],
          [
           -0.0015844777,
           0.00044237077,
           0.0017215908,
           0.0054771136,
           0.007794384,
           0.01599953,
           0.014879776,
           0.012598686,
           0.00816676,
           0.0057302006,
           0.0042958185
          ],
          [
           -0.002577223,
           -0.0005521849,
           0.0006758906,
           0.004338665,
           0.0066331327,
           0.014687394,
           0.014395809,
           0.011830457,
           0.007080622,
           0.004587915,
           0.0028658584
          ],
          [
           -0.0022233725,
           -0.00021191686,
           0.0010150112,
           0.0046870913,
           0.0069554187,
           0.014061368,
           0.015150959,
           0.012642134,
           0.007981967,
           0.0055032894,
           0.0038665384
          ],
          [
           -0.0024041757,
           -0.0007032491,
           0.000463821,
           0.004056433,
           0.0061162002,
           0.014044528,
           0.017810354,
           0.014977619,
           0.010096405,
           0.0072116256,
           0.0051203854
          ],
          [
           -0.0029874444,
           -0.0011306293,
           0.00014292076,
           0.0039364453,
           0.0062444527,
           0.014191586,
           0.018037224,
           0.015385788,
           0.010670699,
           0.007928234,
           0.0059325844
          ],
          [
           0.009712756,
           0.0104293,
           0.01158794,
           0.015640581,
           0.017699145,
           0.024915263,
           0.030641073,
           0.030028518,
           0.0254393,
           0.023239594,
           0.019916717
          ],
          [
           0.006806962,
           0.008219086,
           0.009112604,
           0.01219975,
           0.014165528,
           0.021292035,
           0.03115697,
           0.028824836,
           0.024335742,
           0.022040494,
           0.018902678
          ],
          [
           0.0060546137,
           0.0077859685,
           0.008788757,
           0.012122089,
           0.0141164735,
           0.022102457,
           0.027700404,
           0.025369212,
           0.021505974,
           0.019453596,
           0.017069407
          ],
          [
           0.0048651323,
           0.0066041686,
           0.0075423606,
           0.010908337,
           0.012895398,
           0.022114102,
           0.027712518,
           0.025233466,
           0.021316588,
           0.019588813,
           0.017190997
          ],
          [
           0.0055826344,
           0.006929595,
           0.0078704655,
           0.011068342,
           0.01306349,
           0.020286888,
           0.031280346,
           0.028484955,
           0.024007946,
           0.0215783,
           0.01860372
          ],
          [
           0.0054041445,
           0.006881904,
           0.007856019,
           0.011117829,
           0.012990985,
           0.02028726,
           0.030599,
           0.027786806,
           0.023351684,
           0.020950451,
           0.017900113
          ],
          [
           0.0037994199,
           0.005301673,
           0.0061526224,
           0.00925084,
           0.01101597,
           0.024418313,
           0.03026726,
           0.027569167,
           0.022887308,
           0.020514242,
           0.018146276
          ],
          [
           0.0030462556,
           0.0044490397,
           0.00547586,
           0.008637423,
           0.010314874,
           0.024049465,
           0.02977466,
           0.027269911,
           0.022666026,
           0.020464186,
           0.018062744
          ],
          [
           0.0039135963,
           0.0053883158,
           0.006037291,
           0.009455813,
           0.011291269,
           0.01843322,
           0.032109722,
           0.029047757,
           0.024067197,
           0.021332365,
           0.01802225
          ],
          [
           0.0033525862,
           0.004916504,
           0.005656231,
           0.008940281,
           0.010722518,
           0.017991696,
           0.03174839,
           0.02881978,
           0.02389498,
           0.021221355,
           0.018144421
          ],
          [
           0.0041299798,
           0.005454734,
           0.0061358176,
           0.009335371,
           0.011032425,
           0.018087473,
           0.03188198,
           0.028673667,
           0.02355675,
           0.02083736,
           0.017401956
          ],
          [
           0.0027311444,
           0.0039987415,
           0.0048409402,
           0.007943967,
           0.009557594,
           0.023807883,
           0.029175526,
           0.02603881,
           0.021382887,
           0.01892643,
           0.016353514
          ],
          [
           0.0030402727,
           0.0044925734,
           0.0054203197,
           0.008518962,
           0.010353845,
           0.017557416,
           0.028093519,
           0.025352828,
           0.020574145,
           0.018158846,
           0.015809339
          ],
          [
           0.002859395,
           0.0043391287,
           0.0047256276,
           0.007814148,
           0.009226482,
           0.023911051,
           0.029486077,
           0.026571173,
           0.021672115,
           0.019522585,
           0.016692158
          ],
          [
           0.004608322,
           0.0059740134,
           0.006197065,
           0.008921003,
           0.010181773,
           0.017263357,
           0.03161963,
           0.028120954,
           0.022526737,
           0.019736856,
           0.016209755
          ],
          [
           0.00403535,
           0.005323518,
           0.006148044,
           0.009156799,
           0.010944948,
           0.021677814,
           0.02653951,
           0.024077233,
           0.019779071,
           0.017552413,
           0.015776403
          ],
          [
           0.004574891,
           0.005979933,
           0.0061861835,
           0.009121651,
           0.010695636,
           0.018004294,
           0.027375424,
           0.024527282,
           0.019448437,
           0.017116401,
           0.014200028
          ],
          [
           0.004100058,
           0.0058433786,
           0.0062312707,
           0.009355465,
           0.011055641,
           0.018487398,
           0.024874216,
           0.022398047,
           0.017783362,
           0.01595315,
           0.01338876
          ],
          [
           0.0039741434,
           0.0057717524,
           0.0062216297,
           0.009396622,
           0.0111818835,
           0.018822312,
           0.024463734,
           0.021977425,
           0.017633181,
           0.015448682,
           0.013023883
          ],
          [
           0.004715752,
           0.006292805,
           0.007824317,
           0.0111835245,
           0.013609339,
           0.0213872,
           0.019916939,
           0.018594194,
           0.014963526,
           0.0137164965,
           0.012310982
          ],
          [
           0.0046724603,
           0.006689675,
           0.008844953,
           0.012737257,
           0.015654463,
           0.016299892,
           0.02010866,
           0.019491687,
           0.01656723,
           0.015747074,
           0.014965672
          ],
          [
           0.003939055,
           0.0058971494,
           0.007933836,
           0.0118638,
           0.014716022,
           0.023054611,
           0.018599784,
           0.01791073,
           0.015016884,
           0.014133655,
           0.013322879
          ],
          [
           0.0025563277,
           0.0044817775,
           0.006309133,
           0.010031166,
           0.012765449,
           0.020692766,
           0.019008512,
           0.017718792,
           0.014267333,
           0.013204794,
           0.012128744
          ],
          [
           0.002239745,
           0.0041558184,
           0.0049350373,
           0.0083154645,
           0.010036927,
           0.020593971,
           0.025023969,
           0.022977002,
           0.018717539,
           0.016438048,
           0.013945043
          ],
          [
           0.0018206574,
           0.0039787367,
           0.004716359,
           0.008257916,
           0.009911671,
           0.020503875,
           0.025112292,
           0.02290748,
           0.01870025,
           0.016665194,
           0.0144521855
          ],
          [
           0.010494579,
           0.012946907,
           0.014295582,
           0.017935203,
           0.020036358,
           0.02064187,
           0.026732726,
           0.026108269,
           0.023007791,
           0.022118479,
           0.020175759
          ],
          [
           0.009370096,
           0.010676574,
           0.011615235,
           0.01467037,
           0.016559433,
           0.023573756,
           0.030393349,
           0.028314833,
           0.024498839,
           0.022913769,
           0.020396214
          ],
          [
           0.007567823,
           0.009351347,
           0.010084897,
           0.013579497,
           0.015588451,
           0.021387108,
           0.027331071,
           0.025912084,
           0.022722036,
           0.02160938,
           0.019771896
          ],
          [
           0.007450603,
           0.008960687,
           0.009400897,
           0.012578098,
           0.014299706,
           0.022265825,
           0.027946,
           0.026241802,
           0.022788577,
           0.021429818,
           0.019359615
          ],
          [
           0.008901235,
           0.010363519,
           0.010901615,
           0.01408677,
           0.015840579,
           0.02069069,
           0.025775732,
           0.024187643,
           0.021089312,
           0.01972469,
           0.018191379
          ],
          [
           0.008224998,
           0.009747595,
           0.01020772,
           0.013579214,
           0.015354369,
           0.020415578,
           0.025372399,
           0.023864347,
           0.020688992,
           0.01960168,
           0.018171526
          ],
          [
           0.007206075,
           0.008717526,
           0.009218957,
           0.012484012,
           0.01418129,
           0.0209128,
           0.025756145,
           0.024270702,
           0.021072961,
           0.019780468,
           0.018287145
          ],
          [
           0.009040393,
           0.009968936,
           0.010751333,
           0.013429044,
           0.015318166,
           0.022379316,
           0.025611809,
           0.023518857,
           0.020030845,
           0.018968925,
           0.0170088
          ],
          [
           0.007785201,
           0.009363987,
           0.009910483,
           0.013490913,
           0.01537656,
           0.018813208,
           0.023109304,
           0.022198226,
           0.019533366,
           0.018610246,
           0.017815433
          ],
          [
           0.007415775,
           0.008967187,
           0.009505391,
           0.0129332,
           0.014799386,
           0.019368656,
           0.023965562,
           0.022971783,
           0.019955732,
           0.019005064,
           0.01788618
          ],
          [
           0.006659683,
           0.008556925,
           0.009418789,
           0.013200639,
           0.015293919,
           0.018493056,
           0.022792058,
           0.021880481,
           0.019328784,
           0.018651485,
           0.017813183
          ],
          [
           0.0064114816,
           0.008330528,
           0.0091638565,
           0.013088921,
           0.01524416,
           0.018841282,
           0.023601366,
           0.02274739,
           0.020310152,
           0.019726686,
           0.018954977
          ],
          [
           0.0067880265,
           0.008547038,
           0.009347711,
           0.013098506,
           0.015194777,
           0.018481549,
           0.022867704,
           0.022022739,
           0.019593012,
           0.018829413,
           0.018138051
          ],
          [
           0.0069451556,
           0.008847501,
           0.009787649,
           0.013679398,
           0.01591881,
           0.017742742,
           0.022169614,
           0.0216606,
           0.019368231,
           0.019043494,
           0.01851499
          ],
          [
           0.008097224,
           0.009214524,
           0.010260779,
           0.013366817,
           0.015847102,
           0.02319299,
           0.024536809,
           0.022915117,
           0.019990131,
           0.019308206,
           0.018154278
          ],
          [
           0.00806763,
           0.009003669,
           0.010068528,
           0.013161434,
           0.015487865,
           0.020466875,
           0.02547509,
           0.023981512,
           0.021240361,
           0.020981126,
           0.019926876
          ],
          [
           0.006305907,
           0.007097684,
           0.008025978,
           0.01088977,
           0.013242312,
           0.02074534,
           0.023709947,
           0.02197351,
           0.018969294,
           0.018366244,
           0.01726577
          ],
          [
           0.0064571165,
           0.0069276765,
           0.007591922,
           0.010081647,
           0.012077402,
           0.01935812,
           0.025416771,
           0.022979338,
           0.019545343,
           0.018334273,
           0.016973041
          ],
          [
           0.00529534,
           0.0067056306,
           0.007028181,
           0.010450697,
           0.012204122,
           0.020004518,
           0.024649518,
           0.023297451,
           0.0199605,
           0.019218717,
           0.018416375
          ],
          [
           0.0055736154,
           0.0072158463,
           0.0077776276,
           0.011462489,
           0.013580121,
           0.018060964,
           0.022397256,
           0.02161248,
           0.01874135,
           0.018516377,
           0.018248204
          ],
          [
           0.00768058,
           0.008461416,
           0.009334199,
           0.012035957,
           0.014200173,
           0.021543186,
           0.02303219,
           0.021359358,
           0.018391002,
           0.01716308,
           0.016176403
          ],
          [
           0.0056010373,
           0.0073146895,
           0.007924993,
           0.011801401,
           0.013920754,
           0.017669685,
           0.021647682,
           0.020818844,
           0.017700937,
           0.017396271,
           0.016965635
          ],
          [
           0.006467346,
           0.007492602,
           0.008398268,
           0.011176502,
           0.013461776,
           0.020789545,
           0.021913415,
           0.019959092,
           0.016728636,
           0.015114572,
           0.014301375
          ],
          [
           0.0056878813,
           0.0066952035,
           0.0076543465,
           0.010455778,
           0.012643348,
           0.020041473,
           0.02297016,
           0.02097451,
           0.017478414,
           0.015695795,
           0.014646802
          ],
          [
           0.004618205,
           0.005703263,
           0.0068969093,
           0.009863282,
           0.012335695,
           0.019763634,
           0.02348836,
           0.02152206,
           0.018096305,
           0.016293265,
           0.015139062
          ],
          [
           0.016587328,
           0.01685103,
           0.017566536,
           0.02104641,
           0.023302067,
           0.031181462,
           0.029378487,
           0.028794844,
           0.026757058,
           0.027073767,
           0.025783747
          ],
          [
           0.014232561,
           0.0147373155,
           0.015363656,
           0.01922782,
           0.021732166,
           0.029939,
           0.030418126,
           0.030418772,
           0.028450262,
           0.029335845,
           0.027989607
          ],
          [
           0.015353709,
           0.016126566,
           0.017060764,
           0.021189494,
           0.02387726,
           0.032085296,
           0.030202312,
           0.030294023,
           0.028692607,
           0.0293299,
           0.028295051
          ],
          [
           0.0155804455,
           0.016424626,
           0.017398909,
           0.021274762,
           0.023931786,
           0.02190955,
           0.029955396,
           0.029911734,
           0.028908353,
           0.030220825,
           0.029530663
          ],
          [
           0.018178519,
           0.019023702,
           0.020305902,
           0.02388285,
           0.027281728,
           0.035521436,
           0.028792148,
           0.029809095,
           0.028152447,
           0.029711995,
           0.030292902
          ],
          [
           0.01769562,
           0.01790107,
           0.018847313,
           0.021824962,
           0.024407096,
           0.03225661,
           0.029689534,
           0.030330334,
           0.028339643,
           0.029337,
           0.029390689
          ],
          [
           0.012773562,
           0.014502168,
           0.016003646,
           0.020322924,
           0.023526788,
           0.021897223,
           0.030547405,
           0.03133403,
           0.03061257,
           0.032903958,
           0.032508943
          ],
          [
           0.013220638,
           0.01423043,
           0.014995854,
           0.018886069,
           0.0214791,
           0.02065032,
           0.028366236,
           0.028937187,
           0.02766157,
           0.029503662,
           0.029242735
          ],
          [
           0.013203301,
           0.013088379,
           0.013168171,
           0.015610443,
           0.01751975,
           0.022350177,
           0.029124105,
           0.028563935,
           0.027559318,
           0.028385404,
           0.029172968
          ],
          [
           0.016298085,
           0.0159203,
           0.01521568,
           0.017685505,
           0.018455714,
           0.025445558,
           0.027606169,
           0.025844205,
           0.023170471,
           0.024487939,
           0.024114624
          ],
          [
           0.016611047,
           0.015679229,
           0.01500199,
           0.01611743,
           0.01694687,
           0.023664575,
           0.032139592,
           0.030226074,
           0.028016679,
           0.027448896,
           0.026284654
          ],
          [
           0.015208378,
           0.014491148,
           0.013967168,
           0.015180899,
           0.015837397,
           0.023722123,
           0.029574687,
           0.02719637,
           0.025208488,
           0.02492192,
           0.025209572
          ],
          [
           0.016300414,
           0.015535746,
           0.015574988,
           0.017378116,
           0.01862263,
           0.020313527,
           0.026179766,
           0.024944693,
           0.02336298,
           0.023528393,
           0.023826867
          ],
          [
           0.017341524,
           0.016535018,
           0.01645016,
           0.018427433,
           0.019667804,
           0.027028084,
           0.027301187,
           0.02611668,
           0.024253089,
           0.024366308,
           0.024368707
          ],
          [
           0.018082026,
           0.017179888,
           0.016823206,
           0.018351106,
           0.01938945,
           0.026487067,
           0.027513968,
           0.02595869,
           0.023595814,
           0.022960339,
           0.023154251
          ],
          [
           0.019858472,
           0.01873773,
           0.018098034,
           0.01955655,
           0.020409137,
           0.027195703,
           0.026323745,
           0.024690695,
           0.021999855,
           0.02119768,
           0.02109221
          ],
          [
           0.015175238,
           0.015126489,
           0.014323007,
           0.016095469,
           0.017557792,
           0.019245923,
           0.024456447,
           0.024057686,
           0.021531891,
           0.023793418,
           0.024842154
          ],
          [
           0.016038548,
           0.015632309,
           0.014340647,
           0.016174229,
           0.017452225,
           0.017442677,
           0.022039523,
           0.021836374,
           0.01936879,
           0.021232251,
           0.021983821
          ],
          [
           0.016280588,
           0.015604194,
           0.014424015,
           0.01567029,
           0.015953429,
           0.020772066,
           0.025451565,
           0.024237573,
           0.02096074,
           0.022239286,
           0.023303926
          ],
          [
           0.017281909,
           0.01666775,
           0.015595071,
           0.017250357,
           0.017909963,
           0.02510687,
           0.022455474,
           0.022082713,
           0.019502312,
           0.020636607,
           0.021410633
          ],
          [
           0.016702503,
           0.015930258,
           0.014317401,
           0.015382996,
           0.015863009,
           0.019935437,
           0.024449015,
           0.023650233,
           0.020899784,
           0.022137549,
           0.023254625
          ],
          [
           0.016622938,
           0.01559427,
           0.013872616,
           0.014790969,
           0.015058354,
           0.019800235,
           0.023742555,
           0.022882398,
           0.019345563,
           0.020918343,
           0.022135139
          ],
          [
           0.018853951,
           0.017249703,
           0.014702566,
           0.014881259,
           0.0141711235,
           0.019757312,
           0.02452018,
           0.022066306,
           0.018114224,
           0.018436745,
           0.018990684
          ],
          [
           0.01451686,
           0.012357611,
           0.010590535,
           0.01107491,
           0.011694975,
           0.018143743,
           0.022778725,
           0.021643851,
           0.020306807,
           0.022686835,
           0.024806708
          ],
          [
           0.018042743,
           0.016696401,
           0.014521662,
           0.015260821,
           0.01501416,
           0.021498159,
           0.021416606,
           0.021188602,
           0.018182687,
           0.01843886,
           0.020144988
          ],
          [
           0.058829613,
           0.05305251,
           0.05014402,
           0.04993721,
           0.052924708,
           0.033531677,
           0.05542613,
           0.060102336,
           0.06368087,
           0.07203849,
           0.076528475
          ],
          [
           0.060870305,
           0.05773208,
           0.058679793,
           0.063912824,
           0.07293771,
           0.03161668,
           0.055828236,
           0.06372672,
           0.07079868,
           0.08147097,
           0.08510178
          ],
          [
           0.06164512,
           0.05909274,
           0.057232823,
           0.060965605,
           0.06861,
           0.0361466,
           0.06342624,
           0.07284911,
           0.07820119,
           0.088616654,
           0.09142847
          ],
          [
           0.05901338,
           0.055350225,
           0.05283721,
           0.055952065,
           0.06345362,
           0.03737428,
           0.06538765,
           0.07587259,
           0.08225952,
           0.093336314,
           0.09544967
          ],
          [
           0.059443295,
           0.05046754,
           0.04506823,
           0.045765504,
           0.051684037,
           0.037591558,
           0.062738836,
           0.068138756,
           0.07469432,
           0.08662446,
           0.093394905
          ],
          [
           0.06264342,
           0.055805143,
           0.048389878,
           0.04830928,
           0.051801436,
           0.067851916,
           0.04315445,
           0.056828156,
           0.063639626,
           0.07440382,
           0.08062996
          ],
          [
           0.058253214,
           0.051637743,
           0.044874657,
           0.044895135,
           0.049570598,
           0.02499089,
           0.053635187,
           0.06815334,
           0.077907324,
           0.09294185,
           0.09673613
          ],
          [
           0.06221448,
           0.053672116,
           0.044743437,
           0.04363688,
           0.04846073,
           0.027849134,
           0.05691003,
           0.071170144,
           0.080447584,
           0.09572396,
           0.10282324
          ],
          [
           0.06843362,
           0.055915203,
           0.049178045,
           0.044409238,
           0.04473298,
           0.056723375,
           0.055767417,
           0.07146086,
           0.08423941,
           0.09865548,
           0.10479152
          ],
          [
           0.066917025,
           0.057285476,
           0.05515391,
           0.054736458,
           0.06288418,
           0.033518855,
           0.07047184,
           0.08675627,
           0.10044597,
           0.11505504,
           0.12195611
          ],
          [
           0.06561776,
           0.055931333,
           0.05508155,
           0.055750713,
           0.063526064,
           0.041711055,
           0.077980064,
           0.09144375,
           0.10383543,
           0.11831668,
           0.12629607
          ],
          [
           0.065382555,
           0.056087505,
           0.05481786,
           0.0557909,
           0.06418177,
           0.041285403,
           0.07741548,
           0.0928521,
           0.10631938,
           0.12333666,
           0.12888539
          ],
          [
           0.068432115,
           0.055878866,
           0.05308609,
           0.0530463,
           0.060378447,
           0.04542138,
           0.083967924,
           0.09978844,
           0.11463554,
           0.13225044,
           0.13839291
          ],
          [
           0.080519,
           0.06878093,
           0.056339856,
           0.052079454,
           0.051192954,
           0.06280554,
           0.06491691,
           0.08389579,
           0.099245206,
           0.11969952,
           0.12745808
          ],
          [
           0.08543776,
           0.069663525,
           0.05552089,
           0.04956737,
           0.046251528,
           0.053581756,
           0.06895886,
           0.08907534,
           0.10691677,
           0.13120638,
           0.14051978
          ],
          [
           0.08798686,
           0.07286653,
           0.05777354,
           0.049373433,
           0.04348234,
           0.05181599,
           0.07521341,
           0.09612554,
           0.11366309,
           0.13812013,
           0.1472391
          ],
          [
           0.08693138,
           0.071064666,
           0.05493393,
           0.048723765,
           0.046123885,
           0.041847784,
           0.077539004,
           0.099282905,
           0.12158358,
           0.15256125,
           0.1636119
          ],
          [
           0.1108035,
           0.08820963,
           0.0737901,
           0.060437366,
           0.055309333,
           0.05700809,
           0.067186415,
           0.087431505,
           0.113034874,
           0.14293635,
           0.1604039
          ],
          [
           0.10180847,
           0.08143151,
           0.06245817,
           0.050951056,
           0.04453937,
           0.046340548,
           0.08830605,
           0.119314164,
           0.15067998,
           0.1830721,
           0.19668448
          ],
          [
           0.12759715,
           0.1064035,
           0.08559786,
           0.06470755,
           0.05315519,
           0.050274532,
           0.07384086,
           0.09856051,
           0.1338321,
           0.1716677,
           0.18817574
          ],
          [
           0.13535643,
           0.1111545,
           0.08973363,
           0.068103805,
           0.055874728,
           0.05414435,
           0.07531144,
           0.1015756,
           0.13700852,
           0.17294137,
           0.19263873
          ],
          [
           0.14788249,
           0.11739047,
           0.09349494,
           0.063331865,
           0.05126235,
           0.045361884,
           0.08492441,
           0.12702629,
           0.17175901,
           0.21209352,
           0.22644822
          ],
          [
           0.18110183,
           0.14365591,
           0.106100366,
           0.06646378,
           0.04163686,
           0.047803976,
           0.08555089,
           0.1402342,
           0.19693804,
           0.24775732,
           0.2716926
          ],
          [
           0.23226056,
           0.19600527,
           0.15257034,
           0.10877303,
           0.05799102,
           0.028749842,
           0.08045293,
           0.12616867,
           0.19677576,
           0.26269504,
           0.283525
          ],
          [
           0.30371037,
           0.25816676,
           0.1978455,
           0.13595997,
           0.07513528,
           0.022376403,
           0.04382582,
           0.13306385,
           0.22757545,
           0.32453018,
           0.3554072
          ]
         ]
        }
       ],
       "layout": {
        "scene": {
         "xaxis": {
          "title": {
           "text": "Expiration Date"
          }
         },
         "yaxis": {
          "title": {
           "text": "Strike Price"
          }
         },
         "zaxis": {
          "title": {
           "text": "Implied Volatility"
          }
         }
        },
        "template": {
         "data": {
          "bar": [
           {
            "error_x": {
             "color": "#2a3f5f"
            },
            "error_y": {
             "color": "#2a3f5f"
            },
            "marker": {
             "line": {
              "color": "#E5ECF6",
              "width": 0.5
             },
             "pattern": {
              "fillmode": "overlay",
              "size": 10,
              "solidity": 0.2
             }
            },
            "type": "bar"
           }
          ],
          "barpolar": [
           {
            "marker": {
             "line": {
              "color": "#E5ECF6",
              "width": 0.5
             },
             "pattern": {
              "fillmode": "overlay",
              "size": 10,
              "solidity": 0.2
             }
            },
            "type": "barpolar"
           }
          ],
          "carpet": [
           {
            "aaxis": {
             "endlinecolor": "#2a3f5f",
             "gridcolor": "white",
             "linecolor": "white",
             "minorgridcolor": "white",
             "startlinecolor": "#2a3f5f"
            },
            "baxis": {
             "endlinecolor": "#2a3f5f",
             "gridcolor": "white",
             "linecolor": "white",
             "minorgridcolor": "white",
             "startlinecolor": "#2a3f5f"
            },
            "type": "carpet"
           }
          ],
          "choropleth": [
           {
            "colorbar": {
             "outlinewidth": 0,
             "ticks": ""
            },
            "type": "choropleth"
           }
          ],
          "contour": [
           {
            "colorbar": {
             "outlinewidth": 0,
             "ticks": ""
            },
            "colorscale": [
             [
              0,
              "#0d0887"
             ],
             [
              0.1111111111111111,
              "#46039f"
             ],
             [
              0.2222222222222222,
              "#7201a8"
             ],
             [
              0.3333333333333333,
              "#9c179e"
             ],
             [
              0.4444444444444444,
              "#bd3786"
             ],
             [
              0.5555555555555556,
              "#d8576b"
             ],
             [
              0.6666666666666666,
              "#ed7953"
             ],
             [
              0.7777777777777778,
              "#fb9f3a"
             ],
             [
              0.8888888888888888,
              "#fdca26"
             ],
             [
              1,
              "#f0f921"
             ]
            ],
            "type": "contour"
           }
          ],
          "contourcarpet": [
           {
            "colorbar": {
             "outlinewidth": 0,
             "ticks": ""
            },
            "type": "contourcarpet"
           }
          ],
          "heatmap": [
           {
            "colorbar": {
             "outlinewidth": 0,
             "ticks": ""
            },
            "colorscale": [
             [
              0,
              "#0d0887"
             ],
             [
              0.1111111111111111,
              "#46039f"
             ],
             [
              0.2222222222222222,
              "#7201a8"
             ],
             [
              0.3333333333333333,
              "#9c179e"
             ],
             [
              0.4444444444444444,
              "#bd3786"
             ],
             [
              0.5555555555555556,
              "#d8576b"
             ],
             [
              0.6666666666666666,
              "#ed7953"
             ],
             [
              0.7777777777777778,
              "#fb9f3a"
             ],
             [
              0.8888888888888888,
              "#fdca26"
             ],
             [
              1,
              "#f0f921"
             ]
            ],
            "type": "heatmap"
           }
          ],
          "heatmapgl": [
           {
            "colorbar": {
             "outlinewidth": 0,
             "ticks": ""
            },
            "colorscale": [
             [
              0,
              "#0d0887"
             ],
             [
              0.1111111111111111,
              "#46039f"
             ],
             [
              0.2222222222222222,
              "#7201a8"
             ],
             [
              0.3333333333333333,
              "#9c179e"
             ],
             [
              0.4444444444444444,
              "#bd3786"
             ],
             [
              0.5555555555555556,
              "#d8576b"
             ],
             [
              0.6666666666666666,
              "#ed7953"
             ],
             [
              0.7777777777777778,
              "#fb9f3a"
             ],
             [
              0.8888888888888888,
              "#fdca26"
             ],
             [
              1,
              "#f0f921"
             ]
            ],
            "type": "heatmapgl"
           }
          ],
          "histogram": [
           {
            "marker": {
             "pattern": {
              "fillmode": "overlay",
              "size": 10,
              "solidity": 0.2
             }
            },
            "type": "histogram"
           }
          ],
          "histogram2d": [
           {
            "colorbar": {
             "outlinewidth": 0,
             "ticks": ""
            },
            "colorscale": [
             [
              0,
              "#0d0887"
             ],
             [
              0.1111111111111111,
              "#46039f"
             ],
             [
              0.2222222222222222,
              "#7201a8"
             ],
             [
              0.3333333333333333,
              "#9c179e"
             ],
             [
              0.4444444444444444,
              "#bd3786"
             ],
             [
              0.5555555555555556,
              "#d8576b"
             ],
             [
              0.6666666666666666,
              "#ed7953"
             ],
             [
              0.7777777777777778,
              "#fb9f3a"
             ],
             [
              0.8888888888888888,
              "#fdca26"
             ],
             [
              1,
              "#f0f921"
             ]
            ],
            "type": "histogram2d"
           }
          ],
          "histogram2dcontour": [
           {
            "colorbar": {
             "outlinewidth": 0,
             "ticks": ""
            },
            "colorscale": [
             [
              0,
              "#0d0887"
             ],
             [
              0.1111111111111111,
              "#46039f"
             ],
             [
              0.2222222222222222,
              "#7201a8"
             ],
             [
              0.3333333333333333,
              "#9c179e"
             ],
             [
              0.4444444444444444,
              "#bd3786"
             ],
             [
              0.5555555555555556,
              "#d8576b"
             ],
             [
              0.6666666666666666,
              "#ed7953"
             ],
             [
              0.7777777777777778,
              "#fb9f3a"
             ],
             [
              0.8888888888888888,
              "#fdca26"
             ],
             [
              1,
              "#f0f921"
             ]
            ],
            "type": "histogram2dcontour"
           }
          ],
          "mesh3d": [
           {
            "colorbar": {
             "outlinewidth": 0,
             "ticks": ""
            },
            "type": "mesh3d"
           }
          ],
          "parcoords": [
           {
            "line": {
             "colorbar": {
              "outlinewidth": 0,
              "ticks": ""
             }
            },
            "type": "parcoords"
           }
          ],
          "pie": [
           {
            "automargin": true,
            "type": "pie"
           }
          ],
          "scatter": [
           {
            "fillpattern": {
             "fillmode": "overlay",
             "size": 10,
             "solidity": 0.2
            },
            "type": "scatter"
           }
          ],
          "scatter3d": [
           {
            "line": {
             "colorbar": {
              "outlinewidth": 0,
              "ticks": ""
             }
            },
            "marker": {
             "colorbar": {
              "outlinewidth": 0,
              "ticks": ""
             }
            },
            "type": "scatter3d"
           }
          ],
          "scattercarpet": [
           {
            "marker": {
             "colorbar": {
              "outlinewidth": 0,
              "ticks": ""
             }
            },
            "type": "scattercarpet"
           }
          ],
          "scattergeo": [
           {
            "marker": {
             "colorbar": {
              "outlinewidth": 0,
              "ticks": ""
             }
            },
            "type": "scattergeo"
           }
          ],
          "scattergl": [
           {
            "marker": {
             "colorbar": {
              "outlinewidth": 0,
              "ticks": ""
             }
            },
            "type": "scattergl"
           }
          ],
          "scattermapbox": [
           {
            "marker": {
             "colorbar": {
              "outlinewidth": 0,
              "ticks": ""
             }
            },
            "type": "scattermapbox"
           }
          ],
          "scatterpolar": [
           {
            "marker": {
             "colorbar": {
              "outlinewidth": 0,
              "ticks": ""
             }
            },
            "type": "scatterpolar"
           }
          ],
          "scatterpolargl": [
           {
            "marker": {
             "colorbar": {
              "outlinewidth": 0,
              "ticks": ""
             }
            },
            "type": "scatterpolargl"
           }
          ],
          "scatterternary": [
           {
            "marker": {
             "colorbar": {
              "outlinewidth": 0,
              "ticks": ""
             }
            },
            "type": "scatterternary"
           }
          ],
          "surface": [
           {
            "colorbar": {
             "outlinewidth": 0,
             "ticks": ""
            },
            "colorscale": [
             [
              0,
              "#0d0887"
             ],
             [
              0.1111111111111111,
              "#46039f"
             ],
             [
              0.2222222222222222,
              "#7201a8"
             ],
             [
              0.3333333333333333,
              "#9c179e"
             ],
             [
              0.4444444444444444,
              "#bd3786"
             ],
             [
              0.5555555555555556,
              "#d8576b"
             ],
             [
              0.6666666666666666,
              "#ed7953"
             ],
             [
              0.7777777777777778,
              "#fb9f3a"
             ],
             [
              0.8888888888888888,
              "#fdca26"
             ],
             [
              1,
              "#f0f921"
             ]
            ],
            "type": "surface"
           }
          ],
          "table": [
           {
            "cells": {
             "fill": {
              "color": "#EBF0F8"
             },
             "line": {
              "color": "white"
             }
            },
            "header": {
             "fill": {
              "color": "#C8D4E3"
             },
             "line": {
              "color": "white"
             }
            },
            "type": "table"
           }
          ]
         },
         "layout": {
          "annotationdefaults": {
           "arrowcolor": "#2a3f5f",
           "arrowhead": 0,
           "arrowwidth": 1
          },
          "autotypenumbers": "strict",
          "coloraxis": {
           "colorbar": {
            "outlinewidth": 0,
            "ticks": ""
           }
          },
          "colorscale": {
           "diverging": [
            [
             0,
             "#8e0152"
            ],
            [
             0.1,
             "#c51b7d"
            ],
            [
             0.2,
             "#de77ae"
            ],
            [
             0.3,
             "#f1b6da"
            ],
            [
             0.4,
             "#fde0ef"
            ],
            [
             0.5,
             "#f7f7f7"
            ],
            [
             0.6,
             "#e6f5d0"
            ],
            [
             0.7,
             "#b8e186"
            ],
            [
             0.8,
             "#7fbc41"
            ],
            [
             0.9,
             "#4d9221"
            ],
            [
             1,
             "#276419"
            ]
           ],
           "sequential": [
            [
             0,
             "#0d0887"
            ],
            [
             0.1111111111111111,
             "#46039f"
            ],
            [
             0.2222222222222222,
             "#7201a8"
            ],
            [
             0.3333333333333333,
             "#9c179e"
            ],
            [
             0.4444444444444444,
             "#bd3786"
            ],
            [
             0.5555555555555556,
             "#d8576b"
            ],
            [
             0.6666666666666666,
             "#ed7953"
            ],
            [
             0.7777777777777778,
             "#fb9f3a"
            ],
            [
             0.8888888888888888,
             "#fdca26"
            ],
            [
             1,
             "#f0f921"
            ]
           ],
           "sequentialminus": [
            [
             0,
             "#0d0887"
            ],
            [
             0.1111111111111111,
             "#46039f"
            ],
            [
             0.2222222222222222,
             "#7201a8"
            ],
            [
             0.3333333333333333,
             "#9c179e"
            ],
            [
             0.4444444444444444,
             "#bd3786"
            ],
            [
             0.5555555555555556,
             "#d8576b"
            ],
            [
             0.6666666666666666,
             "#ed7953"
            ],
            [
             0.7777777777777778,
             "#fb9f3a"
            ],
            [
             0.8888888888888888,
             "#fdca26"
            ],
            [
             1,
             "#f0f921"
            ]
           ]
          },
          "colorway": [
           "#636efa",
           "#EF553B",
           "#00cc96",
           "#ab63fa",
           "#FFA15A",
           "#19d3f3",
           "#FF6692",
           "#B6E880",
           "#FF97FF",
           "#FECB52"
          ],
          "font": {
           "color": "#2a3f5f"
          },
          "geo": {
           "bgcolor": "white",
           "lakecolor": "white",
           "landcolor": "#E5ECF6",
           "showlakes": true,
           "showland": true,
           "subunitcolor": "white"
          },
          "hoverlabel": {
           "align": "left"
          },
          "hovermode": "closest",
          "mapbox": {
           "style": "light"
          },
          "paper_bgcolor": "white",
          "plot_bgcolor": "#E5ECF6",
          "polar": {
           "angularaxis": {
            "gridcolor": "white",
            "linecolor": "white",
            "ticks": ""
           },
           "bgcolor": "#E5ECF6",
           "radialaxis": {
            "gridcolor": "white",
            "linecolor": "white",
            "ticks": ""
           }
          },
          "scene": {
           "xaxis": {
            "backgroundcolor": "#E5ECF6",
            "gridcolor": "white",
            "gridwidth": 2,
            "linecolor": "white",
            "showbackground": true,
            "ticks": "",
            "zerolinecolor": "white"
           },
           "yaxis": {
            "backgroundcolor": "#E5ECF6",
            "gridcolor": "white",
            "gridwidth": 2,
            "linecolor": "white",
            "showbackground": true,
            "ticks": "",
            "zerolinecolor": "white"
           },
           "zaxis": {
            "backgroundcolor": "#E5ECF6",
            "gridcolor": "white",
            "gridwidth": 2,
            "linecolor": "white",
            "showbackground": true,
            "ticks": "",
            "zerolinecolor": "white"
           }
          },
          "shapedefaults": {
           "line": {
            "color": "#2a3f5f"
           }
          },
          "ternary": {
           "aaxis": {
            "gridcolor": "white",
            "linecolor": "white",
            "ticks": ""
           },
           "baxis": {
            "gridcolor": "white",
            "linecolor": "white",
            "ticks": ""
           },
           "bgcolor": "#E5ECF6",
           "caxis": {
            "gridcolor": "white",
            "linecolor": "white",
            "ticks": ""
           }
          },
          "title": {
           "x": 0.05
          },
          "xaxis": {
           "automargin": true,
           "gridcolor": "white",
           "linecolor": "white",
           "ticks": "",
           "title": {
            "standoff": 15
           },
           "zerolinecolor": "white",
           "zerolinewidth": 2
          },
          "yaxis": {
           "automargin": true,
           "gridcolor": "white",
           "linecolor": "white",
           "ticks": "",
           "title": {
            "standoff": 15
           },
           "zerolinecolor": "white",
           "zerolinewidth": 2
          }
         }
        },
        "title": {
         "text": "Implied Volatility Surface"
        }
       }
      },
      "text/html": [
       "<div>                            <div id=\"36502129-ec63-42f1-b1e7-cfb1717ffb50\" class=\"plotly-graph-div\" style=\"height:525px; width:100%;\"></div>            <script type=\"text/javascript\">                require([\"plotly\"], function(Plotly) {                    window.PLOTLYENV=window.PLOTLYENV || {};                                    if (document.getElementById(\"36502129-ec63-42f1-b1e7-cfb1717ffb50\")) {                    Plotly.newPlot(                        \"36502129-ec63-42f1-b1e7-cfb1717ffb50\",                        [{\"x\":[\"2023-09-22 09:15:00\",\"2023-09-22 09:30:00\",\"2023-09-22 09:45:00\",\"2023-09-22 10:00:00\",\"2023-09-22 10:15:00\",\"2023-09-22 10:30:00\",\"2023-09-22 10:45:00\",\"2023-09-22 11:00:00\",\"2023-09-22 11:15:00\",\"2023-09-22 11:30:00\",\"2023-09-22 11:45:00\",\"2023-09-22 12:00:00\",\"2023-09-22 12:15:00\",\"2023-09-22 12:30:00\",\"2023-09-22 12:45:00\",\"2023-09-22 13:00:00\",\"2023-09-22 13:15:00\",\"2023-09-22 13:30:00\",\"2023-09-22 13:45:00\",\"2023-09-22 14:00:00\",\"2023-09-22 14:15:00\",\"2023-09-22 14:30:00\",\"2023-09-22 14:45:00\",\"2023-09-22 15:00:00\",\"2023-09-22 15:15:00\",\"2023-09-25 09:15:00\",\"2023-09-25 09:30:00\",\"2023-09-25 09:45:00\",\"2023-09-25 10:00:00\",\"2023-09-25 10:15:00\",\"2023-09-25 10:30:00\",\"2023-09-25 10:45:00\",\"2023-09-25 11:00:00\",\"2023-09-25 11:15:00\",\"2023-09-25 11:30:00\",\"2023-09-25 11:45:00\",\"2023-09-25 12:00:00\",\"2023-09-25 12:15:00\",\"2023-09-25 12:30:00\",\"2023-09-25 12:45:00\",\"2023-09-25 13:00:00\",\"2023-09-25 13:15:00\",\"2023-09-25 13:30:00\",\"2023-09-25 13:45:00\",\"2023-09-25 14:00:00\",\"2023-09-25 14:15:00\",\"2023-09-25 14:30:00\",\"2023-09-25 14:45:00\",\"2023-09-25 15:00:00\",\"2023-09-25 15:15:00\",\"2023-09-26 09:15:00\",\"2023-09-26 09:30:00\",\"2023-09-26 09:45:00\",\"2023-09-26 10:00:00\",\"2023-09-26 10:15:00\",\"2023-09-26 10:30:00\",\"2023-09-26 10:45:00\",\"2023-09-26 11:00:00\",\"2023-09-26 11:15:00\",\"2023-09-26 11:30:00\",\"2023-09-26 11:45:00\",\"2023-09-26 12:00:00\",\"2023-09-26 12:15:00\",\"2023-09-26 12:30:00\",\"2023-09-26 12:45:00\",\"2023-09-26 13:00:00\",\"2023-09-26 13:15:00\",\"2023-09-26 13:30:00\",\"2023-09-26 13:45:00\",\"2023-09-26 14:00:00\",\"2023-09-26 14:15:00\",\"2023-09-26 14:30:00\",\"2023-09-26 14:45:00\",\"2023-09-26 15:00:00\",\"2023-09-26 15:15:00\",\"2023-09-27 09:15:00\",\"2023-09-27 09:30:00\",\"2023-09-27 09:45:00\",\"2023-09-27 10:00:00\",\"2023-09-27 10:15:00\",\"2023-09-27 10:30:00\",\"2023-09-27 10:45:00\",\"2023-09-27 11:00:00\",\"2023-09-27 11:15:00\",\"2023-09-27 11:30:00\",\"2023-09-27 11:45:00\",\"2023-09-27 12:00:00\",\"2023-09-27 12:15:00\",\"2023-09-27 12:30:00\",\"2023-09-27 12:45:00\",\"2023-09-27 13:00:00\",\"2023-09-27 13:15:00\",\"2023-09-27 13:30:00\",\"2023-09-27 13:45:00\",\"2023-09-27 14:00:00\",\"2023-09-27 14:15:00\",\"2023-09-27 14:30:00\",\"2023-09-27 14:45:00\",\"2023-09-27 15:00:00\",\"2023-09-27 15:15:00\",\"2023-09-28 09:15:00\",\"2023-09-28 09:30:00\",\"2023-09-28 09:45:00\",\"2023-09-28 10:00:00\",\"2023-09-28 10:15:00\",\"2023-09-28 10:30:00\",\"2023-09-28 10:45:00\",\"2023-09-28 11:00:00\",\"2023-09-28 11:15:00\",\"2023-09-28 11:30:00\",\"2023-09-28 11:45:00\",\"2023-09-28 12:00:00\",\"2023-09-28 12:15:00\",\"2023-09-28 12:30:00\",\"2023-09-28 12:45:00\",\"2023-09-28 13:00:00\",\"2023-09-28 13:15:00\",\"2023-09-28 13:30:00\",\"2023-09-28 13:45:00\",\"2023-09-28 14:00:00\",\"2023-09-28 14:15:00\",\"2023-09-28 14:30:00\",\"2023-09-28 14:45:00\",\"2023-09-28 15:00:00\",\"2023-09-28 15:15:00\"],\"y\":[0,1,2,3,4,5,6,7,8,9,10],\"z\":[[0.00041016564,0.0023623258,0.0037924796,0.007772414,0.010371488,0.015443363,0.017703643,0.015285835,0.01080431,0.008652557,0.006990403],[-0.00018228963,0.0018061623,0.0032702982,0.0073465724,0.009903822,0.015313744,0.017398687,0.014801025,0.010445859,0.008274984,0.006695073],[0.0014894083,0.003753882,0.005119566,0.008995412,0.011524763,0.016347352,0.018996263,0.016825832,0.0121566355,0.009766199,0.008032516],[0.0015371889,0.0039358325,0.005261574,0.009239709,0.011791624,0.015146007,0.017395874,0.015342295,0.0113251805,0.009206951,0.0077225193],[-0.0006023459,0.0017467849,0.0029809512,0.0069171954,0.0094336495,0.01762927,0.017151462,0.0147842355,0.010377582,0.008230235,0.006576527],[-0.0016023181,0.00006778166,0.0014345758,0.0053072926,0.007862799,0.015759993,0.019076949,0.016675465,0.012052938,0.00987152,0.007912539],[-0.0014818758,0.00023758784,0.0016670711,0.005375648,0.007855631,0.01600007,0.016418802,0.014099911,0.009635266,0.0074022748,0.0059446804],[-0.0010518432,0.0006864406,0.0020371526,0.0056101363,0.00801551,0.015980847,0.016304648,0.013907772,0.0094302185,0.007035915,0.0055686124],[-0.0015379973,0.00029725954,0.0017337725,0.0055835117,0.008171931,0.014373756,0.01577262,0.013604723,0.00933988,0.0072569363,0.005896438],[-0.0020581335,-0.00024122,0.0011915565,0.004856704,0.0072457157,0.015199951,0.016792929,0.014525674,0.009992607,0.007808607,0.006326709],[-0.0019163564,-0.00039066374,0.0007597469,0.0042306576,0.0065030735,0.014370819,0.018699234,0.015903134,0.010839127,0.008101851,0.0060973205],[-0.0014968142,0.0007010214,0.0020801686,0.0060488824,0.008471783,0.012277645,0.012836935,0.010704603,0.006594252,0.004464209,0.0026661977],[-0.0022905916,-0.00029573962,0.0010740794,0.0050597508,0.0073980577,0.013602578,0.014649736,0.012297329,0.007979747,0.0056397617,0.0037205108],[-0.0025095455,-0.00034623593,0.00089251995,0.0048662852,0.007269129,0.013301945,0.0142026525,0.011884842,0.0075146444,0.0051425025,0.0033220574],[-0.0011738576,0.0006982684,0.0020079724,0.005585471,0.008082904,0.016044866,0.013176763,0.010900971,0.0064532943,0.004058659,0.002735529],[-0.0022012629,-0.00037572905,0.0007511638,0.004291551,0.006595487,0.014549817,0.015645394,0.012997646,0.008234322,0.0057610497,0.0041989796],[-0.0005548671,0.0014251657,0.0028292537,0.0065930877,0.009186808,0.012344464,0.0129203,0.010710932,0.006375108,0.004340101,0.0033395924],[-0.00075463206,0.0014860444,0.0029267035,0.006749237,0.009247802,0.017529879,0.013298554,0.011405535,0.0072371885,0.005050931,0.0037722029],[-0.0014973953,0.0006089434,0.0021273755,0.0059106518,0.0084005855,0.016613077,0.01384669,0.011775393,0.007593509,0.005328525,0.0040637255],[-0.0015844777,0.00044237077,0.0017215908,0.0054771136,0.007794384,0.01599953,0.014879776,0.012598686,0.00816676,0.0057302006,0.0042958185],[-0.002577223,-0.0005521849,0.0006758906,0.004338665,0.0066331327,0.014687394,0.014395809,0.011830457,0.007080622,0.004587915,0.0028658584],[-0.0022233725,-0.00021191686,0.0010150112,0.0046870913,0.0069554187,0.014061368,0.015150959,0.012642134,0.007981967,0.0055032894,0.0038665384],[-0.0024041757,-0.0007032491,0.000463821,0.004056433,0.0061162002,0.014044528,0.017810354,0.014977619,0.010096405,0.0072116256,0.0051203854],[-0.0029874444,-0.0011306293,0.00014292076,0.0039364453,0.0062444527,0.014191586,0.018037224,0.015385788,0.010670699,0.007928234,0.0059325844],[0.009712756,0.0104293,0.01158794,0.015640581,0.017699145,0.024915263,0.030641073,0.030028518,0.0254393,0.023239594,0.019916717],[0.006806962,0.008219086,0.009112604,0.01219975,0.014165528,0.021292035,0.03115697,0.028824836,0.024335742,0.022040494,0.018902678],[0.0060546137,0.0077859685,0.008788757,0.012122089,0.0141164735,0.022102457,0.027700404,0.025369212,0.021505974,0.019453596,0.017069407],[0.0048651323,0.0066041686,0.0075423606,0.010908337,0.012895398,0.022114102,0.027712518,0.025233466,0.021316588,0.019588813,0.017190997],[0.0055826344,0.006929595,0.0078704655,0.011068342,0.01306349,0.020286888,0.031280346,0.028484955,0.024007946,0.0215783,0.01860372],[0.0054041445,0.006881904,0.007856019,0.011117829,0.012990985,0.02028726,0.030599,0.027786806,0.023351684,0.020950451,0.017900113],[0.0037994199,0.005301673,0.0061526224,0.00925084,0.01101597,0.024418313,0.03026726,0.027569167,0.022887308,0.020514242,0.018146276],[0.0030462556,0.0044490397,0.00547586,0.008637423,0.010314874,0.024049465,0.02977466,0.027269911,0.022666026,0.020464186,0.018062744],[0.0039135963,0.0053883158,0.006037291,0.009455813,0.011291269,0.01843322,0.032109722,0.029047757,0.024067197,0.021332365,0.01802225],[0.0033525862,0.004916504,0.005656231,0.008940281,0.010722518,0.017991696,0.03174839,0.02881978,0.02389498,0.021221355,0.018144421],[0.0041299798,0.005454734,0.0061358176,0.009335371,0.011032425,0.018087473,0.03188198,0.028673667,0.02355675,0.02083736,0.017401956],[0.0027311444,0.0039987415,0.0048409402,0.007943967,0.009557594,0.023807883,0.029175526,0.02603881,0.021382887,0.01892643,0.016353514],[0.0030402727,0.0044925734,0.0054203197,0.008518962,0.010353845,0.017557416,0.028093519,0.025352828,0.020574145,0.018158846,0.015809339],[0.002859395,0.0043391287,0.0047256276,0.007814148,0.009226482,0.023911051,0.029486077,0.026571173,0.021672115,0.019522585,0.016692158],[0.004608322,0.0059740134,0.006197065,0.008921003,0.010181773,0.017263357,0.03161963,0.028120954,0.022526737,0.019736856,0.016209755],[0.00403535,0.005323518,0.006148044,0.009156799,0.010944948,0.021677814,0.02653951,0.024077233,0.019779071,0.017552413,0.015776403],[0.004574891,0.005979933,0.0061861835,0.009121651,0.010695636,0.018004294,0.027375424,0.024527282,0.019448437,0.017116401,0.014200028],[0.004100058,0.0058433786,0.0062312707,0.009355465,0.011055641,0.018487398,0.024874216,0.022398047,0.017783362,0.01595315,0.01338876],[0.0039741434,0.0057717524,0.0062216297,0.009396622,0.0111818835,0.018822312,0.024463734,0.021977425,0.017633181,0.015448682,0.013023883],[0.004715752,0.006292805,0.007824317,0.0111835245,0.013609339,0.0213872,0.019916939,0.018594194,0.014963526,0.0137164965,0.012310982],[0.0046724603,0.006689675,0.008844953,0.012737257,0.015654463,0.016299892,0.02010866,0.019491687,0.01656723,0.015747074,0.014965672],[0.003939055,0.0058971494,0.007933836,0.0118638,0.014716022,0.023054611,0.018599784,0.01791073,0.015016884,0.014133655,0.013322879],[0.0025563277,0.0044817775,0.006309133,0.010031166,0.012765449,0.020692766,0.019008512,0.017718792,0.014267333,0.013204794,0.012128744],[0.002239745,0.0041558184,0.0049350373,0.0083154645,0.010036927,0.020593971,0.025023969,0.022977002,0.018717539,0.016438048,0.013945043],[0.0018206574,0.0039787367,0.004716359,0.008257916,0.009911671,0.020503875,0.025112292,0.02290748,0.01870025,0.016665194,0.0144521855],[0.010494579,0.012946907,0.014295582,0.017935203,0.020036358,0.02064187,0.026732726,0.026108269,0.023007791,0.022118479,0.020175759],[0.009370096,0.010676574,0.011615235,0.01467037,0.016559433,0.023573756,0.030393349,0.028314833,0.024498839,0.022913769,0.020396214],[0.007567823,0.009351347,0.010084897,0.013579497,0.015588451,0.021387108,0.027331071,0.025912084,0.022722036,0.02160938,0.019771896],[0.007450603,0.008960687,0.009400897,0.012578098,0.014299706,0.022265825,0.027946,0.026241802,0.022788577,0.021429818,0.019359615],[0.008901235,0.010363519,0.010901615,0.01408677,0.015840579,0.02069069,0.025775732,0.024187643,0.021089312,0.01972469,0.018191379],[0.008224998,0.009747595,0.01020772,0.013579214,0.015354369,0.020415578,0.025372399,0.023864347,0.020688992,0.01960168,0.018171526],[0.007206075,0.008717526,0.009218957,0.012484012,0.01418129,0.0209128,0.025756145,0.024270702,0.021072961,0.019780468,0.018287145],[0.009040393,0.009968936,0.010751333,0.013429044,0.015318166,0.022379316,0.025611809,0.023518857,0.020030845,0.018968925,0.0170088],[0.007785201,0.009363987,0.009910483,0.013490913,0.01537656,0.018813208,0.023109304,0.022198226,0.019533366,0.018610246,0.017815433],[0.007415775,0.008967187,0.009505391,0.0129332,0.014799386,0.019368656,0.023965562,0.022971783,0.019955732,0.019005064,0.01788618],[0.006659683,0.008556925,0.009418789,0.013200639,0.015293919,0.018493056,0.022792058,0.021880481,0.019328784,0.018651485,0.017813183],[0.0064114816,0.008330528,0.0091638565,0.013088921,0.01524416,0.018841282,0.023601366,0.02274739,0.020310152,0.019726686,0.018954977],[0.0067880265,0.008547038,0.009347711,0.013098506,0.015194777,0.018481549,0.022867704,0.022022739,0.019593012,0.018829413,0.018138051],[0.0069451556,0.008847501,0.009787649,0.013679398,0.01591881,0.017742742,0.022169614,0.0216606,0.019368231,0.019043494,0.01851499],[0.008097224,0.009214524,0.010260779,0.013366817,0.015847102,0.02319299,0.024536809,0.022915117,0.019990131,0.019308206,0.018154278],[0.00806763,0.009003669,0.010068528,0.013161434,0.015487865,0.020466875,0.02547509,0.023981512,0.021240361,0.020981126,0.019926876],[0.006305907,0.007097684,0.008025978,0.01088977,0.013242312,0.02074534,0.023709947,0.02197351,0.018969294,0.018366244,0.01726577],[0.0064571165,0.0069276765,0.007591922,0.010081647,0.012077402,0.01935812,0.025416771,0.022979338,0.019545343,0.018334273,0.016973041],[0.00529534,0.0067056306,0.007028181,0.010450697,0.012204122,0.020004518,0.024649518,0.023297451,0.0199605,0.019218717,0.018416375],[0.0055736154,0.0072158463,0.0077776276,0.011462489,0.013580121,0.018060964,0.022397256,0.02161248,0.01874135,0.018516377,0.018248204],[0.00768058,0.008461416,0.009334199,0.012035957,0.014200173,0.021543186,0.02303219,0.021359358,0.018391002,0.01716308,0.016176403],[0.0056010373,0.0073146895,0.007924993,0.011801401,0.013920754,0.017669685,0.021647682,0.020818844,0.017700937,0.017396271,0.016965635],[0.006467346,0.007492602,0.008398268,0.011176502,0.013461776,0.020789545,0.021913415,0.019959092,0.016728636,0.015114572,0.014301375],[0.0056878813,0.0066952035,0.0076543465,0.010455778,0.012643348,0.020041473,0.02297016,0.02097451,0.017478414,0.015695795,0.014646802],[0.004618205,0.005703263,0.0068969093,0.009863282,0.012335695,0.019763634,0.02348836,0.02152206,0.018096305,0.016293265,0.015139062],[0.016587328,0.01685103,0.017566536,0.02104641,0.023302067,0.031181462,0.029378487,0.028794844,0.026757058,0.027073767,0.025783747],[0.014232561,0.0147373155,0.015363656,0.01922782,0.021732166,0.029939,0.030418126,0.030418772,0.028450262,0.029335845,0.027989607],[0.015353709,0.016126566,0.017060764,0.021189494,0.02387726,0.032085296,0.030202312,0.030294023,0.028692607,0.0293299,0.028295051],[0.0155804455,0.016424626,0.017398909,0.021274762,0.023931786,0.02190955,0.029955396,0.029911734,0.028908353,0.030220825,0.029530663],[0.018178519,0.019023702,0.020305902,0.02388285,0.027281728,0.035521436,0.028792148,0.029809095,0.028152447,0.029711995,0.030292902],[0.01769562,0.01790107,0.018847313,0.021824962,0.024407096,0.03225661,0.029689534,0.030330334,0.028339643,0.029337,0.029390689],[0.012773562,0.014502168,0.016003646,0.020322924,0.023526788,0.021897223,0.030547405,0.03133403,0.03061257,0.032903958,0.032508943],[0.013220638,0.01423043,0.014995854,0.018886069,0.0214791,0.02065032,0.028366236,0.028937187,0.02766157,0.029503662,0.029242735],[0.013203301,0.013088379,0.013168171,0.015610443,0.01751975,0.022350177,0.029124105,0.028563935,0.027559318,0.028385404,0.029172968],[0.016298085,0.0159203,0.01521568,0.017685505,0.018455714,0.025445558,0.027606169,0.025844205,0.023170471,0.024487939,0.024114624],[0.016611047,0.015679229,0.01500199,0.01611743,0.01694687,0.023664575,0.032139592,0.030226074,0.028016679,0.027448896,0.026284654],[0.015208378,0.014491148,0.013967168,0.015180899,0.015837397,0.023722123,0.029574687,0.02719637,0.025208488,0.02492192,0.025209572],[0.016300414,0.015535746,0.015574988,0.017378116,0.01862263,0.020313527,0.026179766,0.024944693,0.02336298,0.023528393,0.023826867],[0.017341524,0.016535018,0.01645016,0.018427433,0.019667804,0.027028084,0.027301187,0.02611668,0.024253089,0.024366308,0.024368707],[0.018082026,0.017179888,0.016823206,0.018351106,0.01938945,0.026487067,0.027513968,0.02595869,0.023595814,0.022960339,0.023154251],[0.019858472,0.01873773,0.018098034,0.01955655,0.020409137,0.027195703,0.026323745,0.024690695,0.021999855,0.02119768,0.02109221],[0.015175238,0.015126489,0.014323007,0.016095469,0.017557792,0.019245923,0.024456447,0.024057686,0.021531891,0.023793418,0.024842154],[0.016038548,0.015632309,0.014340647,0.016174229,0.017452225,0.017442677,0.022039523,0.021836374,0.01936879,0.021232251,0.021983821],[0.016280588,0.015604194,0.014424015,0.01567029,0.015953429,0.020772066,0.025451565,0.024237573,0.02096074,0.022239286,0.023303926],[0.017281909,0.01666775,0.015595071,0.017250357,0.017909963,0.02510687,0.022455474,0.022082713,0.019502312,0.020636607,0.021410633],[0.016702503,0.015930258,0.014317401,0.015382996,0.015863009,0.019935437,0.024449015,0.023650233,0.020899784,0.022137549,0.023254625],[0.016622938,0.01559427,0.013872616,0.014790969,0.015058354,0.019800235,0.023742555,0.022882398,0.019345563,0.020918343,0.022135139],[0.018853951,0.017249703,0.014702566,0.014881259,0.0141711235,0.019757312,0.02452018,0.022066306,0.018114224,0.018436745,0.018990684],[0.01451686,0.012357611,0.010590535,0.01107491,0.011694975,0.018143743,0.022778725,0.021643851,0.020306807,0.022686835,0.024806708],[0.018042743,0.016696401,0.014521662,0.015260821,0.01501416,0.021498159,0.021416606,0.021188602,0.018182687,0.01843886,0.020144988],[0.058829613,0.05305251,0.05014402,0.04993721,0.052924708,0.033531677,0.05542613,0.060102336,0.06368087,0.07203849,0.076528475],[0.060870305,0.05773208,0.058679793,0.063912824,0.07293771,0.03161668,0.055828236,0.06372672,0.07079868,0.08147097,0.08510178],[0.06164512,0.05909274,0.057232823,0.060965605,0.06861,0.0361466,0.06342624,0.07284911,0.07820119,0.088616654,0.09142847],[0.05901338,0.055350225,0.05283721,0.055952065,0.06345362,0.03737428,0.06538765,0.07587259,0.08225952,0.093336314,0.09544967],[0.059443295,0.05046754,0.04506823,0.045765504,0.051684037,0.037591558,0.062738836,0.068138756,0.07469432,0.08662446,0.093394905],[0.06264342,0.055805143,0.048389878,0.04830928,0.051801436,0.067851916,0.04315445,0.056828156,0.063639626,0.07440382,0.08062996],[0.058253214,0.051637743,0.044874657,0.044895135,0.049570598,0.02499089,0.053635187,0.06815334,0.077907324,0.09294185,0.09673613],[0.06221448,0.053672116,0.044743437,0.04363688,0.04846073,0.027849134,0.05691003,0.071170144,0.080447584,0.09572396,0.10282324],[0.06843362,0.055915203,0.049178045,0.044409238,0.04473298,0.056723375,0.055767417,0.07146086,0.08423941,0.09865548,0.10479152],[0.066917025,0.057285476,0.05515391,0.054736458,0.06288418,0.033518855,0.07047184,0.08675627,0.10044597,0.11505504,0.12195611],[0.06561776,0.055931333,0.05508155,0.055750713,0.063526064,0.041711055,0.077980064,0.09144375,0.10383543,0.11831668,0.12629607],[0.065382555,0.056087505,0.05481786,0.0557909,0.06418177,0.041285403,0.07741548,0.0928521,0.10631938,0.12333666,0.12888539],[0.068432115,0.055878866,0.05308609,0.0530463,0.060378447,0.04542138,0.083967924,0.09978844,0.11463554,0.13225044,0.13839291],[0.080519,0.06878093,0.056339856,0.052079454,0.051192954,0.06280554,0.06491691,0.08389579,0.099245206,0.11969952,0.12745808],[0.08543776,0.069663525,0.05552089,0.04956737,0.046251528,0.053581756,0.06895886,0.08907534,0.10691677,0.13120638,0.14051978],[0.08798686,0.07286653,0.05777354,0.049373433,0.04348234,0.05181599,0.07521341,0.09612554,0.11366309,0.13812013,0.1472391],[0.08693138,0.071064666,0.05493393,0.048723765,0.046123885,0.041847784,0.077539004,0.099282905,0.12158358,0.15256125,0.1636119],[0.1108035,0.08820963,0.0737901,0.060437366,0.055309333,0.05700809,0.067186415,0.087431505,0.113034874,0.14293635,0.1604039],[0.10180847,0.08143151,0.06245817,0.050951056,0.04453937,0.046340548,0.08830605,0.119314164,0.15067998,0.1830721,0.19668448],[0.12759715,0.1064035,0.08559786,0.06470755,0.05315519,0.050274532,0.07384086,0.09856051,0.1338321,0.1716677,0.18817574],[0.13535643,0.1111545,0.08973363,0.068103805,0.055874728,0.05414435,0.07531144,0.1015756,0.13700852,0.17294137,0.19263873],[0.14788249,0.11739047,0.09349494,0.063331865,0.05126235,0.045361884,0.08492441,0.12702629,0.17175901,0.21209352,0.22644822],[0.18110183,0.14365591,0.106100366,0.06646378,0.04163686,0.047803976,0.08555089,0.1402342,0.19693804,0.24775732,0.2716926],[0.23226056,0.19600527,0.15257034,0.10877303,0.05799102,0.028749842,0.08045293,0.12616867,0.19677576,0.26269504,0.283525],[0.30371037,0.25816676,0.1978455,0.13595997,0.07513528,0.022376403,0.04382582,0.13306385,0.22757545,0.32453018,0.3554072]],\"type\":\"surface\"}],                        {\"template\":{\"data\":{\"histogram2dcontour\":[{\"type\":\"histogram2dcontour\",\"colorbar\":{\"outlinewidth\":0,\"ticks\":\"\"},\"colorscale\":[[0.0,\"#0d0887\"],[0.1111111111111111,\"#46039f\"],[0.2222222222222222,\"#7201a8\"],[0.3333333333333333,\"#9c179e\"],[0.4444444444444444,\"#bd3786\"],[0.5555555555555556,\"#d8576b\"],[0.6666666666666666,\"#ed7953\"],[0.7777777777777778,\"#fb9f3a\"],[0.8888888888888888,\"#fdca26\"],[1.0,\"#f0f921\"]]}],\"choropleth\":[{\"type\":\"choropleth\",\"colorbar\":{\"outlinewidth\":0,\"ticks\":\"\"}}],\"histogram2d\":[{\"type\":\"histogram2d\",\"colorbar\":{\"outlinewidth\":0,\"ticks\":\"\"},\"colorscale\":[[0.0,\"#0d0887\"],[0.1111111111111111,\"#46039f\"],[0.2222222222222222,\"#7201a8\"],[0.3333333333333333,\"#9c179e\"],[0.4444444444444444,\"#bd3786\"],[0.5555555555555556,\"#d8576b\"],[0.6666666666666666,\"#ed7953\"],[0.7777777777777778,\"#fb9f3a\"],[0.8888888888888888,\"#fdca26\"],[1.0,\"#f0f921\"]]}],\"heatmap\":[{\"type\":\"heatmap\",\"colorbar\":{\"outlinewidth\":0,\"ticks\":\"\"},\"colorscale\":[[0.0,\"#0d0887\"],[0.1111111111111111,\"#46039f\"],[0.2222222222222222,\"#7201a8\"],[0.3333333333333333,\"#9c179e\"],[0.4444444444444444,\"#bd3786\"],[0.5555555555555556,\"#d8576b\"],[0.6666666666666666,\"#ed7953\"],[0.7777777777777778,\"#fb9f3a\"],[0.8888888888888888,\"#fdca26\"],[1.0,\"#f0f921\"]]}],\"heatmapgl\":[{\"type\":\"heatmapgl\",\"colorbar\":{\"outlinewidth\":0,\"ticks\":\"\"},\"colorscale\":[[0.0,\"#0d0887\"],[0.1111111111111111,\"#46039f\"],[0.2222222222222222,\"#7201a8\"],[0.3333333333333333,\"#9c179e\"],[0.4444444444444444,\"#bd3786\"],[0.5555555555555556,\"#d8576b\"],[0.6666666666666666,\"#ed7953\"],[0.7777777777777778,\"#fb9f3a\"],[0.8888888888888888,\"#fdca26\"],[1.0,\"#f0f921\"]]}],\"contourcarpet\":[{\"type\":\"contourcarpet\",\"colorbar\":{\"outlinewidth\":0,\"ticks\":\"\"}}],\"contour\":[{\"type\":\"contour\",\"colorbar\":{\"outlinewidth\":0,\"ticks\":\"\"},\"colorscale\":[[0.0,\"#0d0887\"],[0.1111111111111111,\"#46039f\"],[0.2222222222222222,\"#7201a8\"],[0.3333333333333333,\"#9c179e\"],[0.4444444444444444,\"#bd3786\"],[0.5555555555555556,\"#d8576b\"],[0.6666666666666666,\"#ed7953\"],[0.7777777777777778,\"#fb9f3a\"],[0.8888888888888888,\"#fdca26\"],[1.0,\"#f0f921\"]]}],\"surface\":[{\"type\":\"surface\",\"colorbar\":{\"outlinewidth\":0,\"ticks\":\"\"},\"colorscale\":[[0.0,\"#0d0887\"],[0.1111111111111111,\"#46039f\"],[0.2222222222222222,\"#7201a8\"],[0.3333333333333333,\"#9c179e\"],[0.4444444444444444,\"#bd3786\"],[0.5555555555555556,\"#d8576b\"],[0.6666666666666666,\"#ed7953\"],[0.7777777777777778,\"#fb9f3a\"],[0.8888888888888888,\"#fdca26\"],[1.0,\"#f0f921\"]]}],\"mesh3d\":[{\"type\":\"mesh3d\",\"colorbar\":{\"outlinewidth\":0,\"ticks\":\"\"}}],\"scatter\":[{\"fillpattern\":{\"fillmode\":\"overlay\",\"size\":10,\"solidity\":0.2},\"type\":\"scatter\"}],\"parcoords\":[{\"type\":\"parcoords\",\"line\":{\"colorbar\":{\"outlinewidth\":0,\"ticks\":\"\"}}}],\"scatterpolargl\":[{\"type\":\"scatterpolargl\",\"marker\":{\"colorbar\":{\"outlinewidth\":0,\"ticks\":\"\"}}}],\"bar\":[{\"error_x\":{\"color\":\"#2a3f5f\"},\"error_y\":{\"color\":\"#2a3f5f\"},\"marker\":{\"line\":{\"color\":\"#E5ECF6\",\"width\":0.5},\"pattern\":{\"fillmode\":\"overlay\",\"size\":10,\"solidity\":0.2}},\"type\":\"bar\"}],\"scattergeo\":[{\"type\":\"scattergeo\",\"marker\":{\"colorbar\":{\"outlinewidth\":0,\"ticks\":\"\"}}}],\"scatterpolar\":[{\"type\":\"scatterpolar\",\"marker\":{\"colorbar\":{\"outlinewidth\":0,\"ticks\":\"\"}}}],\"histogram\":[{\"marker\":{\"pattern\":{\"fillmode\":\"overlay\",\"size\":10,\"solidity\":0.2}},\"type\":\"histogram\"}],\"scattergl\":[{\"type\":\"scattergl\",\"marker\":{\"colorbar\":{\"outlinewidth\":0,\"ticks\":\"\"}}}],\"scatter3d\":[{\"type\":\"scatter3d\",\"line\":{\"colorbar\":{\"outlinewidth\":0,\"ticks\":\"\"}},\"marker\":{\"colorbar\":{\"outlinewidth\":0,\"ticks\":\"\"}}}],\"scattermapbox\":[{\"type\":\"scattermapbox\",\"marker\":{\"colorbar\":{\"outlinewidth\":0,\"ticks\":\"\"}}}],\"scatterternary\":[{\"type\":\"scatterternary\",\"marker\":{\"colorbar\":{\"outlinewidth\":0,\"ticks\":\"\"}}}],\"scattercarpet\":[{\"type\":\"scattercarpet\",\"marker\":{\"colorbar\":{\"outlinewidth\":0,\"ticks\":\"\"}}}],\"carpet\":[{\"aaxis\":{\"endlinecolor\":\"#2a3f5f\",\"gridcolor\":\"white\",\"linecolor\":\"white\",\"minorgridcolor\":\"white\",\"startlinecolor\":\"#2a3f5f\"},\"baxis\":{\"endlinecolor\":\"#2a3f5f\",\"gridcolor\":\"white\",\"linecolor\":\"white\",\"minorgridcolor\":\"white\",\"startlinecolor\":\"#2a3f5f\"},\"type\":\"carpet\"}],\"table\":[{\"cells\":{\"fill\":{\"color\":\"#EBF0F8\"},\"line\":{\"color\":\"white\"}},\"header\":{\"fill\":{\"color\":\"#C8D4E3\"},\"line\":{\"color\":\"white\"}},\"type\":\"table\"}],\"barpolar\":[{\"marker\":{\"line\":{\"color\":\"#E5ECF6\",\"width\":0.5},\"pattern\":{\"fillmode\":\"overlay\",\"size\":10,\"solidity\":0.2}},\"type\":\"barpolar\"}],\"pie\":[{\"automargin\":true,\"type\":\"pie\"}]},\"layout\":{\"autotypenumbers\":\"strict\",\"colorway\":[\"#636efa\",\"#EF553B\",\"#00cc96\",\"#ab63fa\",\"#FFA15A\",\"#19d3f3\",\"#FF6692\",\"#B6E880\",\"#FF97FF\",\"#FECB52\"],\"font\":{\"color\":\"#2a3f5f\"},\"hovermode\":\"closest\",\"hoverlabel\":{\"align\":\"left\"},\"paper_bgcolor\":\"white\",\"plot_bgcolor\":\"#E5ECF6\",\"polar\":{\"bgcolor\":\"#E5ECF6\",\"angularaxis\":{\"gridcolor\":\"white\",\"linecolor\":\"white\",\"ticks\":\"\"},\"radialaxis\":{\"gridcolor\":\"white\",\"linecolor\":\"white\",\"ticks\":\"\"}},\"ternary\":{\"bgcolor\":\"#E5ECF6\",\"aaxis\":{\"gridcolor\":\"white\",\"linecolor\":\"white\",\"ticks\":\"\"},\"baxis\":{\"gridcolor\":\"white\",\"linecolor\":\"white\",\"ticks\":\"\"},\"caxis\":{\"gridcolor\":\"white\",\"linecolor\":\"white\",\"ticks\":\"\"}},\"coloraxis\":{\"colorbar\":{\"outlinewidth\":0,\"ticks\":\"\"}},\"colorscale\":{\"sequential\":[[0.0,\"#0d0887\"],[0.1111111111111111,\"#46039f\"],[0.2222222222222222,\"#7201a8\"],[0.3333333333333333,\"#9c179e\"],[0.4444444444444444,\"#bd3786\"],[0.5555555555555556,\"#d8576b\"],[0.6666666666666666,\"#ed7953\"],[0.7777777777777778,\"#fb9f3a\"],[0.8888888888888888,\"#fdca26\"],[1.0,\"#f0f921\"]],\"sequentialminus\":[[0.0,\"#0d0887\"],[0.1111111111111111,\"#46039f\"],[0.2222222222222222,\"#7201a8\"],[0.3333333333333333,\"#9c179e\"],[0.4444444444444444,\"#bd3786\"],[0.5555555555555556,\"#d8576b\"],[0.6666666666666666,\"#ed7953\"],[0.7777777777777778,\"#fb9f3a\"],[0.8888888888888888,\"#fdca26\"],[1.0,\"#f0f921\"]],\"diverging\":[[0,\"#8e0152\"],[0.1,\"#c51b7d\"],[0.2,\"#de77ae\"],[0.3,\"#f1b6da\"],[0.4,\"#fde0ef\"],[0.5,\"#f7f7f7\"],[0.6,\"#e6f5d0\"],[0.7,\"#b8e186\"],[0.8,\"#7fbc41\"],[0.9,\"#4d9221\"],[1,\"#276419\"]]},\"xaxis\":{\"gridcolor\":\"white\",\"linecolor\":\"white\",\"ticks\":\"\",\"title\":{\"standoff\":15},\"zerolinecolor\":\"white\",\"automargin\":true,\"zerolinewidth\":2},\"yaxis\":{\"gridcolor\":\"white\",\"linecolor\":\"white\",\"ticks\":\"\",\"title\":{\"standoff\":15},\"zerolinecolor\":\"white\",\"automargin\":true,\"zerolinewidth\":2},\"scene\":{\"xaxis\":{\"backgroundcolor\":\"#E5ECF6\",\"gridcolor\":\"white\",\"linecolor\":\"white\",\"showbackground\":true,\"ticks\":\"\",\"zerolinecolor\":\"white\",\"gridwidth\":2},\"yaxis\":{\"backgroundcolor\":\"#E5ECF6\",\"gridcolor\":\"white\",\"linecolor\":\"white\",\"showbackground\":true,\"ticks\":\"\",\"zerolinecolor\":\"white\",\"gridwidth\":2},\"zaxis\":{\"backgroundcolor\":\"#E5ECF6\",\"gridcolor\":\"white\",\"linecolor\":\"white\",\"showbackground\":true,\"ticks\":\"\",\"zerolinecolor\":\"white\",\"gridwidth\":2}},\"shapedefaults\":{\"line\":{\"color\":\"#2a3f5f\"}},\"annotationdefaults\":{\"arrowcolor\":\"#2a3f5f\",\"arrowhead\":0,\"arrowwidth\":1},\"geo\":{\"bgcolor\":\"white\",\"landcolor\":\"#E5ECF6\",\"subunitcolor\":\"white\",\"showland\":true,\"showlakes\":true,\"lakecolor\":\"white\"},\"title\":{\"x\":0.05},\"mapbox\":{\"style\":\"light\"}}},\"title\":{\"text\":\"Implied Volatility Surface\"},\"scene\":{\"xaxis\":{\"title\":{\"text\":\"Expiration Date\"}},\"yaxis\":{\"title\":{\"text\":\"Strike Price\"}},\"zaxis\":{\"title\":{\"text\":\"Implied Volatility\"}}}},                        {\"responsive\": true}                    ).then(function(){\n",
       "                            \n",
       "var gd = document.getElementById('36502129-ec63-42f1-b1e7-cfb1717ffb50');\n",
       "var x = new MutationObserver(function (mutations, observer) {{\n",
       "        var display = window.getComputedStyle(gd).display;\n",
       "        if (!display || display === 'none') {{\n",
       "            console.log([gd, 'removed!']);\n",
       "            Plotly.purge(gd);\n",
       "            observer.disconnect();\n",
       "        }}\n",
       "}});\n",
       "\n",
       "// Listen for the removal of the full notebook cells\n",
       "var notebookContainer = gd.closest('#notebook-container');\n",
       "if (notebookContainer) {{\n",
       "    x.observe(notebookContainer, {childList: true});\n",
       "}}\n",
       "\n",
       "// Listen for the clearing of the current output cell\n",
       "var outputEl = gd.closest('.output');\n",
       "if (outputEl) {{\n",
       "    x.observe(outputEl, {childList: true});\n",
       "}}\n",
       "\n",
       "                        })                };                });            </script>        </div>"
      ]
     },
     "metadata": {},
     "output_type": "display_data"
    }
   ],
   "source": [
    "expiration_dates = test_iv_df_exp_1['Datetime'] #list(volatility_surface_dict.keys())\n",
    "# print(expiration_dates)\n",
    "strikes = [i for i in range(11)] #all_strikes[3:17] #[strike for strike in volatility_surface_dict[strikes[0]].keys()]\n",
    "# print(strikes)\n",
    "\n",
    "# Create the 3D plot\n",
    "fig_test = go.Figure(data=[go.Surface(\n",
    "    x=expiration_dates,\n",
    "    y=strikes,\n",
    "    z=test_iv_df_exp_1.iloc[1:, 2:].values)\n",
    "])\n",
    "\n",
    "\n",
    "\n",
    "# Set the plot title and axis labels\n",
    "fig_test.update_layout(\n",
    "    title='Implied Volatility Surface',\n",
    "    scene=dict(\n",
    "        xaxis_title='Expiration Date',\n",
    "        yaxis_title='Strike Price',\n",
    "        zaxis_title='Implied Volatility'\n",
    "    )\n",
    ")\n",
    "\n",
    "# Show the plot\n",
    "fig_test.show()"
   ]
  },
  {
   "cell_type": "code",
   "execution_count": 46,
   "metadata": {},
   "outputs": [
    {
     "data": {
      "application/vnd.plotly.v1+json": {
       "config": {
        "plotlyServerURL": "https://plot.ly"
       },
       "data": [
        {
         "type": "surface",
         "x": [
          "2023-09-22 09:15:00",
          "2023-09-22 09:30:00",
          "2023-09-22 09:45:00",
          "2023-09-22 10:00:00",
          "2023-09-22 10:15:00",
          "2023-09-22 10:30:00",
          "2023-09-22 10:45:00",
          "2023-09-22 11:00:00",
          "2023-09-22 11:15:00",
          "2023-09-22 11:30:00",
          "2023-09-22 11:45:00",
          "2023-09-22 12:00:00",
          "2023-09-22 12:15:00",
          "2023-09-22 12:30:00",
          "2023-09-22 12:45:00",
          "2023-09-22 13:00:00",
          "2023-09-22 13:15:00",
          "2023-09-22 13:30:00",
          "2023-09-22 13:45:00",
          "2023-09-22 14:00:00",
          "2023-09-22 14:15:00",
          "2023-09-22 14:30:00",
          "2023-09-22 14:45:00",
          "2023-09-22 15:00:00",
          "2023-09-22 15:15:00",
          "2023-09-25 09:15:00",
          "2023-09-25 09:30:00",
          "2023-09-25 09:45:00",
          "2023-09-25 10:00:00",
          "2023-09-25 10:15:00",
          "2023-09-25 10:30:00",
          "2023-09-25 10:45:00",
          "2023-09-25 11:00:00",
          "2023-09-25 11:15:00",
          "2023-09-25 11:30:00",
          "2023-09-25 11:45:00",
          "2023-09-25 12:00:00",
          "2023-09-25 12:15:00",
          "2023-09-25 12:30:00",
          "2023-09-25 12:45:00",
          "2023-09-25 13:00:00",
          "2023-09-25 13:15:00",
          "2023-09-25 13:30:00",
          "2023-09-25 13:45:00",
          "2023-09-25 14:00:00",
          "2023-09-25 14:15:00",
          "2023-09-25 14:30:00",
          "2023-09-25 14:45:00",
          "2023-09-25 15:00:00",
          "2023-09-25 15:15:00",
          "2023-09-26 09:15:00",
          "2023-09-26 09:30:00",
          "2023-09-26 09:45:00",
          "2023-09-26 10:00:00",
          "2023-09-26 10:15:00",
          "2023-09-26 10:30:00",
          "2023-09-26 10:45:00",
          "2023-09-26 11:00:00",
          "2023-09-26 11:15:00",
          "2023-09-26 11:30:00",
          "2023-09-26 11:45:00",
          "2023-09-26 12:00:00",
          "2023-09-26 12:15:00",
          "2023-09-26 12:30:00",
          "2023-09-26 12:45:00",
          "2023-09-26 13:00:00",
          "2023-09-26 13:15:00",
          "2023-09-26 13:30:00",
          "2023-09-26 13:45:00",
          "2023-09-26 14:00:00",
          "2023-09-26 14:15:00",
          "2023-09-26 14:30:00",
          "2023-09-26 14:45:00",
          "2023-09-26 15:00:00",
          "2023-09-26 15:15:00",
          "2023-09-27 09:15:00",
          "2023-09-27 09:30:00",
          "2023-09-27 09:45:00",
          "2023-09-27 10:00:00",
          "2023-09-27 10:15:00",
          "2023-09-27 10:30:00",
          "2023-09-27 10:45:00",
          "2023-09-27 11:00:00",
          "2023-09-27 11:15:00",
          "2023-09-27 11:30:00",
          "2023-09-27 11:45:00",
          "2023-09-27 12:00:00",
          "2023-09-27 12:15:00",
          "2023-09-27 12:30:00",
          "2023-09-27 12:45:00",
          "2023-09-27 13:00:00",
          "2023-09-27 13:15:00",
          "2023-09-27 13:30:00",
          "2023-09-27 13:45:00",
          "2023-09-27 14:00:00",
          "2023-09-27 14:15:00",
          "2023-09-27 14:30:00",
          "2023-09-27 14:45:00",
          "2023-09-27 15:00:00",
          "2023-09-27 15:15:00",
          "2023-09-28 09:15:00",
          "2023-09-28 09:30:00",
          "2023-09-28 09:45:00",
          "2023-09-28 10:00:00",
          "2023-09-28 10:15:00",
          "2023-09-28 10:30:00",
          "2023-09-28 10:45:00",
          "2023-09-28 11:00:00",
          "2023-09-28 11:15:00",
          "2023-09-28 11:30:00",
          "2023-09-28 11:45:00",
          "2023-09-28 12:00:00",
          "2023-09-28 12:15:00",
          "2023-09-28 12:30:00",
          "2023-09-28 12:45:00",
          "2023-09-28 13:00:00",
          "2023-09-28 13:15:00",
          "2023-09-28 13:30:00",
          "2023-09-28 13:45:00",
          "2023-09-28 14:00:00",
          "2023-09-28 14:15:00",
          "2023-09-28 14:30:00",
          "2023-09-28 14:45:00",
          "2023-09-28 15:00:00",
          "2023-09-28 15:15:00"
         ],
         "y": [
          0,
          1,
          2,
          3,
          4,
          5,
          6,
          7,
          8,
          9,
          10
         ],
         "z": [
          [
           0.033577714,
           0.026423767,
           0.013734825,
           0.011632912,
           0.011259414,
           0.017888993,
           0.022267278,
           0.023481723,
           0.025863498,
           0.03976959,
           0.04466969
          ],
          [
           0.016983777,
           0.015322082,
           0.010865651,
           0.012682188,
           0.015560862,
           0.022426553,
           0.02498382,
           0.022494722,
           0.020542003,
           0.02895983,
           0.02447389
          ],
          [
           0.010809645,
           0.009670086,
           0.009092893,
           0.012144912,
           0.015741318,
           0.022303697,
           0.023832105,
           0.020665295,
           0.017571218,
           0.022252716,
           0.017354578
          ],
          [
           0.01000753,
           0.00791987,
           0.008742027,
           0.011888139,
           0.015175603,
           0.021475252,
           0.023040574,
           0.020129822,
           0.016856551,
           0.018861137,
           0.016229555
          ],
          [
           0.009154335,
           0.0065941066,
           0.00786788,
           0.011048812,
           0.014042746,
           0.020264253,
           0.021699741,
           0.018909037,
           0.015288405,
           0.015381388,
           0.01476717
          ],
          [
           0.007974371,
           0.005592279,
           0.00705475,
           0.010408714,
           0.013293646,
           0.019739598,
           0.021483578,
           0.01851967,
           0.014296621,
           0.012947544,
           0.013349712
          ],
          [
           0.007002659,
           0.004972987,
           0.006379597,
           0.009793341,
           0.01252608,
           0.019406434,
           0.022096325,
           0.019064307,
           0.014456399,
           0.012248822,
           0.013025545
          ],
          [
           0.005291581,
           0.003928818,
           0.005441092,
           0.009130847,
           0.011956576,
           0.019060418,
           0.02175719,
           0.018423483,
           0.013255857,
           0.010402508,
           0.011043601
          ],
          [
           0.0045038164,
           0.0035844818,
           0.0051146336,
           0.008930847,
           0.011766456,
           0.018937655,
           0.021650791,
           0.018171027,
           0.0126943365,
           0.00947009,
           0.009910293
          ],
          [
           0.0035090595,
           0.0029537305,
           0.0044987574,
           0.0084181875,
           0.011275925,
           0.01853099,
           0.021148205,
           0.017581493,
           0.011908062,
           0.008500658,
           0.008757651
          ],
          [
           0.0030912831,
           0.0027313456,
           0.0042453,
           0.008185409,
           0.011002608,
           0.018422052,
           0.021340095,
           0.017756581,
           0.012003981,
           0.008472338,
           0.008598655
          ],
          [
           0.0025724173,
           0.0023444593,
           0.0038754717,
           0.007873006,
           0.010678835,
           0.01837891,
           0.02178865,
           0.01812651,
           0.012240827,
           0.008447833,
           0.008460566
          ],
          [
           0.0006416887,
           0.000882715,
           0.002648674,
           0.0069550313,
           0.010008715,
           0.01755672,
           0.01974687,
           0.01579722,
           0.009532578,
           0.0055707693,
           0.005246438
          ],
          [
           0.0007370636,
           0.000933446,
           0.0026611835,
           0.0069020204,
           0.009883206,
           0.017380595,
           0.019510135,
           0.01563757,
           0.009438969,
           0.0054585114,
           0.005143836
          ],
          [
           0.0005376041,
           0.0007821694,
           0.0024868548,
           0.006733276,
           0.009699076,
           0.017187953,
           0.01919116,
           0.015323855,
           0.009104751,
           0.005079247,
           0.0047568902
          ],
          [
           0.0014388561,
           0.0016166642,
           0.003235519,
           0.0074151307,
           0.010317624,
           0.017562073,
           0.019342884,
           0.015520684,
           0.009345196,
           0.0053577796,
           0.005090311
          ],
          [
           0.0016037077,
           0.001723595,
           0.0032712445,
           0.0073949285,
           0.010236852,
           0.017608814,
           0.019752115,
           0.015976846,
           0.009852111,
           0.0058446974,
           0.0056494176
          ],
          [
           0.001556024,
           0.0017212555,
           0.003224194,
           0.007357385,
           0.010217056,
           0.017357387,
           0.018917471,
           0.015149668,
           0.009016462,
           0.0050840974,
           0.0049209893
          ],
          [
           0.0029627085,
           0.003079407,
           0.0044466294,
           0.008458484,
           0.011223406,
           0.018110134,
           0.019746602,
           0.016077831,
           0.0100534335,
           0.006318249,
           0.0060883462
          ],
          [
           0.0028609633,
           0.0030758604,
           0.004480213,
           0.008543149,
           0.011358827,
           0.018266529,
           0.019924015,
           0.016190939,
           0.01010298,
           0.0063916817,
           0.006044045
          ],
          [
           0.0026786998,
           0.002919823,
           0.0043561123,
           0.008440986,
           0.011274159,
           0.018285267,
           0.020129971,
           0.016367383,
           0.010256477,
           0.006504193,
           0.006096475
          ],
          [
           0.0012067482,
           0.0016275197,
           0.0032821298,
           0.007572945,
           0.010572642,
           0.017812632,
           0.019510865,
           0.015535347,
           0.009187855,
           0.005175218,
           0.0046531484
          ],
          [
           0.0012590885,
           0.0015792176,
           0.0031876862,
           0.007400047,
           0.0103209205,
           0.017635278,
           0.019564167,
           0.015689112,
           0.009451799,
           0.005431138,
           0.004996009
          ],
          [
           0.0016041249,
           0.0017819405,
           0.0032869726,
           0.0073868968,
           0.010181602,
           0.017755069,
           0.020487469,
           0.016724408,
           0.010606594,
           0.006541364,
           0.006210774
          ],
          [
           0.0014795586,
           0.0017119572,
           0.0031852871,
           0.0072800294,
           0.010046218,
           0.017885167,
           0.021249563,
           0.017497845,
           0.011381961,
           0.0073293075,
           0.006967202
          ],
          [
           0.015159216,
           0.013730332,
           0.013259552,
           0.015457138,
           0.016586147,
           0.023332719,
           0.030949607,
           0.029068142,
           0.025040068,
           0.022934802,
           0.023019135
          ],
          [
           0.014205262,
           0.013482243,
           0.013182569,
           0.015831258,
           0.01735767,
           0.024646323,
           0.033218063,
           0.030733064,
           0.026045147,
           0.023937248,
           0.023351982
          ],
          [
           0.012036465,
           0.011928022,
           0.012178913,
           0.015331466,
           0.017360985,
           0.024834417,
           0.03298076,
           0.02991169,
           0.024648491,
           0.022432074,
           0.021186203
          ],
          [
           0.01058574,
           0.010578521,
           0.011246283,
           0.014606833,
           0.016875513,
           0.024497442,
           0.032406524,
           0.029126465,
           0.023723423,
           0.021408267,
           0.01995916
          ],
          [
           0.010727033,
           0.010400299,
           0.011157364,
           0.01442131,
           0.016616516,
           0.024427693,
           0.0329348,
           0.029765777,
           0.024535876,
           0.022038393,
           0.020788863
          ],
          [
           0.010104284,
           0.009748232,
           0.010660458,
           0.014009006,
           0.016266957,
           0.02425044,
           0.03291826,
           0.029672407,
           0.024361707,
           0.021608002,
           0.020438395
          ],
          [
           0.009774081,
           0.009426184,
           0.0104957335,
           0.013923243,
           0.016237736,
           0.024449583,
           0.033501137,
           0.03016729,
           0.024779804,
           0.021830842,
           0.020750538
          ],
          [
           0.009052865,
           0.008771569,
           0.009993229,
           0.013508141,
           0.015889883,
           0.024317898,
           0.033569746,
           0.03016458,
           0.024714999,
           0.021662235,
           0.020584404
          ],
          [
           0.008274645,
           0.00796137,
           0.009234868,
           0.012779802,
           0.015164979,
           0.023820236,
           0.033326697,
           0.029914603,
           0.024433035,
           0.02115307,
           0.0201433
          ],
          [
           0.007461205,
           0.0071556494,
           0.008475196,
           0.012058001,
           0.014452778,
           0.023329254,
           0.0330047,
           0.029579218,
           0.02405684,
           0.02059485,
           0.019698977
          ],
          [
           0.0073226243,
           0.0069750026,
           0.008293834,
           0.011876296,
           0.0142483525,
           0.023202412,
           0.03299346,
           0.029564634,
           0.024015613,
           0.020418674,
           0.019586623
          ],
          [
           0.007121846,
           0.0068760887,
           0.008332647,
           0.012023319,
           0.014487125,
           0.023448654,
           0.033074927,
           0.029511616,
           0.023830585,
           0.020188816,
           0.019320942
          ],
          [
           0.0059220567,
           0.0057299137,
           0.007300418,
           0.011087604,
           0.01364496,
           0.02257182,
           0.03151045,
           0.027889904,
           0.022142135,
           0.018401518,
           0.017629825
          ],
          [
           0.0074123517,
           0.0069847256,
           0.00837316,
           0.011941485,
           0.014309414,
           0.02314907,
           0.032523267,
           0.029113486,
           0.023619056,
           0.020085849,
           0.019413374
          ],
          [
           0.0072919875,
           0.0067903027,
           0.00811103,
           0.011661023,
           0.013996601,
           0.022892259,
           0.032330777,
           0.028927024,
           0.02341333,
           0.01972273,
           0.019118547
          ],
          [
           0.007296607,
           0.006856926,
           0.008211076,
           0.011806697,
           0.014204744,
           0.022852194,
           0.0316163,
           0.02817449,
           0.022625312,
           0.019033186,
           0.018519834
          ],
          [
           0.006744124,
           0.0063116923,
           0.007711347,
           0.011368141,
           0.013829082,
           0.022359699,
           0.030526087,
           0.027020067,
           0.021391183,
           0.017693862,
           0.01718761
          ],
          [
           0.0064352453,
           0.006048657,
           0.007453896,
           0.011138372,
           0.013640393,
           0.021931037,
           0.029323611,
           0.02581267,
           0.020165905,
           0.016526304,
           0.016026825
          ],
          [
           0.006672457,
           0.006251909,
           0.007594265,
           0.011234842,
           0.013709135,
           0.021776158,
           0.028695092,
           0.025242634,
           0.019648053,
           0.01606606,
           0.015621707
          ],
          [
           0.0075366125,
           0.007134676,
           0.008388884,
           0.011976376,
           0.014443375,
           0.021921858,
           0.027778894,
           0.024406243,
           0.018899322,
           0.015650414,
           0.015211768
          ],
          [
           0.008376092,
           0.007866457,
           0.008831181,
           0.012194142,
           0.014512487,
           0.021532424,
           0.026718765,
           0.023662172,
           0.018490918,
           0.015744843,
           0.015465282
          ],
          [
           0.009264156,
           0.008837551,
           0.009723321,
           0.013071321,
           0.015406035,
           0.022090591,
           0.026818454,
           0.023763243,
           0.01860255,
           0.016132906,
           0.015715614
          ],
          [
           0.008234963,
           0.008032702,
           0.009066902,
           0.012598515,
           0.015106283,
           0.021825172,
           0.026099376,
           0.022850297,
           0.017484374,
           0.014955141,
           0.014321744
          ],
          [
           0.008814439,
           0.008461006,
           0.009349868,
           0.012719054,
           0.015052412,
           0.022146396,
           0.027642846,
           0.024538472,
           0.0193329,
           0.016727999,
           0.016024001
          ],
          [
           0.008433141,
           0.008215658,
           0.009096943,
           0.012506928,
           0.0148399845,
           0.022294551,
           0.028540023,
           0.02538962,
           0.02011878,
           0.017460622,
           0.016605407
          ],
          [
           0.014660444,
           0.013787776,
           0.013672225,
           0.016189378,
           0.017772943,
           0.02427606,
           0.031436954,
           0.029223923,
           0.02496297,
           0.023456015,
           0.022748254
          ],
          [
           0.015611678,
           0.014756948,
           0.014589936,
           0.017151706,
           0.018781543,
           0.025434867,
           0.033361778,
           0.030980654,
           0.026560165,
           0.025061205,
           0.024224132
          ],
          [
           0.013756454,
           0.013269618,
           0.013403617,
           0.016273048,
           0.018204503,
           0.025068838,
           0.032661,
           0.02995288,
           0.025206145,
           0.023646168,
           0.022524774
          ],
          [
           0.013079599,
           0.012561388,
           0.012867965,
           0.015802216,
           0.017811965,
           0.024822813,
           0.032431714,
           0.029651321,
           0.02487892,
           0.02323015,
           0.022073224
          ],
          [
           0.012758449,
           0.012129761,
           0.012526326,
           0.015482906,
           0.017535008,
           0.024368133,
           0.031336855,
           0.028551374,
           0.023800485,
           0.022083916,
           0.021073908
          ],
          [
           0.012547582,
           0.011784103,
           0.01220303,
           0.015141655,
           0.01719372,
           0.0239347,
           0.03050045,
           0.027754229,
           0.02306085,
           0.021302126,
           0.020509042
          ],
          [
           0.012432963,
           0.011576422,
           0.011978183,
           0.01488132,
           0.01690109,
           0.02370207,
           0.030292999,
           0.027597953,
           0.022965007,
           0.021160513,
           0.020527072
          ],
          [
           0.0133049935,
           0.012320273,
           0.012649402,
           0.0154875,
           0.017449472,
           0.024063714,
           0.03054268,
           0.027881444,
           0.023288704,
           0.021501549,
           0.020907938
          ],
          [
           0.012480691,
           0.0115852915,
           0.011921015,
           0.014803477,
           0.016821641,
           0.023359299,
           0.029243715,
           0.026592243,
           0.022000112,
           0.020288952,
           0.019801214
          ],
          [
           0.012523904,
           0.011561144,
           0.011815645,
           0.014630087,
           0.016592812,
           0.023123696,
           0.028973565,
           0.026413433,
           0.02191881,
           0.02027288,
           0.019889846
          ],
          [
           0.012179032,
           0.011303186,
           0.011519216,
           0.014342811,
           0.016318,
           0.022823296,
           0.028444126,
           0.025911298,
           0.021432787,
           0.019912489,
           0.019515648
          ],
          [
           0.01262667,
           0.011704709,
           0.011768673,
           0.0144724585,
           0.016346384,
           0.022854332,
           0.028697383,
           0.02631605,
           0.022004068,
           0.020722046,
           0.02034586
          ],
          [
           0.012449361,
           0.011572048,
           0.011613473,
           0.014332853,
           0.016222194,
           0.022732697,
           0.02845212,
           0.026061986,
           0.021741398,
           0.020531915,
           0.020119384
          ],
          [
           0.0125712305,
           0.01168789,
           0.011649229,
           0.014316894,
           0.016174458,
           0.022589304,
           0.02811829,
           0.02580452,
           0.021569863,
           0.020553522,
           0.02013199
          ],
          [
           0.014330633,
           0.013254389,
           0.013112098,
           0.015659485,
           0.017414361,
           0.023709148,
           0.029707685,
           0.027438596,
           0.02328062,
           0.022338077,
           0.021890588
          ],
          [
           0.014691848,
           0.013546895,
           0.013343807,
           0.015830077,
           0.017541625,
           0.023909524,
           0.030251384,
           0.028033432,
           0.023957655,
           0.023147501,
           0.022692963
          ],
          [
           0.012636349,
           0.011744037,
           0.011904534,
           0.014723152,
           0.016724296,
           0.0233882,
           0.029387359,
           0.026803888,
           0.02234865,
           0.021192305,
           0.020606935
          ],
          [
           0.011865199,
           0.010852631,
           0.011163481,
           0.0140335485,
           0.016067222,
           0.02296877,
           0.029118001,
           0.026468731,
           0.021964297,
           0.020487927,
           0.020036496
          ],
          [
           0.0117779225,
           0.010718465,
           0.010989539,
           0.013797753,
           0.01576513,
           0.022799402,
           0.029262044,
           0.02671652,
           0.022321038,
           0.020862892,
           0.020554774
          ],
          [
           0.011287428,
           0.010277782,
           0.0105183385,
           0.013327498,
           0.015298806,
           0.022284258,
           0.028403178,
           0.025914125,
           0.021569066,
           0.02023279,
           0.020025633
          ],
          [
           0.012329012,
           0.011161853,
           0.011362486,
           0.014112748,
           0.01603131,
           0.022781465,
           0.028739683,
           0.026257165,
           0.02192276,
           0.020513706,
           0.020359427
          ],
          [
           0.011309445,
           0.0103082955,
           0.010583155,
           0.013448346,
           0.015477464,
           0.022225812,
           0.02771844,
           0.02515348,
           0.020707734,
           0.019290783,
           0.019127004
          ],
          [
           0.011279911,
           0.01027295,
           0.010685157,
           0.013651736,
           0.015763048,
           0.02242262,
           0.027612373,
           0.024889786,
           0.020267546,
           0.018545158,
           0.018384352
          ],
          [
           0.011104673,
           0.010092378,
           0.010587692,
           0.013602279,
           0.015741192,
           0.022464778,
           0.027732212,
           0.024939977,
           0.020229056,
           0.018267937,
           0.018129483
          ],
          [
           0.01068946,
           0.009749778,
           0.010319512,
           0.013393182,
           0.015562542,
           0.02244965,
           0.027974248,
           0.025124636,
           0.020331353,
           0.018204734,
           0.018047884
          ],
          [
           0.022682264,
           0.020335175,
           0.019227281,
           0.02067092,
           0.021467641,
           0.026907686,
           0.034877244,
           0.03366252,
           0.030714616,
           0.030554622,
           0.030778721
          ],
          [
           0.02412789,
           0.022100441,
           0.020772379,
           0.022243083,
           0.023108236,
           0.02855194,
           0.037315436,
           0.035995636,
           0.03295995,
           0.03344421,
           0.033210926
          ],
          [
           0.025123708,
           0.023415197,
           0.022149853,
           0.023728646,
           0.024764422,
           0.029991522,
           0.03891582,
           0.03741104,
           0.034228515,
           0.03512004,
           0.03429132
          ],
          [
           0.023218237,
           0.021669038,
           0.020590615,
           0.022313047,
           0.023553252,
           0.028800711,
           0.037000887,
           0.035411313,
           0.03219532,
           0.033254713,
           0.032252356
          ],
          [
           0.026995532,
           0.025043592,
           0.023743857,
           0.025143094,
           0.026173998,
           0.03069682,
           0.038954187,
           0.03764648,
           0.03481459,
           0.036314607,
           0.035447754
          ],
          [
           0.026558422,
           0.024606332,
           0.023513991,
           0.025060512,
           0.026259638,
           0.03074946,
           0.038656786,
           0.03716276,
           0.03418325,
           0.035506092,
           0.034628652
          ],
          [
           0.023619376,
           0.021955252,
           0.020993643,
           0.022671744,
           0.024006456,
           0.028974093,
           0.036840454,
           0.03536434,
           0.032390192,
           0.033821333,
           0.03283801
          ],
          [
           0.021015927,
           0.019433841,
           0.01865217,
           0.020493638,
           0.021957416,
           0.027267903,
           0.034637243,
           0.033073902,
           0.030001093,
           0.0311945,
           0.030304532
          ],
          [
           0.020398404,
           0.018398412,
           0.017542593,
           0.019225828,
           0.020525068,
           0.026192337,
           0.03380054,
           0.032431133,
           0.029615276,
           0.030623585,
           0.030302666
          ],
          [
           0.021054648,
           0.018841654,
           0.017961677,
           0.019656252,
           0.02093739,
           0.026414342,
           0.033561543,
           0.032091096,
           0.02916532,
           0.02993448,
           0.029753432
          ],
          [
           0.022383377,
           0.019735988,
           0.018618636,
           0.020047791,
           0.02106532,
           0.026680976,
           0.034637325,
           0.033379152,
           0.03068129,
           0.031254217,
           0.03140603
          ],
          [
           0.021297995,
           0.018718913,
           0.017744783,
           0.01934303,
           0.020493079,
           0.026311904,
           0.034059938,
           0.03259004,
           0.029658616,
           0.02991122,
           0.030281771
          ],
          [
           0.020606335,
           0.018035382,
           0.017122537,
           0.018786032,
           0.020008255,
           0.025596507,
           0.032403335,
           0.03088944,
           0.027896836,
           0.028084021,
           0.028614748
          ],
          [
           0.023052685,
           0.020178828,
           0.019044377,
           0.020465773,
           0.021490864,
           0.026654325,
           0.033550065,
           0.032234896,
           0.029471379,
           0.029844493,
           0.030534573
          ],
          [
           0.023556754,
           0.020663701,
           0.019583695,
           0.021080472,
           0.02217672,
           0.027138494,
           0.03371562,
           0.032254018,
           0.029331304,
           0.029486496,
           0.030236796
          ],
          [
           0.024049766,
           0.021147225,
           0.020174868,
           0.021773353,
           0.02297264,
           0.027553484,
           0.033407744,
           0.031768728,
           0.028648835,
           0.028542865,
           0.029286176
          ],
          [
           0.02159455,
           0.01881174,
           0.017870698,
           0.019525584,
           0.020807303,
           0.025589347,
           0.030743085,
           0.029185038,
           0.0261687,
           0.02628009,
           0.027259722
          ],
          [
           0.020140491,
           0.017289221,
           0.016308233,
           0.017956067,
           0.019236825,
           0.024004418,
           0.02828173,
           0.026818663,
           0.023905545,
           0.024048813,
           0.025280938
          ],
          [
           0.021669965,
           0.018392004,
           0.017065383,
           0.018389076,
           0.019365307,
           0.024149396,
           0.029014967,
           0.027880158,
           0.02533561,
           0.025584146,
           0.027224984
          ],
          [
           0.023002151,
           0.01978127,
           0.018296428,
           0.019567683,
           0.02049017,
           0.024998788,
           0.029759713,
           0.028641514,
           0.026096731,
           0.02654495,
           0.028047733
          ],
          [
           0.022616528,
           0.019346982,
           0.017760161,
           0.018977575,
           0.01985858,
           0.024517488,
           0.029362537,
           0.02831196,
           0.02585781,
           0.026408501,
           0.028014913
          ],
          [
           0.021933224,
           0.018629376,
           0.017069928,
           0.018335078,
           0.01925975,
           0.024052206,
           0.028750531,
           0.027642746,
           0.025145546,
           0.025631107,
           0.027359128
          ],
          [
           0.021801785,
           0.01831109,
           0.01682264,
           0.018136963,
           0.019092634,
           0.023876239,
           0.028280154,
           0.027045488,
           0.02442674,
           0.024541847,
           0.026428353
          ],
          [
           0.021233149,
           0.017453361,
           0.01575528,
           0.016799122,
           0.017546527,
           0.022660516,
           0.027417716,
           0.026580147,
           0.024469763,
           0.025119036,
           0.027478524
          ],
          [
           0.022287544,
           0.018424578,
           0.016641729,
           0.017654486,
           0.018365923,
           0.023205787,
           0.02769921,
           0.026850112,
           0.02470925,
           0.025255285,
           0.027690921
          ],
          [
           0.06464371,
           0.05453915,
           0.04590659,
           0.04023359,
           0.035305843,
           0.03570941,
           0.050385967,
           0.056572594,
           0.06238889,
           0.07040426,
           0.07598258
          ],
          [
           0.07645015,
           0.06729432,
           0.056825668,
           0.050662994,
           0.045443647,
           0.04425567,
           0.06171298,
           0.0682106,
           0.074229605,
           0.085417606,
           0.08951028
          ],
          [
           0.08020701,
           0.072273985,
           0.06155242,
           0.055602603,
           0.050805103,
           0.049488068,
           0.06924734,
           0.0752748,
           0.08092709,
           0.093859985,
           0.09568741
          ],
          [
           0.079018705,
           0.07182361,
           0.061617643,
           0.055988587,
           0.05171532,
           0.051095203,
           0.07247567,
           0.07813525,
           0.0836855,
           0.09777809,
           0.0978739
          ],
          [
           0.07440288,
           0.06652927,
           0.057325006,
           0.052051272,
           0.04833132,
           0.048807144,
           0.069804005,
           0.07509002,
           0.08076948,
           0.09495513,
           0.09563591
          ],
          [
           0.07676949,
           0.068330474,
           0.059646852,
           0.05431804,
           0.050781745,
           0.05010671,
           0.06867808,
           0.07396746,
           0.07999725,
           0.09481481,
           0.0953632
          ],
          [
           0.0739333,
           0.06414592,
           0.054735217,
           0.048379138,
           0.044116847,
           0.044061597,
           0.06261445,
           0.06949194,
           0.077470705,
           0.0937986,
           0.095626384
          ],
          [
           0.0765473,
           0.06483404,
           0.054163106,
           0.046513394,
           0.04117597,
           0.041588463,
           0.061792802,
           0.070251524,
           0.080111146,
           0.09749946,
           0.10156432
          ],
          [
           0.08617324,
           0.072783716,
           0.060608625,
           0.051405374,
           0.04475753,
           0.04482495,
           0.06795278,
           0.07793652,
           0.089687005,
           0.109084815,
           0.11388122
          ],
          [
           0.091643326,
           0.07800053,
           0.06470497,
           0.05472961,
           0.04744478,
           0.04773167,
           0.074663974,
           0.08554981,
           0.09821261,
           0.11910583,
           0.12402989
          ],
          [
           0.09401846,
           0.08089954,
           0.06761785,
           0.05782047,
           0.050726518,
           0.051785536,
           0.08221985,
           0.09278266,
           0.105110064,
           0.12653428,
           0.13080269
          ],
          [
           0.09369703,
           0.08126274,
           0.068229064,
           0.058622442,
           0.051784936,
           0.053490337,
           0.085878626,
           0.09627831,
           0.10853222,
           0.13105401,
           0.13399045
          ],
          [
           0.096445754,
           0.083093435,
           0.069783516,
           0.05946002,
           0.052108273,
           0.054578394,
           0.090166844,
           0.101394415,
           0.11485143,
           0.13879028,
           0.14180323
          ],
          [
           0.09840952,
           0.08410895,
           0.07043866,
           0.05953759,
           0.051890112,
           0.05351128,
           0.0866866,
           0.09849135,
           0.11300534,
           0.13872647,
           0.14183009
          ],
          [
           0.1038114,
           0.086592704,
           0.071358845,
           0.05847538,
           0.049371433,
           0.050460402,
           0.083533555,
           0.09758577,
           0.1150834,
           0.14343354,
           0.14878754
          ],
          [
           0.10902149,
           0.089555174,
           0.072778285,
           0.058291893,
           0.04794105,
           0.04908257,
           0.083683416,
           0.09947034,
           0.11914822,
           0.14917517,
           0.15653984
          ],
          [
           0.11296634,
           0.091804475,
           0.073239505,
           0.057140425,
           0.045547493,
           0.047108896,
           0.083993465,
           0.10176766,
           0.12387335,
           0.15677944,
           0.16592073
          ],
          [
           0.124195606,
           0.100544125,
           0.080199175,
           0.062396266,
           0.04954025,
           0.0488075,
           0.08395062,
           0.10334892,
           0.12762594,
           0.16298951,
           0.1740352
          ],
          [
           0.13301387,
           0.10675581,
           0.083717115,
           0.06306913,
           0.047885682,
           0.048175745,
           0.08995512,
           0.112786666,
           0.14115627,
           0.18033054,
           0.19326337
          ],
          [
           0.13962723,
           0.112164125,
           0.087280124,
           0.065289475,
           0.04910109,
           0.047574885,
           0.086912386,
           0.11113175,
           0.14132014,
           0.18364522,
           0.1967492
          ],
          [
           0.1472829,
           0.11812564,
           0.09189992,
           0.068723224,
           0.051724605,
           0.048529718,
           0.08632832,
           0.11158326,
           0.14321473,
           0.1872125,
           0.20134215
          ],
          [
           0.1595403,
           0.12658465,
           0.09702432,
           0.07012421,
           0.050012734,
           0.046139784,
           0.08796233,
           0.11766508,
           0.15458938,
           0.2028477,
           0.21898405
          ],
          [
           0.17589703,
           0.13703394,
           0.102509305,
           0.07030487,
           0.045611583,
           0.040499423,
           0.08625298,
           0.122403756,
           0.16708356,
           0.22130883,
           0.2421237
          ],
          [
           0.18710732,
           0.14592819,
           0.10716814,
           0.07191137,
           0.044274975,
           0.03454235,
           0.074977815,
           0.11468612,
           0.16337064,
           0.22182325,
           0.24236375
          ]
         ]
        }
       ],
       "layout": {
        "scene": {
         "xaxis": {
          "title": {
           "text": "Expiration Date"
          }
         },
         "yaxis": {
          "title": {
           "text": "Strike Price"
          }
         },
         "zaxis": {
          "title": {
           "text": "Implied Volatility"
          }
         }
        },
        "template": {
         "data": {
          "bar": [
           {
            "error_x": {
             "color": "#2a3f5f"
            },
            "error_y": {
             "color": "#2a3f5f"
            },
            "marker": {
             "line": {
              "color": "#E5ECF6",
              "width": 0.5
             },
             "pattern": {
              "fillmode": "overlay",
              "size": 10,
              "solidity": 0.2
             }
            },
            "type": "bar"
           }
          ],
          "barpolar": [
           {
            "marker": {
             "line": {
              "color": "#E5ECF6",
              "width": 0.5
             },
             "pattern": {
              "fillmode": "overlay",
              "size": 10,
              "solidity": 0.2
             }
            },
            "type": "barpolar"
           }
          ],
          "carpet": [
           {
            "aaxis": {
             "endlinecolor": "#2a3f5f",
             "gridcolor": "white",
             "linecolor": "white",
             "minorgridcolor": "white",
             "startlinecolor": "#2a3f5f"
            },
            "baxis": {
             "endlinecolor": "#2a3f5f",
             "gridcolor": "white",
             "linecolor": "white",
             "minorgridcolor": "white",
             "startlinecolor": "#2a3f5f"
            },
            "type": "carpet"
           }
          ],
          "choropleth": [
           {
            "colorbar": {
             "outlinewidth": 0,
             "ticks": ""
            },
            "type": "choropleth"
           }
          ],
          "contour": [
           {
            "colorbar": {
             "outlinewidth": 0,
             "ticks": ""
            },
            "colorscale": [
             [
              0,
              "#0d0887"
             ],
             [
              0.1111111111111111,
              "#46039f"
             ],
             [
              0.2222222222222222,
              "#7201a8"
             ],
             [
              0.3333333333333333,
              "#9c179e"
             ],
             [
              0.4444444444444444,
              "#bd3786"
             ],
             [
              0.5555555555555556,
              "#d8576b"
             ],
             [
              0.6666666666666666,
              "#ed7953"
             ],
             [
              0.7777777777777778,
              "#fb9f3a"
             ],
             [
              0.8888888888888888,
              "#fdca26"
             ],
             [
              1,
              "#f0f921"
             ]
            ],
            "type": "contour"
           }
          ],
          "contourcarpet": [
           {
            "colorbar": {
             "outlinewidth": 0,
             "ticks": ""
            },
            "type": "contourcarpet"
           }
          ],
          "heatmap": [
           {
            "colorbar": {
             "outlinewidth": 0,
             "ticks": ""
            },
            "colorscale": [
             [
              0,
              "#0d0887"
             ],
             [
              0.1111111111111111,
              "#46039f"
             ],
             [
              0.2222222222222222,
              "#7201a8"
             ],
             [
              0.3333333333333333,
              "#9c179e"
             ],
             [
              0.4444444444444444,
              "#bd3786"
             ],
             [
              0.5555555555555556,
              "#d8576b"
             ],
             [
              0.6666666666666666,
              "#ed7953"
             ],
             [
              0.7777777777777778,
              "#fb9f3a"
             ],
             [
              0.8888888888888888,
              "#fdca26"
             ],
             [
              1,
              "#f0f921"
             ]
            ],
            "type": "heatmap"
           }
          ],
          "heatmapgl": [
           {
            "colorbar": {
             "outlinewidth": 0,
             "ticks": ""
            },
            "colorscale": [
             [
              0,
              "#0d0887"
             ],
             [
              0.1111111111111111,
              "#46039f"
             ],
             [
              0.2222222222222222,
              "#7201a8"
             ],
             [
              0.3333333333333333,
              "#9c179e"
             ],
             [
              0.4444444444444444,
              "#bd3786"
             ],
             [
              0.5555555555555556,
              "#d8576b"
             ],
             [
              0.6666666666666666,
              "#ed7953"
             ],
             [
              0.7777777777777778,
              "#fb9f3a"
             ],
             [
              0.8888888888888888,
              "#fdca26"
             ],
             [
              1,
              "#f0f921"
             ]
            ],
            "type": "heatmapgl"
           }
          ],
          "histogram": [
           {
            "marker": {
             "pattern": {
              "fillmode": "overlay",
              "size": 10,
              "solidity": 0.2
             }
            },
            "type": "histogram"
           }
          ],
          "histogram2d": [
           {
            "colorbar": {
             "outlinewidth": 0,
             "ticks": ""
            },
            "colorscale": [
             [
              0,
              "#0d0887"
             ],
             [
              0.1111111111111111,
              "#46039f"
             ],
             [
              0.2222222222222222,
              "#7201a8"
             ],
             [
              0.3333333333333333,
              "#9c179e"
             ],
             [
              0.4444444444444444,
              "#bd3786"
             ],
             [
              0.5555555555555556,
              "#d8576b"
             ],
             [
              0.6666666666666666,
              "#ed7953"
             ],
             [
              0.7777777777777778,
              "#fb9f3a"
             ],
             [
              0.8888888888888888,
              "#fdca26"
             ],
             [
              1,
              "#f0f921"
             ]
            ],
            "type": "histogram2d"
           }
          ],
          "histogram2dcontour": [
           {
            "colorbar": {
             "outlinewidth": 0,
             "ticks": ""
            },
            "colorscale": [
             [
              0,
              "#0d0887"
             ],
             [
              0.1111111111111111,
              "#46039f"
             ],
             [
              0.2222222222222222,
              "#7201a8"
             ],
             [
              0.3333333333333333,
              "#9c179e"
             ],
             [
              0.4444444444444444,
              "#bd3786"
             ],
             [
              0.5555555555555556,
              "#d8576b"
             ],
             [
              0.6666666666666666,
              "#ed7953"
             ],
             [
              0.7777777777777778,
              "#fb9f3a"
             ],
             [
              0.8888888888888888,
              "#fdca26"
             ],
             [
              1,
              "#f0f921"
             ]
            ],
            "type": "histogram2dcontour"
           }
          ],
          "mesh3d": [
           {
            "colorbar": {
             "outlinewidth": 0,
             "ticks": ""
            },
            "type": "mesh3d"
           }
          ],
          "parcoords": [
           {
            "line": {
             "colorbar": {
              "outlinewidth": 0,
              "ticks": ""
             }
            },
            "type": "parcoords"
           }
          ],
          "pie": [
           {
            "automargin": true,
            "type": "pie"
           }
          ],
          "scatter": [
           {
            "fillpattern": {
             "fillmode": "overlay",
             "size": 10,
             "solidity": 0.2
            },
            "type": "scatter"
           }
          ],
          "scatter3d": [
           {
            "line": {
             "colorbar": {
              "outlinewidth": 0,
              "ticks": ""
             }
            },
            "marker": {
             "colorbar": {
              "outlinewidth": 0,
              "ticks": ""
             }
            },
            "type": "scatter3d"
           }
          ],
          "scattercarpet": [
           {
            "marker": {
             "colorbar": {
              "outlinewidth": 0,
              "ticks": ""
             }
            },
            "type": "scattercarpet"
           }
          ],
          "scattergeo": [
           {
            "marker": {
             "colorbar": {
              "outlinewidth": 0,
              "ticks": ""
             }
            },
            "type": "scattergeo"
           }
          ],
          "scattergl": [
           {
            "marker": {
             "colorbar": {
              "outlinewidth": 0,
              "ticks": ""
             }
            },
            "type": "scattergl"
           }
          ],
          "scattermapbox": [
           {
            "marker": {
             "colorbar": {
              "outlinewidth": 0,
              "ticks": ""
             }
            },
            "type": "scattermapbox"
           }
          ],
          "scatterpolar": [
           {
            "marker": {
             "colorbar": {
              "outlinewidth": 0,
              "ticks": ""
             }
            },
            "type": "scatterpolar"
           }
          ],
          "scatterpolargl": [
           {
            "marker": {
             "colorbar": {
              "outlinewidth": 0,
              "ticks": ""
             }
            },
            "type": "scatterpolargl"
           }
          ],
          "scatterternary": [
           {
            "marker": {
             "colorbar": {
              "outlinewidth": 0,
              "ticks": ""
             }
            },
            "type": "scatterternary"
           }
          ],
          "surface": [
           {
            "colorbar": {
             "outlinewidth": 0,
             "ticks": ""
            },
            "colorscale": [
             [
              0,
              "#0d0887"
             ],
             [
              0.1111111111111111,
              "#46039f"
             ],
             [
              0.2222222222222222,
              "#7201a8"
             ],
             [
              0.3333333333333333,
              "#9c179e"
             ],
             [
              0.4444444444444444,
              "#bd3786"
             ],
             [
              0.5555555555555556,
              "#d8576b"
             ],
             [
              0.6666666666666666,
              "#ed7953"
             ],
             [
              0.7777777777777778,
              "#fb9f3a"
             ],
             [
              0.8888888888888888,
              "#fdca26"
             ],
             [
              1,
              "#f0f921"
             ]
            ],
            "type": "surface"
           }
          ],
          "table": [
           {
            "cells": {
             "fill": {
              "color": "#EBF0F8"
             },
             "line": {
              "color": "white"
             }
            },
            "header": {
             "fill": {
              "color": "#C8D4E3"
             },
             "line": {
              "color": "white"
             }
            },
            "type": "table"
           }
          ]
         },
         "layout": {
          "annotationdefaults": {
           "arrowcolor": "#2a3f5f",
           "arrowhead": 0,
           "arrowwidth": 1
          },
          "autotypenumbers": "strict",
          "coloraxis": {
           "colorbar": {
            "outlinewidth": 0,
            "ticks": ""
           }
          },
          "colorscale": {
           "diverging": [
            [
             0,
             "#8e0152"
            ],
            [
             0.1,
             "#c51b7d"
            ],
            [
             0.2,
             "#de77ae"
            ],
            [
             0.3,
             "#f1b6da"
            ],
            [
             0.4,
             "#fde0ef"
            ],
            [
             0.5,
             "#f7f7f7"
            ],
            [
             0.6,
             "#e6f5d0"
            ],
            [
             0.7,
             "#b8e186"
            ],
            [
             0.8,
             "#7fbc41"
            ],
            [
             0.9,
             "#4d9221"
            ],
            [
             1,
             "#276419"
            ]
           ],
           "sequential": [
            [
             0,
             "#0d0887"
            ],
            [
             0.1111111111111111,
             "#46039f"
            ],
            [
             0.2222222222222222,
             "#7201a8"
            ],
            [
             0.3333333333333333,
             "#9c179e"
            ],
            [
             0.4444444444444444,
             "#bd3786"
            ],
            [
             0.5555555555555556,
             "#d8576b"
            ],
            [
             0.6666666666666666,
             "#ed7953"
            ],
            [
             0.7777777777777778,
             "#fb9f3a"
            ],
            [
             0.8888888888888888,
             "#fdca26"
            ],
            [
             1,
             "#f0f921"
            ]
           ],
           "sequentialminus": [
            [
             0,
             "#0d0887"
            ],
            [
             0.1111111111111111,
             "#46039f"
            ],
            [
             0.2222222222222222,
             "#7201a8"
            ],
            [
             0.3333333333333333,
             "#9c179e"
            ],
            [
             0.4444444444444444,
             "#bd3786"
            ],
            [
             0.5555555555555556,
             "#d8576b"
            ],
            [
             0.6666666666666666,
             "#ed7953"
            ],
            [
             0.7777777777777778,
             "#fb9f3a"
            ],
            [
             0.8888888888888888,
             "#fdca26"
            ],
            [
             1,
             "#f0f921"
            ]
           ]
          },
          "colorway": [
           "#636efa",
           "#EF553B",
           "#00cc96",
           "#ab63fa",
           "#FFA15A",
           "#19d3f3",
           "#FF6692",
           "#B6E880",
           "#FF97FF",
           "#FECB52"
          ],
          "font": {
           "color": "#2a3f5f"
          },
          "geo": {
           "bgcolor": "white",
           "lakecolor": "white",
           "landcolor": "#E5ECF6",
           "showlakes": true,
           "showland": true,
           "subunitcolor": "white"
          },
          "hoverlabel": {
           "align": "left"
          },
          "hovermode": "closest",
          "mapbox": {
           "style": "light"
          },
          "paper_bgcolor": "white",
          "plot_bgcolor": "#E5ECF6",
          "polar": {
           "angularaxis": {
            "gridcolor": "white",
            "linecolor": "white",
            "ticks": ""
           },
           "bgcolor": "#E5ECF6",
           "radialaxis": {
            "gridcolor": "white",
            "linecolor": "white",
            "ticks": ""
           }
          },
          "scene": {
           "xaxis": {
            "backgroundcolor": "#E5ECF6",
            "gridcolor": "white",
            "gridwidth": 2,
            "linecolor": "white",
            "showbackground": true,
            "ticks": "",
            "zerolinecolor": "white"
           },
           "yaxis": {
            "backgroundcolor": "#E5ECF6",
            "gridcolor": "white",
            "gridwidth": 2,
            "linecolor": "white",
            "showbackground": true,
            "ticks": "",
            "zerolinecolor": "white"
           },
           "zaxis": {
            "backgroundcolor": "#E5ECF6",
            "gridcolor": "white",
            "gridwidth": 2,
            "linecolor": "white",
            "showbackground": true,
            "ticks": "",
            "zerolinecolor": "white"
           }
          },
          "shapedefaults": {
           "line": {
            "color": "#2a3f5f"
           }
          },
          "ternary": {
           "aaxis": {
            "gridcolor": "white",
            "linecolor": "white",
            "ticks": ""
           },
           "baxis": {
            "gridcolor": "white",
            "linecolor": "white",
            "ticks": ""
           },
           "bgcolor": "#E5ECF6",
           "caxis": {
            "gridcolor": "white",
            "linecolor": "white",
            "ticks": ""
           }
          },
          "title": {
           "x": 0.05
          },
          "xaxis": {
           "automargin": true,
           "gridcolor": "white",
           "linecolor": "white",
           "ticks": "",
           "title": {
            "standoff": 15
           },
           "zerolinecolor": "white",
           "zerolinewidth": 2
          },
          "yaxis": {
           "automargin": true,
           "gridcolor": "white",
           "linecolor": "white",
           "ticks": "",
           "title": {
            "standoff": 15
           },
           "zerolinecolor": "white",
           "zerolinewidth": 2
          }
         }
        },
        "title": {
         "text": "Implied Volatility Surface"
        }
       }
      },
      "text/html": [
       "<div>                            <div id=\"17b0e37c-ceaf-40a9-8f80-dfa627e3f58f\" class=\"plotly-graph-div\" style=\"height:525px; width:100%;\"></div>            <script type=\"text/javascript\">                require([\"plotly\"], function(Plotly) {                    window.PLOTLYENV=window.PLOTLYENV || {};                                    if (document.getElementById(\"17b0e37c-ceaf-40a9-8f80-dfa627e3f58f\")) {                    Plotly.newPlot(                        \"17b0e37c-ceaf-40a9-8f80-dfa627e3f58f\",                        [{\"x\":[\"2023-09-22 09:15:00\",\"2023-09-22 09:30:00\",\"2023-09-22 09:45:00\",\"2023-09-22 10:00:00\",\"2023-09-22 10:15:00\",\"2023-09-22 10:30:00\",\"2023-09-22 10:45:00\",\"2023-09-22 11:00:00\",\"2023-09-22 11:15:00\",\"2023-09-22 11:30:00\",\"2023-09-22 11:45:00\",\"2023-09-22 12:00:00\",\"2023-09-22 12:15:00\",\"2023-09-22 12:30:00\",\"2023-09-22 12:45:00\",\"2023-09-22 13:00:00\",\"2023-09-22 13:15:00\",\"2023-09-22 13:30:00\",\"2023-09-22 13:45:00\",\"2023-09-22 14:00:00\",\"2023-09-22 14:15:00\",\"2023-09-22 14:30:00\",\"2023-09-22 14:45:00\",\"2023-09-22 15:00:00\",\"2023-09-22 15:15:00\",\"2023-09-25 09:15:00\",\"2023-09-25 09:30:00\",\"2023-09-25 09:45:00\",\"2023-09-25 10:00:00\",\"2023-09-25 10:15:00\",\"2023-09-25 10:30:00\",\"2023-09-25 10:45:00\",\"2023-09-25 11:00:00\",\"2023-09-25 11:15:00\",\"2023-09-25 11:30:00\",\"2023-09-25 11:45:00\",\"2023-09-25 12:00:00\",\"2023-09-25 12:15:00\",\"2023-09-25 12:30:00\",\"2023-09-25 12:45:00\",\"2023-09-25 13:00:00\",\"2023-09-25 13:15:00\",\"2023-09-25 13:30:00\",\"2023-09-25 13:45:00\",\"2023-09-25 14:00:00\",\"2023-09-25 14:15:00\",\"2023-09-25 14:30:00\",\"2023-09-25 14:45:00\",\"2023-09-25 15:00:00\",\"2023-09-25 15:15:00\",\"2023-09-26 09:15:00\",\"2023-09-26 09:30:00\",\"2023-09-26 09:45:00\",\"2023-09-26 10:00:00\",\"2023-09-26 10:15:00\",\"2023-09-26 10:30:00\",\"2023-09-26 10:45:00\",\"2023-09-26 11:00:00\",\"2023-09-26 11:15:00\",\"2023-09-26 11:30:00\",\"2023-09-26 11:45:00\",\"2023-09-26 12:00:00\",\"2023-09-26 12:15:00\",\"2023-09-26 12:30:00\",\"2023-09-26 12:45:00\",\"2023-09-26 13:00:00\",\"2023-09-26 13:15:00\",\"2023-09-26 13:30:00\",\"2023-09-26 13:45:00\",\"2023-09-26 14:00:00\",\"2023-09-26 14:15:00\",\"2023-09-26 14:30:00\",\"2023-09-26 14:45:00\",\"2023-09-26 15:00:00\",\"2023-09-26 15:15:00\",\"2023-09-27 09:15:00\",\"2023-09-27 09:30:00\",\"2023-09-27 09:45:00\",\"2023-09-27 10:00:00\",\"2023-09-27 10:15:00\",\"2023-09-27 10:30:00\",\"2023-09-27 10:45:00\",\"2023-09-27 11:00:00\",\"2023-09-27 11:15:00\",\"2023-09-27 11:30:00\",\"2023-09-27 11:45:00\",\"2023-09-27 12:00:00\",\"2023-09-27 12:15:00\",\"2023-09-27 12:30:00\",\"2023-09-27 12:45:00\",\"2023-09-27 13:00:00\",\"2023-09-27 13:15:00\",\"2023-09-27 13:30:00\",\"2023-09-27 13:45:00\",\"2023-09-27 14:00:00\",\"2023-09-27 14:15:00\",\"2023-09-27 14:30:00\",\"2023-09-27 14:45:00\",\"2023-09-27 15:00:00\",\"2023-09-27 15:15:00\",\"2023-09-28 09:15:00\",\"2023-09-28 09:30:00\",\"2023-09-28 09:45:00\",\"2023-09-28 10:00:00\",\"2023-09-28 10:15:00\",\"2023-09-28 10:30:00\",\"2023-09-28 10:45:00\",\"2023-09-28 11:00:00\",\"2023-09-28 11:15:00\",\"2023-09-28 11:30:00\",\"2023-09-28 11:45:00\",\"2023-09-28 12:00:00\",\"2023-09-28 12:15:00\",\"2023-09-28 12:30:00\",\"2023-09-28 12:45:00\",\"2023-09-28 13:00:00\",\"2023-09-28 13:15:00\",\"2023-09-28 13:30:00\",\"2023-09-28 13:45:00\",\"2023-09-28 14:00:00\",\"2023-09-28 14:15:00\",\"2023-09-28 14:30:00\",\"2023-09-28 14:45:00\",\"2023-09-28 15:00:00\",\"2023-09-28 15:15:00\"],\"y\":[0,1,2,3,4,5,6,7,8,9,10],\"z\":[[0.033577714,0.026423767,0.013734825,0.011632912,0.011259414,0.017888993,0.022267278,0.023481723,0.025863498,0.03976959,0.04466969],[0.016983777,0.015322082,0.010865651,0.012682188,0.015560862,0.022426553,0.02498382,0.022494722,0.020542003,0.02895983,0.02447389],[0.010809645,0.009670086,0.009092893,0.012144912,0.015741318,0.022303697,0.023832105,0.020665295,0.017571218,0.022252716,0.017354578],[0.01000753,0.00791987,0.008742027,0.011888139,0.015175603,0.021475252,0.023040574,0.020129822,0.016856551,0.018861137,0.016229555],[0.009154335,0.0065941066,0.00786788,0.011048812,0.014042746,0.020264253,0.021699741,0.018909037,0.015288405,0.015381388,0.01476717],[0.007974371,0.005592279,0.00705475,0.010408714,0.013293646,0.019739598,0.021483578,0.01851967,0.014296621,0.012947544,0.013349712],[0.007002659,0.004972987,0.006379597,0.009793341,0.01252608,0.019406434,0.022096325,0.019064307,0.014456399,0.012248822,0.013025545],[0.005291581,0.003928818,0.005441092,0.009130847,0.011956576,0.019060418,0.02175719,0.018423483,0.013255857,0.010402508,0.011043601],[0.0045038164,0.0035844818,0.0051146336,0.008930847,0.011766456,0.018937655,0.021650791,0.018171027,0.0126943365,0.00947009,0.009910293],[0.0035090595,0.0029537305,0.0044987574,0.0084181875,0.011275925,0.01853099,0.021148205,0.017581493,0.011908062,0.008500658,0.008757651],[0.0030912831,0.0027313456,0.0042453,0.008185409,0.011002608,0.018422052,0.021340095,0.017756581,0.012003981,0.008472338,0.008598655],[0.0025724173,0.0023444593,0.0038754717,0.007873006,0.010678835,0.01837891,0.02178865,0.01812651,0.012240827,0.008447833,0.008460566],[0.0006416887,0.000882715,0.002648674,0.0069550313,0.010008715,0.01755672,0.01974687,0.01579722,0.009532578,0.0055707693,0.005246438],[0.0007370636,0.000933446,0.0026611835,0.0069020204,0.009883206,0.017380595,0.019510135,0.01563757,0.009438969,0.0054585114,0.005143836],[0.0005376041,0.0007821694,0.0024868548,0.006733276,0.009699076,0.017187953,0.01919116,0.015323855,0.009104751,0.005079247,0.0047568902],[0.0014388561,0.0016166642,0.003235519,0.0074151307,0.010317624,0.017562073,0.019342884,0.015520684,0.009345196,0.0053577796,0.005090311],[0.0016037077,0.001723595,0.0032712445,0.0073949285,0.010236852,0.017608814,0.019752115,0.015976846,0.009852111,0.0058446974,0.0056494176],[0.001556024,0.0017212555,0.003224194,0.007357385,0.010217056,0.017357387,0.018917471,0.015149668,0.009016462,0.0050840974,0.0049209893],[0.0029627085,0.003079407,0.0044466294,0.008458484,0.011223406,0.018110134,0.019746602,0.016077831,0.0100534335,0.006318249,0.0060883462],[0.0028609633,0.0030758604,0.004480213,0.008543149,0.011358827,0.018266529,0.019924015,0.016190939,0.01010298,0.0063916817,0.006044045],[0.0026786998,0.002919823,0.0043561123,0.008440986,0.011274159,0.018285267,0.020129971,0.016367383,0.010256477,0.006504193,0.006096475],[0.0012067482,0.0016275197,0.0032821298,0.007572945,0.010572642,0.017812632,0.019510865,0.015535347,0.009187855,0.005175218,0.0046531484],[0.0012590885,0.0015792176,0.0031876862,0.007400047,0.0103209205,0.017635278,0.019564167,0.015689112,0.009451799,0.005431138,0.004996009],[0.0016041249,0.0017819405,0.0032869726,0.0073868968,0.010181602,0.017755069,0.020487469,0.016724408,0.010606594,0.006541364,0.006210774],[0.0014795586,0.0017119572,0.0031852871,0.0072800294,0.010046218,0.017885167,0.021249563,0.017497845,0.011381961,0.0073293075,0.006967202],[0.015159216,0.013730332,0.013259552,0.015457138,0.016586147,0.023332719,0.030949607,0.029068142,0.025040068,0.022934802,0.023019135],[0.014205262,0.013482243,0.013182569,0.015831258,0.01735767,0.024646323,0.033218063,0.030733064,0.026045147,0.023937248,0.023351982],[0.012036465,0.011928022,0.012178913,0.015331466,0.017360985,0.024834417,0.03298076,0.02991169,0.024648491,0.022432074,0.021186203],[0.01058574,0.010578521,0.011246283,0.014606833,0.016875513,0.024497442,0.032406524,0.029126465,0.023723423,0.021408267,0.01995916],[0.010727033,0.010400299,0.011157364,0.01442131,0.016616516,0.024427693,0.0329348,0.029765777,0.024535876,0.022038393,0.020788863],[0.010104284,0.009748232,0.010660458,0.014009006,0.016266957,0.02425044,0.03291826,0.029672407,0.024361707,0.021608002,0.020438395],[0.009774081,0.009426184,0.0104957335,0.013923243,0.016237736,0.024449583,0.033501137,0.03016729,0.024779804,0.021830842,0.020750538],[0.009052865,0.008771569,0.009993229,0.013508141,0.015889883,0.024317898,0.033569746,0.03016458,0.024714999,0.021662235,0.020584404],[0.008274645,0.00796137,0.009234868,0.012779802,0.015164979,0.023820236,0.033326697,0.029914603,0.024433035,0.02115307,0.0201433],[0.007461205,0.0071556494,0.008475196,0.012058001,0.014452778,0.023329254,0.0330047,0.029579218,0.02405684,0.02059485,0.019698977],[0.0073226243,0.0069750026,0.008293834,0.011876296,0.0142483525,0.023202412,0.03299346,0.029564634,0.024015613,0.020418674,0.019586623],[0.007121846,0.0068760887,0.008332647,0.012023319,0.014487125,0.023448654,0.033074927,0.029511616,0.023830585,0.020188816,0.019320942],[0.0059220567,0.0057299137,0.007300418,0.011087604,0.01364496,0.02257182,0.03151045,0.027889904,0.022142135,0.018401518,0.017629825],[0.0074123517,0.0069847256,0.00837316,0.011941485,0.014309414,0.02314907,0.032523267,0.029113486,0.023619056,0.020085849,0.019413374],[0.0072919875,0.0067903027,0.00811103,0.011661023,0.013996601,0.022892259,0.032330777,0.028927024,0.02341333,0.01972273,0.019118547],[0.007296607,0.006856926,0.008211076,0.011806697,0.014204744,0.022852194,0.0316163,0.02817449,0.022625312,0.019033186,0.018519834],[0.006744124,0.0063116923,0.007711347,0.011368141,0.013829082,0.022359699,0.030526087,0.027020067,0.021391183,0.017693862,0.01718761],[0.0064352453,0.006048657,0.007453896,0.011138372,0.013640393,0.021931037,0.029323611,0.02581267,0.020165905,0.016526304,0.016026825],[0.006672457,0.006251909,0.007594265,0.011234842,0.013709135,0.021776158,0.028695092,0.025242634,0.019648053,0.01606606,0.015621707],[0.0075366125,0.007134676,0.008388884,0.011976376,0.014443375,0.021921858,0.027778894,0.024406243,0.018899322,0.015650414,0.015211768],[0.008376092,0.007866457,0.008831181,0.012194142,0.014512487,0.021532424,0.026718765,0.023662172,0.018490918,0.015744843,0.015465282],[0.009264156,0.008837551,0.009723321,0.013071321,0.015406035,0.022090591,0.026818454,0.023763243,0.01860255,0.016132906,0.015715614],[0.008234963,0.008032702,0.009066902,0.012598515,0.015106283,0.021825172,0.026099376,0.022850297,0.017484374,0.014955141,0.014321744],[0.008814439,0.008461006,0.009349868,0.012719054,0.015052412,0.022146396,0.027642846,0.024538472,0.0193329,0.016727999,0.016024001],[0.008433141,0.008215658,0.009096943,0.012506928,0.0148399845,0.022294551,0.028540023,0.02538962,0.02011878,0.017460622,0.016605407],[0.014660444,0.013787776,0.013672225,0.016189378,0.017772943,0.02427606,0.031436954,0.029223923,0.02496297,0.023456015,0.022748254],[0.015611678,0.014756948,0.014589936,0.017151706,0.018781543,0.025434867,0.033361778,0.030980654,0.026560165,0.025061205,0.024224132],[0.013756454,0.013269618,0.013403617,0.016273048,0.018204503,0.025068838,0.032661,0.02995288,0.025206145,0.023646168,0.022524774],[0.013079599,0.012561388,0.012867965,0.015802216,0.017811965,0.024822813,0.032431714,0.029651321,0.02487892,0.02323015,0.022073224],[0.012758449,0.012129761,0.012526326,0.015482906,0.017535008,0.024368133,0.031336855,0.028551374,0.023800485,0.022083916,0.021073908],[0.012547582,0.011784103,0.01220303,0.015141655,0.01719372,0.0239347,0.03050045,0.027754229,0.02306085,0.021302126,0.020509042],[0.012432963,0.011576422,0.011978183,0.01488132,0.01690109,0.02370207,0.030292999,0.027597953,0.022965007,0.021160513,0.020527072],[0.0133049935,0.012320273,0.012649402,0.0154875,0.017449472,0.024063714,0.03054268,0.027881444,0.023288704,0.021501549,0.020907938],[0.012480691,0.0115852915,0.011921015,0.014803477,0.016821641,0.023359299,0.029243715,0.026592243,0.022000112,0.020288952,0.019801214],[0.012523904,0.011561144,0.011815645,0.014630087,0.016592812,0.023123696,0.028973565,0.026413433,0.02191881,0.02027288,0.019889846],[0.012179032,0.011303186,0.011519216,0.014342811,0.016318,0.022823296,0.028444126,0.025911298,0.021432787,0.019912489,0.019515648],[0.01262667,0.011704709,0.011768673,0.0144724585,0.016346384,0.022854332,0.028697383,0.02631605,0.022004068,0.020722046,0.02034586],[0.012449361,0.011572048,0.011613473,0.014332853,0.016222194,0.022732697,0.02845212,0.026061986,0.021741398,0.020531915,0.020119384],[0.0125712305,0.01168789,0.011649229,0.014316894,0.016174458,0.022589304,0.02811829,0.02580452,0.021569863,0.020553522,0.02013199],[0.014330633,0.013254389,0.013112098,0.015659485,0.017414361,0.023709148,0.029707685,0.027438596,0.02328062,0.022338077,0.021890588],[0.014691848,0.013546895,0.013343807,0.015830077,0.017541625,0.023909524,0.030251384,0.028033432,0.023957655,0.023147501,0.022692963],[0.012636349,0.011744037,0.011904534,0.014723152,0.016724296,0.0233882,0.029387359,0.026803888,0.02234865,0.021192305,0.020606935],[0.011865199,0.010852631,0.011163481,0.0140335485,0.016067222,0.02296877,0.029118001,0.026468731,0.021964297,0.020487927,0.020036496],[0.0117779225,0.010718465,0.010989539,0.013797753,0.01576513,0.022799402,0.029262044,0.02671652,0.022321038,0.020862892,0.020554774],[0.011287428,0.010277782,0.0105183385,0.013327498,0.015298806,0.022284258,0.028403178,0.025914125,0.021569066,0.02023279,0.020025633],[0.012329012,0.011161853,0.011362486,0.014112748,0.01603131,0.022781465,0.028739683,0.026257165,0.02192276,0.020513706,0.020359427],[0.011309445,0.0103082955,0.010583155,0.013448346,0.015477464,0.022225812,0.02771844,0.02515348,0.020707734,0.019290783,0.019127004],[0.011279911,0.01027295,0.010685157,0.013651736,0.015763048,0.02242262,0.027612373,0.024889786,0.020267546,0.018545158,0.018384352],[0.011104673,0.010092378,0.010587692,0.013602279,0.015741192,0.022464778,0.027732212,0.024939977,0.020229056,0.018267937,0.018129483],[0.01068946,0.009749778,0.010319512,0.013393182,0.015562542,0.02244965,0.027974248,0.025124636,0.020331353,0.018204734,0.018047884],[0.022682264,0.020335175,0.019227281,0.02067092,0.021467641,0.026907686,0.034877244,0.03366252,0.030714616,0.030554622,0.030778721],[0.02412789,0.022100441,0.020772379,0.022243083,0.023108236,0.02855194,0.037315436,0.035995636,0.03295995,0.03344421,0.033210926],[0.025123708,0.023415197,0.022149853,0.023728646,0.024764422,0.029991522,0.03891582,0.03741104,0.034228515,0.03512004,0.03429132],[0.023218237,0.021669038,0.020590615,0.022313047,0.023553252,0.028800711,0.037000887,0.035411313,0.03219532,0.033254713,0.032252356],[0.026995532,0.025043592,0.023743857,0.025143094,0.026173998,0.03069682,0.038954187,0.03764648,0.03481459,0.036314607,0.035447754],[0.026558422,0.024606332,0.023513991,0.025060512,0.026259638,0.03074946,0.038656786,0.03716276,0.03418325,0.035506092,0.034628652],[0.023619376,0.021955252,0.020993643,0.022671744,0.024006456,0.028974093,0.036840454,0.03536434,0.032390192,0.033821333,0.03283801],[0.021015927,0.019433841,0.01865217,0.020493638,0.021957416,0.027267903,0.034637243,0.033073902,0.030001093,0.0311945,0.030304532],[0.020398404,0.018398412,0.017542593,0.019225828,0.020525068,0.026192337,0.03380054,0.032431133,0.029615276,0.030623585,0.030302666],[0.021054648,0.018841654,0.017961677,0.019656252,0.02093739,0.026414342,0.033561543,0.032091096,0.02916532,0.02993448,0.029753432],[0.022383377,0.019735988,0.018618636,0.020047791,0.02106532,0.026680976,0.034637325,0.033379152,0.03068129,0.031254217,0.03140603],[0.021297995,0.018718913,0.017744783,0.01934303,0.020493079,0.026311904,0.034059938,0.03259004,0.029658616,0.02991122,0.030281771],[0.020606335,0.018035382,0.017122537,0.018786032,0.020008255,0.025596507,0.032403335,0.03088944,0.027896836,0.028084021,0.028614748],[0.023052685,0.020178828,0.019044377,0.020465773,0.021490864,0.026654325,0.033550065,0.032234896,0.029471379,0.029844493,0.030534573],[0.023556754,0.020663701,0.019583695,0.021080472,0.02217672,0.027138494,0.03371562,0.032254018,0.029331304,0.029486496,0.030236796],[0.024049766,0.021147225,0.020174868,0.021773353,0.02297264,0.027553484,0.033407744,0.031768728,0.028648835,0.028542865,0.029286176],[0.02159455,0.01881174,0.017870698,0.019525584,0.020807303,0.025589347,0.030743085,0.029185038,0.0261687,0.02628009,0.027259722],[0.020140491,0.017289221,0.016308233,0.017956067,0.019236825,0.024004418,0.02828173,0.026818663,0.023905545,0.024048813,0.025280938],[0.021669965,0.018392004,0.017065383,0.018389076,0.019365307,0.024149396,0.029014967,0.027880158,0.02533561,0.025584146,0.027224984],[0.023002151,0.01978127,0.018296428,0.019567683,0.02049017,0.024998788,0.029759713,0.028641514,0.026096731,0.02654495,0.028047733],[0.022616528,0.019346982,0.017760161,0.018977575,0.01985858,0.024517488,0.029362537,0.02831196,0.02585781,0.026408501,0.028014913],[0.021933224,0.018629376,0.017069928,0.018335078,0.01925975,0.024052206,0.028750531,0.027642746,0.025145546,0.025631107,0.027359128],[0.021801785,0.01831109,0.01682264,0.018136963,0.019092634,0.023876239,0.028280154,0.027045488,0.02442674,0.024541847,0.026428353],[0.021233149,0.017453361,0.01575528,0.016799122,0.017546527,0.022660516,0.027417716,0.026580147,0.024469763,0.025119036,0.027478524],[0.022287544,0.018424578,0.016641729,0.017654486,0.018365923,0.023205787,0.02769921,0.026850112,0.02470925,0.025255285,0.027690921],[0.06464371,0.05453915,0.04590659,0.04023359,0.035305843,0.03570941,0.050385967,0.056572594,0.06238889,0.07040426,0.07598258],[0.07645015,0.06729432,0.056825668,0.050662994,0.045443647,0.04425567,0.06171298,0.0682106,0.074229605,0.085417606,0.08951028],[0.08020701,0.072273985,0.06155242,0.055602603,0.050805103,0.049488068,0.06924734,0.0752748,0.08092709,0.093859985,0.09568741],[0.079018705,0.07182361,0.061617643,0.055988587,0.05171532,0.051095203,0.07247567,0.07813525,0.0836855,0.09777809,0.0978739],[0.07440288,0.06652927,0.057325006,0.052051272,0.04833132,0.048807144,0.069804005,0.07509002,0.08076948,0.09495513,0.09563591],[0.07676949,0.068330474,0.059646852,0.05431804,0.050781745,0.05010671,0.06867808,0.07396746,0.07999725,0.09481481,0.0953632],[0.0739333,0.06414592,0.054735217,0.048379138,0.044116847,0.044061597,0.06261445,0.06949194,0.077470705,0.0937986,0.095626384],[0.0765473,0.06483404,0.054163106,0.046513394,0.04117597,0.041588463,0.061792802,0.070251524,0.080111146,0.09749946,0.10156432],[0.08617324,0.072783716,0.060608625,0.051405374,0.04475753,0.04482495,0.06795278,0.07793652,0.089687005,0.109084815,0.11388122],[0.091643326,0.07800053,0.06470497,0.05472961,0.04744478,0.04773167,0.074663974,0.08554981,0.09821261,0.11910583,0.12402989],[0.09401846,0.08089954,0.06761785,0.05782047,0.050726518,0.051785536,0.08221985,0.09278266,0.105110064,0.12653428,0.13080269],[0.09369703,0.08126274,0.068229064,0.058622442,0.051784936,0.053490337,0.085878626,0.09627831,0.10853222,0.13105401,0.13399045],[0.096445754,0.083093435,0.069783516,0.05946002,0.052108273,0.054578394,0.090166844,0.101394415,0.11485143,0.13879028,0.14180323],[0.09840952,0.08410895,0.07043866,0.05953759,0.051890112,0.05351128,0.0866866,0.09849135,0.11300534,0.13872647,0.14183009],[0.1038114,0.086592704,0.071358845,0.05847538,0.049371433,0.050460402,0.083533555,0.09758577,0.1150834,0.14343354,0.14878754],[0.10902149,0.089555174,0.072778285,0.058291893,0.04794105,0.04908257,0.083683416,0.09947034,0.11914822,0.14917517,0.15653984],[0.11296634,0.091804475,0.073239505,0.057140425,0.045547493,0.047108896,0.083993465,0.10176766,0.12387335,0.15677944,0.16592073],[0.124195606,0.100544125,0.080199175,0.062396266,0.04954025,0.0488075,0.08395062,0.10334892,0.12762594,0.16298951,0.1740352],[0.13301387,0.10675581,0.083717115,0.06306913,0.047885682,0.048175745,0.08995512,0.112786666,0.14115627,0.18033054,0.19326337],[0.13962723,0.112164125,0.087280124,0.065289475,0.04910109,0.047574885,0.086912386,0.11113175,0.14132014,0.18364522,0.1967492],[0.1472829,0.11812564,0.09189992,0.068723224,0.051724605,0.048529718,0.08632832,0.11158326,0.14321473,0.1872125,0.20134215],[0.1595403,0.12658465,0.09702432,0.07012421,0.050012734,0.046139784,0.08796233,0.11766508,0.15458938,0.2028477,0.21898405],[0.17589703,0.13703394,0.102509305,0.07030487,0.045611583,0.040499423,0.08625298,0.122403756,0.16708356,0.22130883,0.2421237],[0.18710732,0.14592819,0.10716814,0.07191137,0.044274975,0.03454235,0.074977815,0.11468612,0.16337064,0.22182325,0.24236375]],\"type\":\"surface\"}],                        {\"template\":{\"data\":{\"histogram2dcontour\":[{\"type\":\"histogram2dcontour\",\"colorbar\":{\"outlinewidth\":0,\"ticks\":\"\"},\"colorscale\":[[0.0,\"#0d0887\"],[0.1111111111111111,\"#46039f\"],[0.2222222222222222,\"#7201a8\"],[0.3333333333333333,\"#9c179e\"],[0.4444444444444444,\"#bd3786\"],[0.5555555555555556,\"#d8576b\"],[0.6666666666666666,\"#ed7953\"],[0.7777777777777778,\"#fb9f3a\"],[0.8888888888888888,\"#fdca26\"],[1.0,\"#f0f921\"]]}],\"choropleth\":[{\"type\":\"choropleth\",\"colorbar\":{\"outlinewidth\":0,\"ticks\":\"\"}}],\"histogram2d\":[{\"type\":\"histogram2d\",\"colorbar\":{\"outlinewidth\":0,\"ticks\":\"\"},\"colorscale\":[[0.0,\"#0d0887\"],[0.1111111111111111,\"#46039f\"],[0.2222222222222222,\"#7201a8\"],[0.3333333333333333,\"#9c179e\"],[0.4444444444444444,\"#bd3786\"],[0.5555555555555556,\"#d8576b\"],[0.6666666666666666,\"#ed7953\"],[0.7777777777777778,\"#fb9f3a\"],[0.8888888888888888,\"#fdca26\"],[1.0,\"#f0f921\"]]}],\"heatmap\":[{\"type\":\"heatmap\",\"colorbar\":{\"outlinewidth\":0,\"ticks\":\"\"},\"colorscale\":[[0.0,\"#0d0887\"],[0.1111111111111111,\"#46039f\"],[0.2222222222222222,\"#7201a8\"],[0.3333333333333333,\"#9c179e\"],[0.4444444444444444,\"#bd3786\"],[0.5555555555555556,\"#d8576b\"],[0.6666666666666666,\"#ed7953\"],[0.7777777777777778,\"#fb9f3a\"],[0.8888888888888888,\"#fdca26\"],[1.0,\"#f0f921\"]]}],\"heatmapgl\":[{\"type\":\"heatmapgl\",\"colorbar\":{\"outlinewidth\":0,\"ticks\":\"\"},\"colorscale\":[[0.0,\"#0d0887\"],[0.1111111111111111,\"#46039f\"],[0.2222222222222222,\"#7201a8\"],[0.3333333333333333,\"#9c179e\"],[0.4444444444444444,\"#bd3786\"],[0.5555555555555556,\"#d8576b\"],[0.6666666666666666,\"#ed7953\"],[0.7777777777777778,\"#fb9f3a\"],[0.8888888888888888,\"#fdca26\"],[1.0,\"#f0f921\"]]}],\"contourcarpet\":[{\"type\":\"contourcarpet\",\"colorbar\":{\"outlinewidth\":0,\"ticks\":\"\"}}],\"contour\":[{\"type\":\"contour\",\"colorbar\":{\"outlinewidth\":0,\"ticks\":\"\"},\"colorscale\":[[0.0,\"#0d0887\"],[0.1111111111111111,\"#46039f\"],[0.2222222222222222,\"#7201a8\"],[0.3333333333333333,\"#9c179e\"],[0.4444444444444444,\"#bd3786\"],[0.5555555555555556,\"#d8576b\"],[0.6666666666666666,\"#ed7953\"],[0.7777777777777778,\"#fb9f3a\"],[0.8888888888888888,\"#fdca26\"],[1.0,\"#f0f921\"]]}],\"surface\":[{\"type\":\"surface\",\"colorbar\":{\"outlinewidth\":0,\"ticks\":\"\"},\"colorscale\":[[0.0,\"#0d0887\"],[0.1111111111111111,\"#46039f\"],[0.2222222222222222,\"#7201a8\"],[0.3333333333333333,\"#9c179e\"],[0.4444444444444444,\"#bd3786\"],[0.5555555555555556,\"#d8576b\"],[0.6666666666666666,\"#ed7953\"],[0.7777777777777778,\"#fb9f3a\"],[0.8888888888888888,\"#fdca26\"],[1.0,\"#f0f921\"]]}],\"mesh3d\":[{\"type\":\"mesh3d\",\"colorbar\":{\"outlinewidth\":0,\"ticks\":\"\"}}],\"scatter\":[{\"fillpattern\":{\"fillmode\":\"overlay\",\"size\":10,\"solidity\":0.2},\"type\":\"scatter\"}],\"parcoords\":[{\"type\":\"parcoords\",\"line\":{\"colorbar\":{\"outlinewidth\":0,\"ticks\":\"\"}}}],\"scatterpolargl\":[{\"type\":\"scatterpolargl\",\"marker\":{\"colorbar\":{\"outlinewidth\":0,\"ticks\":\"\"}}}],\"bar\":[{\"error_x\":{\"color\":\"#2a3f5f\"},\"error_y\":{\"color\":\"#2a3f5f\"},\"marker\":{\"line\":{\"color\":\"#E5ECF6\",\"width\":0.5},\"pattern\":{\"fillmode\":\"overlay\",\"size\":10,\"solidity\":0.2}},\"type\":\"bar\"}],\"scattergeo\":[{\"type\":\"scattergeo\",\"marker\":{\"colorbar\":{\"outlinewidth\":0,\"ticks\":\"\"}}}],\"scatterpolar\":[{\"type\":\"scatterpolar\",\"marker\":{\"colorbar\":{\"outlinewidth\":0,\"ticks\":\"\"}}}],\"histogram\":[{\"marker\":{\"pattern\":{\"fillmode\":\"overlay\",\"size\":10,\"solidity\":0.2}},\"type\":\"histogram\"}],\"scattergl\":[{\"type\":\"scattergl\",\"marker\":{\"colorbar\":{\"outlinewidth\":0,\"ticks\":\"\"}}}],\"scatter3d\":[{\"type\":\"scatter3d\",\"line\":{\"colorbar\":{\"outlinewidth\":0,\"ticks\":\"\"}},\"marker\":{\"colorbar\":{\"outlinewidth\":0,\"ticks\":\"\"}}}],\"scattermapbox\":[{\"type\":\"scattermapbox\",\"marker\":{\"colorbar\":{\"outlinewidth\":0,\"ticks\":\"\"}}}],\"scatterternary\":[{\"type\":\"scatterternary\",\"marker\":{\"colorbar\":{\"outlinewidth\":0,\"ticks\":\"\"}}}],\"scattercarpet\":[{\"type\":\"scattercarpet\",\"marker\":{\"colorbar\":{\"outlinewidth\":0,\"ticks\":\"\"}}}],\"carpet\":[{\"aaxis\":{\"endlinecolor\":\"#2a3f5f\",\"gridcolor\":\"white\",\"linecolor\":\"white\",\"minorgridcolor\":\"white\",\"startlinecolor\":\"#2a3f5f\"},\"baxis\":{\"endlinecolor\":\"#2a3f5f\",\"gridcolor\":\"white\",\"linecolor\":\"white\",\"minorgridcolor\":\"white\",\"startlinecolor\":\"#2a3f5f\"},\"type\":\"carpet\"}],\"table\":[{\"cells\":{\"fill\":{\"color\":\"#EBF0F8\"},\"line\":{\"color\":\"white\"}},\"header\":{\"fill\":{\"color\":\"#C8D4E3\"},\"line\":{\"color\":\"white\"}},\"type\":\"table\"}],\"barpolar\":[{\"marker\":{\"line\":{\"color\":\"#E5ECF6\",\"width\":0.5},\"pattern\":{\"fillmode\":\"overlay\",\"size\":10,\"solidity\":0.2}},\"type\":\"barpolar\"}],\"pie\":[{\"automargin\":true,\"type\":\"pie\"}]},\"layout\":{\"autotypenumbers\":\"strict\",\"colorway\":[\"#636efa\",\"#EF553B\",\"#00cc96\",\"#ab63fa\",\"#FFA15A\",\"#19d3f3\",\"#FF6692\",\"#B6E880\",\"#FF97FF\",\"#FECB52\"],\"font\":{\"color\":\"#2a3f5f\"},\"hovermode\":\"closest\",\"hoverlabel\":{\"align\":\"left\"},\"paper_bgcolor\":\"white\",\"plot_bgcolor\":\"#E5ECF6\",\"polar\":{\"bgcolor\":\"#E5ECF6\",\"angularaxis\":{\"gridcolor\":\"white\",\"linecolor\":\"white\",\"ticks\":\"\"},\"radialaxis\":{\"gridcolor\":\"white\",\"linecolor\":\"white\",\"ticks\":\"\"}},\"ternary\":{\"bgcolor\":\"#E5ECF6\",\"aaxis\":{\"gridcolor\":\"white\",\"linecolor\":\"white\",\"ticks\":\"\"},\"baxis\":{\"gridcolor\":\"white\",\"linecolor\":\"white\",\"ticks\":\"\"},\"caxis\":{\"gridcolor\":\"white\",\"linecolor\":\"white\",\"ticks\":\"\"}},\"coloraxis\":{\"colorbar\":{\"outlinewidth\":0,\"ticks\":\"\"}},\"colorscale\":{\"sequential\":[[0.0,\"#0d0887\"],[0.1111111111111111,\"#46039f\"],[0.2222222222222222,\"#7201a8\"],[0.3333333333333333,\"#9c179e\"],[0.4444444444444444,\"#bd3786\"],[0.5555555555555556,\"#d8576b\"],[0.6666666666666666,\"#ed7953\"],[0.7777777777777778,\"#fb9f3a\"],[0.8888888888888888,\"#fdca26\"],[1.0,\"#f0f921\"]],\"sequentialminus\":[[0.0,\"#0d0887\"],[0.1111111111111111,\"#46039f\"],[0.2222222222222222,\"#7201a8\"],[0.3333333333333333,\"#9c179e\"],[0.4444444444444444,\"#bd3786\"],[0.5555555555555556,\"#d8576b\"],[0.6666666666666666,\"#ed7953\"],[0.7777777777777778,\"#fb9f3a\"],[0.8888888888888888,\"#fdca26\"],[1.0,\"#f0f921\"]],\"diverging\":[[0,\"#8e0152\"],[0.1,\"#c51b7d\"],[0.2,\"#de77ae\"],[0.3,\"#f1b6da\"],[0.4,\"#fde0ef\"],[0.5,\"#f7f7f7\"],[0.6,\"#e6f5d0\"],[0.7,\"#b8e186\"],[0.8,\"#7fbc41\"],[0.9,\"#4d9221\"],[1,\"#276419\"]]},\"xaxis\":{\"gridcolor\":\"white\",\"linecolor\":\"white\",\"ticks\":\"\",\"title\":{\"standoff\":15},\"zerolinecolor\":\"white\",\"automargin\":true,\"zerolinewidth\":2},\"yaxis\":{\"gridcolor\":\"white\",\"linecolor\":\"white\",\"ticks\":\"\",\"title\":{\"standoff\":15},\"zerolinecolor\":\"white\",\"automargin\":true,\"zerolinewidth\":2},\"scene\":{\"xaxis\":{\"backgroundcolor\":\"#E5ECF6\",\"gridcolor\":\"white\",\"linecolor\":\"white\",\"showbackground\":true,\"ticks\":\"\",\"zerolinecolor\":\"white\",\"gridwidth\":2},\"yaxis\":{\"backgroundcolor\":\"#E5ECF6\",\"gridcolor\":\"white\",\"linecolor\":\"white\",\"showbackground\":true,\"ticks\":\"\",\"zerolinecolor\":\"white\",\"gridwidth\":2},\"zaxis\":{\"backgroundcolor\":\"#E5ECF6\",\"gridcolor\":\"white\",\"linecolor\":\"white\",\"showbackground\":true,\"ticks\":\"\",\"zerolinecolor\":\"white\",\"gridwidth\":2}},\"shapedefaults\":{\"line\":{\"color\":\"#2a3f5f\"}},\"annotationdefaults\":{\"arrowcolor\":\"#2a3f5f\",\"arrowhead\":0,\"arrowwidth\":1},\"geo\":{\"bgcolor\":\"white\",\"landcolor\":\"#E5ECF6\",\"subunitcolor\":\"white\",\"showland\":true,\"showlakes\":true,\"lakecolor\":\"white\"},\"title\":{\"x\":0.05},\"mapbox\":{\"style\":\"light\"}}},\"title\":{\"text\":\"Implied Volatility Surface\"},\"scene\":{\"xaxis\":{\"title\":{\"text\":\"Expiration Date\"}},\"yaxis\":{\"title\":{\"text\":\"Strike Price\"}},\"zaxis\":{\"title\":{\"text\":\"Implied Volatility\"}}}},                        {\"responsive\": true}                    ).then(function(){\n",
       "                            \n",
       "var gd = document.getElementById('17b0e37c-ceaf-40a9-8f80-dfa627e3f58f');\n",
       "var x = new MutationObserver(function (mutations, observer) {{\n",
       "        var display = window.getComputedStyle(gd).display;\n",
       "        if (!display || display === 'none') {{\n",
       "            console.log([gd, 'removed!']);\n",
       "            Plotly.purge(gd);\n",
       "            observer.disconnect();\n",
       "        }}\n",
       "}});\n",
       "\n",
       "// Listen for the removal of the full notebook cells\n",
       "var notebookContainer = gd.closest('#notebook-container');\n",
       "if (notebookContainer) {{\n",
       "    x.observe(notebookContainer, {childList: true});\n",
       "}}\n",
       "\n",
       "// Listen for the clearing of the current output cell\n",
       "var outputEl = gd.closest('.output');\n",
       "if (outputEl) {{\n",
       "    x.observe(outputEl, {childList: true});\n",
       "}}\n",
       "\n",
       "                        })                };                });            </script>        </div>"
      ]
     },
     "metadata": {},
     "output_type": "display_data"
    }
   ],
   "source": [
    "expiration_dates = pred_iv_df_exp_1['Datetime'] #list(volatility_surface_dict.keys())\n",
    "# print(expiration_dates)\n",
    "strikes = [i for i in range(11)] #all_strikes[3:17] #[strike for strike in volatility_surface_dict[strikes[0]].keys()]\n",
    "# print(strikes)\n",
    "\n",
    "# Create the 3D plot\n",
    "fig_pred = go.Figure(data=[go.Surface(\n",
    "    x=expiration_dates,\n",
    "    y=strikes,\n",
    "    z=pred_iv_df_exp_1.iloc[1:, 2:].values)\n",
    "])\n",
    "\n",
    "# Set the plot title and axis labels\n",
    "fig_pred.update_layout(\n",
    "    title='Implied Volatility Surface',\n",
    "    scene=dict(\n",
    "        xaxis_title='Expiration Date',\n",
    "        yaxis_title='Strike Price',\n",
    "        zaxis_title='Implied Volatility'\n",
    "    )\n",
    ")\n",
    "\n",
    "# Show the plot\n",
    "fig_pred.show()"
   ]
  },
  {
   "cell_type": "code",
   "execution_count": 102,
   "metadata": {},
   "outputs": [
    {
     "data": {
      "text/plain": [
       "array([0.016586188, 0.01695827, 0.017109212, 0.019424042, 0.020882301,\n",
       "       0.029124647, 0.0385373, 0.037563726, 0.03467245, 0.033814203,\n",
       "       0.030621734], dtype=object)"
      ]
     },
     "execution_count": 102,
     "metadata": {},
     "output_type": "execute_result"
    }
   ],
   "source": [
    "test_iv_df_exp_1.iloc[50][2:].values"
   ]
  },
  {
   "cell_type": "code",
   "execution_count": 104,
   "metadata": {},
   "outputs": [
    {
     "data": {
      "image/png": "[encoded data removed]",
      "text/plain": [
       "<Figure size 640x480 with 1 Axes>"
      ]
     },
     "metadata": {},
     "output_type": "display_data"
    }
   ],
   "source": [
    "plt.plot(test_iv_df_exp_1.iloc[80][2:].values)\n",
    "plt.plot(pred_iv_df_exp_1.iloc[80][2:].values)\n",
    "plt.legend(['y_pred', 'y_true'])\n",
    "plt.show()"
   ]
  },
  {
   "cell_type": "code",
   "execution_count": 44,
   "metadata": {},
   "outputs": [
    {
     "data": {
      "text/html": [
       "<div>\n",
       "<style scoped>\n",
       "    .dataframe tbody tr th:only-of-type {\n",
       "        vertical-align: middle;\n",
       "    }\n",
       "\n",
       "    .dataframe tbody tr th {\n",
       "        vertical-align: top;\n",
       "    }\n",
       "\n",
       "    .dataframe thead th {\n",
       "        text-align: right;\n",
       "    }\n",
       "</style>\n",
       "<table border=\"1\" class=\"dataframe\">\n",
       "  <thead>\n",
       "    <tr style=\"text-align: right;\">\n",
       "      <th></th>\n",
       "      <th>Datetime</th>\n",
       "      <th>Expiry</th>\n",
       "    </tr>\n",
       "  </thead>\n",
       "  <tbody>\n",
       "    <tr>\n",
       "      <th>22632</th>\n",
       "      <td>2022-10-25 12:15:00</td>\n",
       "      <td>2022-10-27 15:30:00</td>\n",
       "    </tr>\n",
       "    <tr>\n",
       "      <th>22633</th>\n",
       "      <td>2022-10-25 12:30:00</td>\n",
       "      <td>2022-10-27 15:30:00</td>\n",
       "    </tr>\n",
       "    <tr>\n",
       "      <th>22634</th>\n",
       "      <td>2022-10-25 12:45:00</td>\n",
       "      <td>2022-10-27 15:30:00</td>\n",
       "    </tr>\n",
       "    <tr>\n",
       "      <th>22635</th>\n",
       "      <td>2022-10-25 13:00:00</td>\n",
       "      <td>2022-10-27 15:30:00</td>\n",
       "    </tr>\n",
       "    <tr>\n",
       "      <th>22636</th>\n",
       "      <td>2022-10-25 13:15:00</td>\n",
       "      <td>2022-10-27 15:30:00</td>\n",
       "    </tr>\n",
       "    <tr>\n",
       "      <th>...</th>\n",
       "      <td>...</td>\n",
       "      <td>...</td>\n",
       "    </tr>\n",
       "    <tr>\n",
       "      <th>32282</th>\n",
       "      <td>2024-05-27 14:15:00</td>\n",
       "      <td>2024-05-30 15:30:00</td>\n",
       "    </tr>\n",
       "    <tr>\n",
       "      <th>32283</th>\n",
       "      <td>2024-05-27 14:30:00</td>\n",
       "      <td>2024-05-30 15:30:00</td>\n",
       "    </tr>\n",
       "    <tr>\n",
       "      <th>32284</th>\n",
       "      <td>2024-05-27 14:45:00</td>\n",
       "      <td>2024-05-30 15:30:00</td>\n",
       "    </tr>\n",
       "    <tr>\n",
       "      <th>32285</th>\n",
       "      <td>2024-05-27 15:00:00</td>\n",
       "      <td>2024-05-30 15:30:00</td>\n",
       "    </tr>\n",
       "    <tr>\n",
       "      <th>32286</th>\n",
       "      <td>2024-05-27 15:15:00</td>\n",
       "      <td>2024-05-30 15:30:00</td>\n",
       "    </tr>\n",
       "  </tbody>\n",
       "</table>\n",
       "<p>9655 rows × 2 columns</p>\n",
       "</div>"
      ],
      "text/plain": [
       "                  Datetime               Expiry\n",
       "22632  2022-10-25 12:15:00  2022-10-27 15:30:00\n",
       "22633  2022-10-25 12:30:00  2022-10-27 15:30:00\n",
       "22634  2022-10-25 12:45:00  2022-10-27 15:30:00\n",
       "22635  2022-10-25 13:00:00  2022-10-27 15:30:00\n",
       "22636  2022-10-25 13:15:00  2022-10-27 15:30:00\n",
       "...                    ...                  ...\n",
       "32282  2024-05-27 14:15:00  2024-05-30 15:30:00\n",
       "32283  2024-05-27 14:30:00  2024-05-30 15:30:00\n",
       "32284  2024-05-27 14:45:00  2024-05-30 15:30:00\n",
       "32285  2024-05-27 15:00:00  2024-05-30 15:30:00\n",
       "32286  2024-05-27 15:15:00  2024-05-30 15:30:00\n",
       "\n",
       "[9655 rows x 2 columns]"
      ]
     },
     "execution_count": 44,
     "metadata": {},
     "output_type": "execute_result"
    }
   ],
   "source": [
    "test_dates[n_lookback:]"
   ]
  },
  {
   "cell_type": "code",
   "execution_count": 45,
   "metadata": {},
   "outputs": [
    {
     "data": {
      "image/png": "[encoded data removed]",
      "text/plain": [
       "<Figure size 640x480 with 1 Axes>"
      ]
     },
     "metadata": {},
     "output_type": "display_data"
    }
   ],
   "source": [
    "plt.plot(scaler.inverse_transform(np.array(y_true).reshape(-1, n_features))[-100:-1], label='y_true')\n",
    "plt.plot(scaler.inverse_transform(np.array(y_preds).reshape(-1, n_features))[-100:-1], label='y_pred')\n",
    "plt.legend()\n",
    "plt.show()"
   ]
  },
  {
   "cell_type": "code",
   "execution_count": 44,
   "metadata": {},
   "outputs": [
    {
     "data": {
      "text/plain": [
       "array([[19.68446508, 15.67074951],\n",
       "       [18.63089864, 18.10550717],\n",
       "       [17.32664297, 18.62703471],\n",
       "       [18.29509303, 18.13021098],\n",
       "       [18.68000148, 18.41071687],\n",
       "       [16.31726251, 18.75271098],\n",
       "       [16.76449578, 17.66387917],\n",
       "       [16.9257123 , 17.41628778],\n",
       "       [16.15651688, 17.41454166],\n",
       "       [16.6643408 , 17.01703033],\n",
       "       [16.65046986, 17.10838301],\n",
       "       [16.38707496, 17.14650599],\n",
       "       [16.98574243, 17.02134961],\n",
       "       [16.35618983, 17.2778413 ],\n",
       "       [16.42672534, 17.06024943],\n",
       "       [16.26147399, 16.99559168],\n",
       "       [16.17206104, 16.88274059],\n",
       "       [16.02219727, 16.7868296 ],\n",
       "       [15.45365243, 16.66709921],\n",
       "       [15.70188562, 16.31619285],\n",
       "       [16.47000301, 16.29301048],\n",
       "       [16.50695355, 16.69179106],\n",
       "       [16.2711356 , 16.88646708],\n",
       "       [15.53747446, 16.83968881],\n",
       "       [14.84159089, 16.42819538],\n",
       "       [28.59322564, 15.88121946],\n",
       "       [31.42183866, 22.88911374],\n",
       "       [29.42894325, 27.49736872],\n",
       "       [34.26067503, 28.39373316],\n",
       "       [34.93858469, 31.28146082],\n",
       "       [35.22600933, 32.95583612],\n",
       "       [26.33814243, 33.85461238],\n",
       "       [35.52748179, 29.55668833],\n",
       "       [28.27218853, 32.48901431],\n",
       "       [31.104736  , 30.07221978],\n",
       "       [31.81038516, 30.4506529 ],\n",
       "       [32.21819512, 31.04505008],\n",
       "       [33.95018156, 31.53177119],\n",
       "       [41.30818862, 32.661678  ],\n",
       "       [44.00157491, 37.07441797],\n",
       "       [41.17003854, 40.498805  ],\n",
       "       [38.67528182, 40.49012102],\n",
       "       [36.16451006, 39.10327074],\n",
       "       [32.36264843, 37.13851639],\n",
       "       [37.48629384, 34.25663302],\n",
       "       [37.43797382, 35.7193707 ],\n",
       "       [40.00025666, 36.4271305 ],\n",
       "       [29.43204347, 38.09398829],\n",
       "       [23.97727268, 33.21572922],\n",
       "       [11.45318632, 28.05066222],\n",
       "       [13.77411288, 19.15333927],\n",
       "       [14.59664915, 16.49270852],\n",
       "       [14.28805239, 15.9214961 ],\n",
       "       [13.82924287, 15.55035462],\n",
       "       [14.26781128, 15.1215757 ],\n",
       "       [13.85204041, 15.12882072],\n",
       "       [13.66644158, 14.88512313],\n",
       "       [13.81721008, 14.65298984],\n",
       "       [13.95952287, 14.6141677 ],\n",
       "       [13.89983217, 14.662073  ],\n",
       "       [13.58542697, 14.6426446 ],\n",
       "       [13.41165656, 14.4608834 ],\n",
       "       [13.70852051, 14.28493782],\n",
       "       [13.6935094 , 14.36330995],\n",
       "       [13.68317133, 14.39069926],\n",
       "       [13.14642352, 14.39403852],\n",
       "       [13.75071298, 14.11127737],\n",
       "       [12.92710824, 14.30297267],\n",
       "       [12.86421692, 13.95884402],\n",
       "       [12.98655035, 13.77090509],\n",
       "       [12.65433618, 13.75736162],\n",
       "       [13.15966103, 13.57976433],\n",
       "       [13.64475076, 13.76605277],\n",
       "       [13.74468105, 14.10381125],\n",
       "       [12.17974945, 14.29996686],\n",
       "       [16.80073759, 13.55750462],\n",
       "       [18.16890643, 15.65369468],\n",
       "       [18.40052342, 17.3076006 ],\n",
       "       [14.91201406, 18.12492362],\n",
       "       [14.99280279, 16.62518521],\n",
       "       [18.41677869, 15.99618597],\n",
       "       [18.35537175, 17.55516451],\n",
       "       [14.08601663, 18.23329169],\n",
       "       [18.48174121, 16.26613269],\n",
       "       [18.51018823, 17.69716178],\n",
       "       [13.19314323, 18.3822818 ],\n",
       "       [13.22108351, 15.86947231],\n",
       "       [13.24870229, 14.76045079],\n",
       "       [19.82129093, 14.33144121],\n",
       "       [18.96427928, 17.62294878],\n",
       "       [13.73191801, 18.62583717],\n",
       "       [13.96134309, 16.25504885],\n",
       "       [19.51216471, 15.3021764 ],\n",
       "       [19.57280317, 17.84566068],\n",
       "       [18.94594205, 19.0241624 ],\n",
       "       [12.90073122, 19.17341783],\n",
       "       [12.76013108, 16.03644588],\n",
       "       [13.15677713, 14.57393528],\n",
       "       [18.1629976 , 14.19936968],\n",
       "       [18.18484857, 16.70042724]])"
      ]
     },
     "execution_count": 44,
     "metadata": {},
     "output_type": "execute_result"
    }
   ],
   "source": [
    "np.concatenate((scaler.inverse_transform(np.array(y_true).reshape(-1, 1))[-100:], scaler.inverse_transform(np.array(y_preds).reshape(-1, 1))[-100:]), axis=1)"
   ]
  },
  {
   "cell_type": "code",
   "execution_count": 14,
   "metadata": {},
   "outputs": [
    {
     "name": "stdout",
     "output_type": "stream",
     "text": [
      "-0.004807950928807259 0.2474205493927002\n",
      "0.006857529282569885 0.1649029552936554\n"
     ]
    }
   ],
   "source": [
    "y_test_list = y_test.squeeze(-1).squeeze(-1).tolist()\n",
    "y_pred_list = model(X_test.to(device)).detach().cpu().squeeze(-1).tolist()\n",
    "print(min(y_test_list), max(y_test_list))\n",
    "print(min(y_pred_list), max(y_pred_list))"
   ]
  },
  {
   "cell_type": "code",
   "execution_count": 15,
   "metadata": {},
   "outputs": [
    {
     "data": {
      "text/plain": [
       "7.210786477263129"
      ]
     },
     "execution_count": 15,
     "metadata": {},
     "output_type": "execute_result"
    }
   ],
   "source": [
    "mean_squared_error(scaler.inverse_transform(np.array(y_test_list).reshape(-1, 1)), scaler.inverse_transform(np.array(y_pred_list).reshape(-1,1)))"
   ]
  },
  {
   "cell_type": "code",
   "execution_count": 16,
   "metadata": {},
   "outputs": [
    {
     "name": "stdout",
     "output_type": "stream",
     "text": [
      "10625 10625\n"
     ]
    },
    {
     "data": {
      "image/png": "[encoded data removed]",
      "text/plain": [
       "<Figure size 1000x500 with 1 Axes>"
      ]
     },
     "metadata": {},
     "output_type": "display_data"
    }
   ],
   "source": [
    "test_plot = y_test.squeeze(-1).squeeze(-1).tolist()\n",
    "test_pred_plot = model(X_test.to(device)).detach().cpu().squeeze(-1)\n",
    "\n",
    "print(len(test_plot), len(test_pred_plot))\n",
    "\n",
    "\n",
    "plt.figure(figsize=(10, 5))\n",
    "plt.plot(test_plot[:])\n",
    "plt.plot(test_pred_plot[:])\n",
    "plt.legend(['test', 'test_pred'])\n",
    "plt.show()"
   ]
  },
  {
   "cell_type": "code",
   "execution_count": null,
   "metadata": {},
   "outputs": [],
   "source": [
    "plt.plot(model(X_test.to(device)).detach().cpu().squeeze(-1))"
   ]
  },
  {
   "cell_type": "code",
   "execution_count": null,
   "metadata": {},
   "outputs": [],
   "source": [
    "\n",
    "with torch.no_grad():\n",
    "    # shift train predictions for plotting\n",
    "    train_plot = np.ones_like(data) * np.nan\n",
    "    print(len(train_plot))\n",
    "    y_pred = model(X_train.to(device)).detach().cpu()\n",
    "    # y_pred = y_pred[:, -1, :]\n",
    "    train_plot[n_lookback:train_size] = model(X_train.to(device)).detach().cpu() #[:, -1, :]\n",
    "    # shift test predictions for plotting\n",
    "    test_plot = np.ones_like(data) * np.nan\n",
    "    test_plot[train_size+n_lookback:len(data)] = model(X_test.to(device)).detach().cpu() #[:, -1, :]\n",
    "# plot\n",
    "# plt.plot(scaler.transform(data), c='b')\n",
    "plt.plot(train_plot, c='r')\n",
    "plt.plot(test_plot, c='g')\n",
    "plt.show()"
   ]
  },
  {
   "cell_type": "markdown",
   "metadata": {},
   "source": [
    "### LSTM (vector Input)"
   ]
  },
  {
   "cell_type": "code",
   "execution_count": null,
   "metadata": {},
   "outputs": [],
   "source": [
    "import torch\n",
    "import torch.nn as nn\n",
    "\n",
    "class AttLSTM(nn.Module):\n",
    "    def __init__(self):\n",
    "        super(AttLSTM, self).__init__()\n",
    "        \n",
    "        # First LSTM layer\n",
    "        self.lstm1 = nn.LSTM(input_size=45, hidden_size=135, num_layers=1, batch_first=True)\n",
    "        \n",
    "        # Attention layer\n",
    "        self.attention = nn.Linear(135, 1)\n",
    "        \n",
    "        # Second LSTM layer\n",
    "        self.lstm2 = nn.LSTM(input_size=135, hidden_size=135, num_layers=1, batch_first=True)\n",
    "        \n",
    "        # Dropout layers\n",
    "        self.dropout1 = nn.Dropout(0.2)\n",
    "        self.dropout2 = nn.Dropout(0.2)\n",
    "        \n",
    "        # Fully connected layer\n",
    "        self.fc = nn.Linear(135, 45)\n",
    "    \n",
    "    def forward(self, x):\n",
    "        # x shape: (batch_size, 3, 45)\n",
    "        \n",
    "        # First LSTM layer\n",
    "        lstm1_out, _ = self.lstm1(x)\n",
    "        # lstm1_out shape: (batch_size, 3, 135)\n",
    "        \n",
    "        lstm1_out = self.dropout1(lstm1_out)\n",
    "        \n",
    "        # Attention mechanism\n",
    "        attention_weights = torch.softmax(self.attention(lstm1_out), dim=1)\n",
    "        attended_out = lstm1_out * attention_weights\n",
    "        \n",
    "        # Second LSTM layer\n",
    "        lstm2_out, _ = self.lstm2(attended_out)\n",
    "        # We only want the last time step output\n",
    "        lstm2_out = lstm2_out[:, -1, :]\n",
    "        # lstm2_out shape: (batch_size, 135)\n",
    "        \n",
    "        lstm2_out = self.dropout2(lstm2_out)\n",
    "        \n",
    "        # Fully connected layer\n",
    "        out = self.fc(lstm2_out)\n",
    "        # out shape: (batch_size, 45)\n",
    "        \n",
    "        return out\n",
    "\n",
    "# Instantiate the model\n",
    "model = AttLSTM()\n",
    "\n",
    "# Example usage:\n",
    "batch_size = 50\n",
    "x = torch.randn(batch_size, 3, 45)  # (batch_size, time_steps, features)\n",
    "output = model(x)\n",
    "print(output.shape)  # Should be (batch_size, 45)"
   ]
  },
  {
   "cell_type": "code",
   "execution_count": null,
   "metadata": {},
   "outputs": [],
   "source": [
    "\n",
    "with torch.no_grad():\n",
    "    # shift train predictions for plotting\n",
    "    train_plot = np.ones_like(data) * np.nan\n",
    "    y_pred = model(X_train.to(device))\n",
    "    print(y_pred.shape)\n",
    "    # y_pred = y_pred[:, -1, :]\n",
    "    train_plot[n_lookback:train_size] = model(X_train)[:, -1, :]\n",
    "    # shift test predictions for plotting\n",
    "    test_plot = np.ones_like(data) * np.nan\n",
    "    test_plot[train_size+n_lookback:len(data)] = model(X_test)[:, -1, :]\n",
    "# plot\n",
    "plt.plot(data, c='b')\n",
    "plt.plot(train_plot, c='r')\n",
    "plt.plot(test_plot, c='g')\n",
    "plt.show()"
   ]
  },
  {
   "cell_type": "code",
   "execution_count": null,
   "metadata": {},
   "outputs": [],
   "source": []
  }
 ],
 "metadata": {
  "kernelspec": {
   "display_name": "ter",
   "language": "python",
   "name": "python3"
  },
  "language_info": {
   "codemirror_mode": {
    "name": "ipython",
    "version": 3
   },
   "file_extension": ".py",
   "mimetype": "text/x-python",
   "name": "python",
   "nbconvert_exporter": "python",
   "pygments_lexer": "ipython3",
   "version": "3.12.4"
  }
 },
 "nbformat": 4,
 "nbformat_minor": 2
}
